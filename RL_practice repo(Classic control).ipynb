{
 "cells": [
  {
   "cell_type": "code",
   "execution_count": 1,
   "metadata": {},
   "outputs": [],
   "source": [
    "%matplotlib inline\n",
    "import gym\n",
    "import math\n",
    "import random\n",
    "import numpy as np\n",
    "import matplotlib\n",
    "import matplotlib.pyplot as plt\n",
    "from collections import namedtuple\n",
    "from itertools import count\n",
    "from PIL import Image\n",
    "import torch\n",
    "import torch.nn as nn\n",
    "import torch.optim as optim\n",
    "import torch.nn.functional as F\n",
    "import torchvision.transforms as T"
   ]
  },
  {
   "cell_type": "code",
   "execution_count": 2,
   "metadata": {},
   "outputs": [],
   "source": [
    "class ReplayMemory():\n",
    "    def __init__(self, capacity):\n",
    "        self.capacity = capacity\n",
    "        self.memory = []\n",
    "        self.push_count = 0\n",
    "        \n",
    "    def push(self, experience):\n",
    "        if len(self.memory) < self.capacity:\n",
    "            self.memory.append(experience)\n",
    "        else:\n",
    "            self.memory[self.push_count % self.capacity] = experience\n",
    "        self.push_count += 1\n",
    "\n",
    "    def sample(self, batch_size):\n",
    "        return random.sample(self.memory, batch_size)\n",
    "    \n",
    "    def can_provide_sample(self, batch_size):\n",
    "        return len(self.memory) >= batch_size"
   ]
  },
  {
   "cell_type": "code",
   "execution_count": 3,
   "metadata": {},
   "outputs": [],
   "source": [
    "Experience = namedtuple(\n",
    "    'Experience',\n",
    "    ('state', 'action', 'next_state', 'reward')\n",
    ")\n",
    "\n",
    "class EpsilonGreedyStrategy():\n",
    "    def __init__(self, start, end, decay):\n",
    "        self.start = start\n",
    "        self.end = end\n",
    "        self.decay = decay\n",
    "    \n",
    "    def get_exploration_rate(self, current_step):\n",
    "        return self.end + (self.start - self.end) * \\\n",
    "            math.exp(-1. * current_step * self.decay)"
   ]
  },
  {
   "cell_type": "code",
   "execution_count": 4,
   "metadata": {},
   "outputs": [],
   "source": [
    "def extract_tensors(experiences):\n",
    "    # Convert batch of Experiences to Experience of batches\n",
    "    batch = Experience(*zip(*experiences))\n",
    "\n",
    "    t1 = torch.cat(batch.state)\n",
    "    t2 = torch.cat(batch.action)\n",
    "    t3 = torch.cat(batch.reward)\n",
    "    t4 = torch.cat(batch.next_state)\n",
    "\n",
    "    return (t1,t2,t3,t4)"
   ]
  },
  {
   "cell_type": "code",
   "execution_count": 5,
   "metadata": {},
   "outputs": [],
   "source": [
    "#DQN\n",
    "class LSTM_(torch.nn.Module):\n",
    "    def __init__(self,n_features,seq_length, linear_output, memory_size):\n",
    "        super(LSTM_, self).__init__()\n",
    "        self.n_features = n_features\n",
    "        self.seq_len = seq_length\n",
    "        self.linear_outputs = linear_output\n",
    "        self.batch_size = memory_size\n",
    "        self.n_hidden = 512 #90\n",
    "        \n",
    "        self.lstm   = nn.LSTMCell(n_features, self.n_hidden)\n",
    "        self.lstm_1 = nn.LSTMCell(self.n_hidden, self.n_hidden)\n",
    "\n",
    "        self.fc = nn.Linear(self.n_hidden,self.linear_outputs) \n",
    "        \n",
    "        \n",
    "    def forward(self, x, future = 0):\n",
    "        outputs = []\n",
    "        n_batches = x.size(0)\n",
    "        \n",
    "        #set batches to 1 if batches == memory size\n",
    "        if n_batches != 40:\n",
    "            n_batches = 1\n",
    "        \n",
    "        #print('n_batches: ',n_batches)\n",
    "        #first LSTM\n",
    "        hidden_state   = torch.zeros(n_batches, self.n_hidden, dtype = torch.float32, device=device)\n",
    "        #print('h1_size',hidden_state.shape)\n",
    "        cell_state     = torch.zeros(n_batches, self.n_hidden, dtype = torch.float32, device=device)\n",
    "        #print('c1_size',cell_state.shape)\n",
    "        \n",
    "\n",
    "        #second LSTM\n",
    "        hidden_state_1 = torch.zeros(n_batches, self.n_hidden, dtype = torch.float32, device=device)\n",
    "        #print('h2_size',hidden_state_1.shape)\n",
    "        cell_state_1   = torch.zeros(n_batches, self.n_hidden, dtype = torch.float32, device=device)\n",
    "        #print('c2_size',cell_state_1.shape)\n",
    "        \n",
    "        #print('sample_size: ',x.shape)\n",
    "        #x = torch.transpose(x, 0, 1)\n",
    "        x = x.squeeze()\n",
    "        #x = torch.transpose(x, 0, 1)\n",
    "        #print('sample_size_1: ',x.shape)\n",
    "        #print('batch/memory input size: ', x.shape[0])\n",
    "        if x.shape[0] != 40:\n",
    "            #print('batch input mode')\n",
    "            #print(x[0].shape)\n",
    "            for i in range(self.batch_size):\n",
    "                x_ = x[i]\n",
    "                mean_outputs = []\n",
    "                for input_t in torch.split(x_,1):\n",
    "                    #print('input_t(batch mode): ',input_t.shape)\n",
    "                    hidden_state, cell_state = self.lstm(input_t,(hidden_state,cell_state))\n",
    "                    hidden_state_1, cell_state_1 = self.lstm_1(hidden_state,(hidden_state_1,cell_state_1))\n",
    "                    output = self.fc(hidden_state_1)\n",
    "                    mean_outputs.append(output)\n",
    "                mean_outputs = torch.cat(mean_outputs)\n",
    "                mean_outputs = mean_outputs.mean().to('cpu')\n",
    "                #print('BO type: ',type(mean_outputs))\n",
    "                outputs.append(mean_outputs)\n",
    "            outputs = torch.stack(outputs)\n",
    "            #print('out length: ',len(outputs))\n",
    "            #print('out length: ',outputs.shape)\n",
    "            \n",
    "            print('batched outputs: ',outputs.shape, ' Expected: [256, 1]')\n",
    "            return outputs\n",
    "        else:\n",
    "            for input_t in torch.split(x, 1):\n",
    "                #print('input_t ',input_t.shape)\n",
    "                hidden_state, cell_state = self.lstm(input_t,(hidden_state,cell_state))\n",
    "                hidden_state_1, cell_state_1 = self.lstm_1(hidden_state,(hidden_state_1,cell_state_1))\n",
    "                output = self.fc(hidden_state_1)\n",
    "                outputs.append(output)\n",
    "        \n",
    "            for i in range(future):\n",
    "                hidden_state, cell_state = self.lstm(output,(hidden_state,cell_state))\n",
    "                hidden_state_1, cell_state_1 = self.lstm_1(hidden_state,(hidden_state_1,cell_state_1))\n",
    "                output = self.fc(hidden_state_1)\n",
    "                outputs.append(output)\n",
    "        \n",
    "            outputs = torch.cat(outputs)\n",
    "            outputs = outputs.mean().to('cpu')\n",
    "            print('outputs: ',outputs.shape, ' Expected: [1]')\n",
    "            return outputs"
   ]
  },
  {
   "cell_type": "code",
   "execution_count": 6,
   "metadata": {},
   "outputs": [],
   "source": [
    "class EnvManager():\n",
    "    def __init__(self, device,environment):\n",
    "        self.device = device\n",
    "        self.env = gym.make(environment).unwrapped\n",
    "        self.env.reset()\n",
    "        self.current_screen = None\n",
    "        self.done = False\n",
    "    \n",
    "    def reset(self):\n",
    "        self.env.reset()\n",
    "        self.current_screen = None\n",
    "        \n",
    "    def close(self):\n",
    "        self.env.close()\n",
    "        \n",
    "    def render(self, mode='human'):\n",
    "        return self.env.render(mode)\n",
    "        \n",
    "    def num_actions_available(self):\n",
    "        return self.env.action_space\n",
    "        \n",
    "    def take_action(self, action):        \n",
    "        _, reward, self.done, _ = self.env.step(action)\n",
    "        return torch.tensor([reward], device=self.device)\n",
    "    \n",
    "    def just_starting(self):\n",
    "        return self.current_screen is None\n",
    "    \n",
    "    def get_state(self):\n",
    "        if self.just_starting() or self.done:\n",
    "            self.current_screen = self.get_processed_screen()\n",
    "            black_screen = torch.zeros_like(self.current_screen)\n",
    "            return black_screen\n",
    "        else:\n",
    "            s1 = self.current_screen\n",
    "            s2 = self.get_processed_screen()\n",
    "            self.current_screen = s2\n",
    "            return s2 - s1\n",
    "    \n",
    "    def get_screen_height(self):\n",
    "        screen = self.get_processed_screen()\n",
    "        return screen.shape[2]\n",
    "    \n",
    "    def get_screen_width(self):\n",
    "        screen = self.get_processed_screen()\n",
    "        return screen.shape[3]\n",
    "       \n",
    "    def get_processed_screen(self):\n",
    "        screen = em.render('rgb_array')\n",
    "        rgb_weights = [0.2989, 0.5870, 0.1140]\n",
    "        grayscale_image = np.dot(screen[...,:3], rgb_weights) \n",
    "        screen = grayscale_image.transpose((0, 1)) # PyTorch expects CHW\n",
    "        #print(type(screen)) # numpy\n",
    "        screen = self.crop_screen(screen)\n",
    "        return self.transform_screen_data(screen)\n",
    "    \n",
    "    def crop_screen(self, screen):\n",
    "        screen_height = screen.shape[0]\n",
    "        screen_width  = screen.shape[1]\n",
    "        #print('screen height(top/bottom): ',screen_height)\n",
    "        #print('screen height(left/right): ',screen_width)\n",
    "        # Strip off top and bottom\n",
    "        top = int(screen_height * 0.2)\n",
    "        #print('top: ',top)\n",
    "        bottom = int(screen_height * 0.8)\n",
    "        #print('bottom: ',bottom)\n",
    "        \n",
    "        \n",
    "        #strip off left/right\n",
    "        left  = int(screen_width * 0.2)\n",
    "        #print('left: ',left)\n",
    "        right = int(screen_width * 0.8)\n",
    "        #print('right: ',right)\n",
    "        \n",
    "        screen = screen[top:bottom, left:right]\n",
    "        return screen\n",
    "    \n",
    "    \n",
    "    def transform_screen_data(self, screen):       \n",
    "        # Convert to float, rescale, convert to tensor\n",
    "        screen = np.ascontiguousarray(screen, dtype=np.float32) / 255\n",
    "        screen = torch.from_numpy(screen)\n",
    "        \n",
    "        # Use torchvision package to compose image transforms\n",
    "        resize = T.Compose([\n",
    "            T.ToPILImage()\n",
    "            ,T.Resize((40,90))\n",
    "            ,T.ToTensor()\n",
    "        ])\n",
    "        \n",
    "        return resize(screen).unsqueeze(0).to(self.device) # add a batch dimension (BCHW)"
   ]
  },
  {
   "cell_type": "code",
   "execution_count": null,
   "metadata": {},
   "outputs": [
    {
     "name": "stderr",
     "output_type": "stream",
     "text": [
      "Exception ignored in: <function Viewer.__del__ at 0x000001687E931828>\n",
      "Traceback (most recent call last):\n",
      "  File \"c:\\users\\scowt\\appdata\\local\\programs\\python\\python37\\lib\\site-packages\\gym\\envs\\classic_control\\rendering.py\", line 165, in __del__\n",
      "    self.close()\n",
      "  File \"c:\\users\\scowt\\appdata\\local\\programs\\python\\python37\\lib\\site-packages\\gym\\envs\\classic_control\\rendering.py\", line 83, in close\n",
      "    self.window.close()\n",
      "  File \"c:\\users\\scowt\\appdata\\local\\programs\\python\\python37\\lib\\site-packages\\pyglet\\window\\win32\\__init__.py\", line 299, in close\n",
      "    super(Win32Window, self).close()\n",
      "  File \"c:\\users\\scowt\\appdata\\local\\programs\\python\\python37\\lib\\site-packages\\pyglet\\window\\__init__.py\", line 823, in close\n",
      "    app.windows.remove(self)\n",
      "  File \"c:\\users\\scowt\\appdata\\local\\programs\\python\\python37\\lib\\_weakrefset.py\", line 109, in remove\n",
      "    self.data.remove(ref(item))\n",
      "KeyError: (<weakref at 0x000001687E5AC5E8; to 'Win32Window' at 0x000001687E589F48>,)\n"
     ]
    }
   ],
   "source": [
    "device = torch.device(\"cuda\" if torch.cuda.is_available() else \"cpu\")\n",
    "environment = 'Pendulum-v0'\n",
    "em = EnvManager(device,environment)\n",
    "em.reset()\n",
    "screen = em.render('rgb_array')\n",
    "\n",
    "\n",
    "\n",
    "\n",
    "plt.figure()\n",
    "plt.imshow(screen)\n",
    "plt.title('Non-processed screen example')\n",
    "plt.show()\n",
    "em.close()"
   ]
  },
  {
   "cell_type": "code",
   "execution_count": 25,
   "metadata": {},
   "outputs": [],
   "source": [
    "em.close()"
   ]
  },
  {
   "cell_type": "code",
   "execution_count": 26,
   "metadata": {},
   "outputs": [
    {
     "name": "stdout",
     "output_type": "stream",
     "text": [
      "<class 'numpy.ndarray'>\n"
     ]
    },
    {
     "data": {
      "image/png": "[encoded data removed]",
      "text/plain": [
       "<Figure size 432x288 with 1 Axes>"
      ]
     },
     "metadata": {
      "needs_background": "light"
     },
     "output_type": "display_data"
    }
   ],
   "source": [
    "screen = em.get_processed_screen()\n",
    "\n",
    "plt.figure()\n",
    "plt.imshow(screen.squeeze(0).permute(1, 2, 0).cpu(), interpolation='none')\n",
    "plt.title('Processed screen example')\n",
    "plt.show()\n",
    "em.close()"
   ]
  },
  {
   "cell_type": "code",
   "execution_count": 27,
   "metadata": {},
   "outputs": [],
   "source": [
    "import gym\n",
    "env = gym.make('Pendulum-v0')\n",
    "env.reset()\n",
    "for _ in range(1000):\n",
    "    env.render()\n",
    "    #print(len(env.action_space.sample()))\n",
    "    #print('next')\n",
    "    #a = [-1.4]\n",
    "    env.step(env.action_space.sample()) # take a random action\n",
    "env.close()"
   ]
  },
  {
   "cell_type": "code",
   "execution_count": 28,
   "metadata": {},
   "outputs": [],
   "source": [
    "#output is a continuous variable"
   ]
  },
  {
   "cell_type": "code",
   "execution_count": 30,
   "metadata": {},
   "outputs": [
    {
     "name": "stdout",
     "output_type": "stream",
     "text": [
      "<class 'numpy.ndarray'>\n"
     ]
    },
    {
     "data": {
      "image/png": "[encoded data removed]",
      "text/plain": [
       "<Figure size 432x288 with 1 Axes>"
      ]
     },
     "metadata": {
      "needs_background": "light"
     },
     "output_type": "display_data"
    }
   ],
   "source": [
    "for i in range(5):\n",
    "    a = [-1.4]\n",
    "    em.take_action(a)\n",
    "screen = em.get_state()\n",
    "plt.figure()\n",
    "plt.imshow(screen.squeeze(0).permute(1, 2, 0).cpu(), interpolation='none')\n",
    "plt.title('Non-starting state example')\n",
    "plt.show()\n",
    "em.close()"
   ]
  },
  {
   "cell_type": "code",
   "execution_count": 30,
   "metadata": {},
   "outputs": [
    {
     "name": "stdout",
     "output_type": "stream",
     "text": [
      "tensor([[[[0., 0., 0.,  ..., 0., 0., 0.],\n",
      "          [0., 0., 0.,  ..., 0., 0., 0.],\n",
      "          [0., 0., 0.,  ..., 0., 0., 0.],\n",
      "          ...,\n",
      "          [0., 0., 0.,  ..., 0., 0., 0.],\n",
      "          [0., 0., 0.,  ..., 0., 0., 0.],\n",
      "          [0., 0., 0.,  ..., 0., 0., 0.]]]])\n"
     ]
    },
    {
     "data": {
      "image/png": "[encoded data removed]",
      "text/plain": [
       "<Figure size 432x288 with 1 Axes>"
      ]
     },
     "metadata": {
      "needs_background": "light"
     },
     "output_type": "display_data"
    }
   ],
   "source": [
    "screen = em.get_state()\n",
    "print(screen)\n",
    "plt.figure()\n",
    "plt.imshow(screen.squeeze(0).permute(1, 2, 0).cpu(), interpolation='none')\n",
    "plt.title('Starting state example')\n",
    "plt.show()\n",
    "em.close()"
   ]
  },
  {
   "cell_type": "code",
   "execution_count": 31,
   "metadata": {},
   "outputs": [
    {
     "data": {
      "image/png": "[encoded data removed]",
      "text/plain": [
       "<Figure size 432x288 with 1 Axes>"
      ]
     },
     "metadata": {
      "needs_background": "light"
     },
     "output_type": "display_data"
    }
   ],
   "source": [
    "em.done = True\n",
    "screen = em.get_state()\n",
    "\n",
    "plt.figure()\n",
    "plt.imshow(screen.squeeze(0).permute(1, 2, 0).cpu(), interpolation='none')\n",
    "plt.title('Ending state example')\n",
    "plt.show()\n",
    "em.close()"
   ]
  },
  {
   "cell_type": "code",
   "execution_count": 28,
   "metadata": {},
   "outputs": [],
   "source": [
    "em.close()"
   ]
  },
  {
   "cell_type": "code",
   "execution_count": 7,
   "metadata": {},
   "outputs": [],
   "source": [
    "class Agent():\n",
    "    def __init__(self, strategy, device):\n",
    "        self.current_step = 0\n",
    "        self.strategy = strategy\n",
    "        self.device = device\n",
    "\n",
    "    def select_action(self, state, policy_net):\n",
    "        rate = strategy.get_exploration_rate(self.current_step)\n",
    "        self.current_step += 1\n",
    "\n",
    "        if rate > random.random():\n",
    "            #print('random')\n",
    "            action = random.randrange(-2,2)\n",
    "            return torch.tensor([action]).to(self.device) # explore      \n",
    "        else:\n",
    "            #print('network')\n",
    "            with torch.no_grad():\n",
    "                tensors = policy_net(state).to(self.device) # exploit\n",
    "                #tensors = tensors.mean().to(self.device)\n",
    "                return torch.tensor([tensors]).to(self.device)"
   ]
  },
  {
   "cell_type": "code",
   "execution_count": 8,
   "metadata": {},
   "outputs": [],
   "source": [
    "class QValues():\n",
    "    device = torch.device(\"cuda\" if torch.cuda.is_available() else \"cpu\")\n",
    "    \n",
    "    @staticmethod\n",
    "    def get_current(policy_net, states, actions):\n",
    "        #what this basically does is given a state and action\n",
    "        #the probabilities for selected action are grapped from policy net\n",
    "        #print('squeezing')\n",
    "        states = states.squeeze()\n",
    "        return policy_net(states)\n",
    "    \n",
    "    @staticmethod        \n",
    "    def get_next(target_net, next_states):                \n",
    "        final_state_locations = next_states.flatten(start_dim=1).max(dim=1)[0].eq(0).type(torch.bool)\n",
    "        print('fsl shape: ',final_state_locations.shape)\n",
    "        non_final_state_locations = (final_state_locations == False)\n",
    "        print('n-fsl shape: ',non_final_state_locations.shape)\n",
    "        non_final_states = next_states[non_final_state_locations]\n",
    "        print('nfsts: ',non_final_states.shape)\n",
    "        batch_size = next_states.shape[0]\n",
    "        values = torch.zeros(batch_size).to(QValues.device)\n",
    "        \n",
    "        print('target net size: ',non_final_states.shape)\n",
    "        values[non_final_state_locations] = target_net(non_final_states).detach()\n",
    "        return values"
   ]
  },
  {
   "cell_type": "code",
   "execution_count": null,
   "metadata": {},
   "outputs": [
    {
     "name": "stdout",
     "output_type": "stream",
     "text": [
      "outputs:  torch.Size([])  Expected: [1]\n",
      "batched outputs:  torch.Size([100])  Expected: [256, 1]\n",
      "states:  torch.Size([100, 1, 40, 90])\n",
      "actions:  torch.Size([100])\n",
      "CQV:  torch.Size([100])\n",
      "fsl shape:  torch.Size([100])\n",
      "n-fsl shape:  torch.Size([100])\n",
      "nfsts:  torch.Size([100, 1, 40, 90])\n",
      "target net size:  torch.Size([100, 1, 40, 90])\n",
      "batched outputs:  torch.Size([100])  Expected: [256, 1]\n",
      "calculating loss....\n",
      "zero grd....\n",
      "bckwrd....\n",
      "step....\n",
      "batched outputs:  torch.Size([100])  Expected: [256, 1]\n",
      "states:  torch.Size([100, 1, 40, 90])\n",
      "actions:  torch.Size([100])\n",
      "CQV:  torch.Size([100])\n",
      "fsl shape:  torch.Size([100])\n",
      "n-fsl shape:  torch.Size([100])\n",
      "nfsts:  torch.Size([100, 1, 40, 90])\n",
      "target net size:  torch.Size([100, 1, 40, 90])\n",
      "batched outputs:  torch.Size([100])  Expected: [256, 1]\n",
      "calculating loss....\n",
      "zero grd....\n",
      "bckwrd....\n",
      "step....\n",
      "batched outputs:  torch.Size([100])  Expected: [256, 1]\n",
      "states:  torch.Size([100, 1, 40, 90])\n",
      "actions:  torch.Size([100])\n",
      "CQV:  torch.Size([100])\n",
      "fsl shape:  torch.Size([100])\n",
      "n-fsl shape:  torch.Size([100])\n",
      "nfsts:  torch.Size([100, 1, 40, 90])\n",
      "target net size:  torch.Size([100, 1, 40, 90])\n",
      "batched outputs:  torch.Size([100])  Expected: [256, 1]\n",
      "calculating loss....\n",
      "zero grd....\n",
      "bckwrd....\n"
     ]
    }
   ],
   "source": [
    "batch_size = 100\n",
    "gamma = 0.999\n",
    "eps_start = 1\n",
    "eps_end = 0.01\n",
    "eps_decay = 0.001\n",
    "target_update = 10\n",
    "memory_size = 100000\n",
    "lr = 0.001\n",
    "num_episodes = 100 # run for more episodes for better results\n",
    "\n",
    "device = torch.device(\"cuda\" if torch.cuda.is_available() else \"cpu\")\n",
    "em = EnvManager(device,'Pendulum-v0')\n",
    "strategy = EpsilonGreedyStrategy(eps_start, eps_end, eps_decay)\n",
    "agent = Agent(strategy,device)\n",
    "memory = ReplayMemory(memory_size)\n",
    "output_num = 1\n",
    "policy_net = LSTM_(em.get_screen_width(),em.get_screen_height(), output_num,batch_size).to(device)\n",
    "target_net = LSTM_(em.get_screen_width(),em.get_screen_height(), output_num,batch_size).to(device)\n",
    "target_net.load_state_dict(policy_net.state_dict())\n",
    "target_net.eval()\n",
    "optimizer = optim.Adam(params=policy_net.parameters(), lr=lr)\n",
    "\n",
    "episode_durations = []\n",
    "for episode in range(num_episodes):\n",
    "    em.reset()\n",
    "    state = em.get_state()\n",
    "    for timestep in count():\n",
    "        action = agent.select_action(state, policy_net)\n",
    "        reward = em.take_action(action)\n",
    "        next_state = em.get_state()\n",
    "        memory.push(Experience(state, action, next_state, reward))\n",
    "        state = next_state\n",
    "\n",
    "        if memory.can_provide_sample(batch_size):\n",
    "            experiences = memory.sample(batch_size)\n",
    "            states, actions, rewards, next_states = extract_tensors(experiences)\n",
    "            \n",
    "            current_q_values = QValues.get_current(policy_net, states, actions)\n",
    "            print('states: ', states.shape)\n",
    "            print('actions: ', actions.shape)\n",
    "            print('CQV: ',current_q_values.shape)\n",
    "            next_q_values   = QValues.get_next(target_net, next_states)\n",
    "            target_q_values = (next_q_values * gamma) + rewards\n",
    "            current_q_values= current_q_values.to(torch.float32)\n",
    "            target_q_values = target_q_values.to(torch.float32)\n",
    "            print('calculating loss....')\n",
    "            loss = F.mse_loss(current_q_values.unsqueeze(1), target_q_values.unsqueeze(1))\n",
    "            print('zero grd....')\n",
    "            optimizer.zero_grad()\n",
    "            print('bckwrd....')\n",
    "            loss.backward()\n",
    "            print('step....')\n",
    "            optimizer.step()\n",
    "            \n",
    "        if em.done:\n",
    "            print('done')\n",
    "            episode_durations.append(timestep)\n",
    "            plot(episode_durations, 100)\n",
    "            break\n",
    "\n",
    "    if episode % target_update == 0:\n",
    "        print('updating target...')\n",
    "        target_net.load_state_dict(policy_net.state_dict())\n",
    "        \n",
    "em.close()"
   ]
  },
  {
   "cell_type": "code",
   "execution_count": null,
   "metadata": {},
   "outputs": [],
   "source": [
    "em.close()"
   ]
  },
  {
   "cell_type": "code",
   "execution_count": 39,
   "metadata": {},
   "outputs": [
    {
     "data": {
      "text/plain": [
       "__main__.Experience"
      ]
     },
     "execution_count": 39,
     "metadata": {},
     "output_type": "execute_result"
    }
   ],
   "source": [
    "Experience"
   ]
  },
  {
   "cell_type": "code",
   "execution_count": null,
   "metadata": {},
   "outputs": [],
   "source": []
  },
  {
   "cell_type": "code",
   "execution_count": null,
   "metadata": {},
   "outputs": [],
   "source": []
  }
 ],
 "metadata": {
  "kernelspec": {
   "display_name": "Python 3",
   "language": "python",
   "name": "python3"
  },
  "language_info": {
   "codemirror_mode": {
    "name": "ipython",
    "version": 3
   },
   "file_extension": ".py",
   "mimetype": "text/x-python",
   "name": "python",
   "nbconvert_exporter": "python",
   "pygments_lexer": "ipython3",
   "version": "3.7.9"
  }
 },
 "nbformat": 4,
 "nbformat_minor": 4
}
