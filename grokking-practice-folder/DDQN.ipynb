{
 "cells": [
  {
   "cell_type": "code",
   "execution_count": 1,
   "metadata": {},
   "outputs": [],
   "source": [
    "import numpy as np\n",
    "import gym\n",
    "from tqdm import tqdm\n",
    "import random as rand"
   ]
  },
  {
   "cell_type": "code",
   "execution_count": 2,
   "metadata": {},
   "outputs": [],
   "source": [
    "import math\n",
    "import random\n",
    "import numpy as np\n",
    "import torch\n",
    "import torch.nn as nn\n",
    "import torch.optim as optim\n",
    "import torch.nn.functional as F\n",
    "import torchvision.transforms as T\n",
    "from random import seed\n",
    "from sklearn import preprocessing\n",
    "from torch.nn.init import kaiming_uniform_\n",
    "seed(1)"
   ]
  },
  {
   "cell_type": "code",
   "execution_count": 9,
   "metadata": {},
   "outputs": [],
   "source": [
    "env = gym.make(\"CartPole-v0\")"
   ]
  },
  {
   "cell_type": "code",
   "execution_count": 3,
   "metadata": {},
   "outputs": [],
   "source": [
    "class ReplayMemory():\n",
    "    def __init__(self,capacity):   \n",
    "        self.capacity = capacity\n",
    "        self.memory = []\n",
    "        self.push_count = 0\n",
    "        \n",
    "    def push(self, experience):\n",
    "        if len(self.memory) < self.capacity:\n",
    "            self.memory.append(experience)\n",
    "        else:\n",
    "            self.memory[self.push_count%self.capacity] = experience\n",
    "        self.push_count+=1\n",
    "    \n",
    "    def sample(self, batch_size):\n",
    "        return rand.sample(self.memory,batch_size)\n",
    "    \n",
    "    def can_provide_sample(self, batch_size):\n",
    "        return len(self.memory)>=batch_size"
   ]
  },
  {
   "cell_type": "code",
   "execution_count": 4,
   "metadata": {},
   "outputs": [],
   "source": [
    "def extract_tensors(experiences):\n",
    "    batch = Xp(*zip(*experiences))\n",
    "    state = np.stack(batch.state) #stack\n",
    "    action = np.stack(batch.action)\n",
    "    next_state = np.stack(batch.next_state)\n",
    "    reward = np.stack(batch.reward)\n",
    "    done = np.stack(batch.done)\n",
    "    return state,action,next_state,reward,done"
   ]
  },
  {
   "cell_type": "code",
   "execution_count": 5,
   "metadata": {},
   "outputs": [
    {
     "data": {
      "text/plain": [
       "Experience(state=5, action=6, next_state=7, reward=8, done=9)"
      ]
     },
     "execution_count": 5,
     "metadata": {},
     "output_type": "execute_result"
    }
   ],
   "source": [
    "from collections import namedtuple\n",
    "Xp = namedtuple('Experience',\n",
    "                        ('state', 'action', 'next_state', 'reward', 'done'))\n",
    "Xp_points = Xp(5,6,7,8,9)\n",
    "Xp_points"
   ]
  },
  {
   "cell_type": "code",
   "execution_count": 6,
   "metadata": {},
   "outputs": [],
   "source": [
    "class linearApproximator(nn.Module):\n",
    "    def __init__(self,state_shape,n_fc1,n_fc2, action_n):\n",
    "        super(linearApproximator, self).__init__()\n",
    "        self.input_size = state_shape\n",
    "        self.n_fc1 = n_fc1\n",
    "        self.n_fc2 = n_fc2\n",
    "        self.out = action_n\n",
    "        self.device = torch.device(\"cuda\" if torch.cuda.is_available() else \"cpu\")\n",
    "        \n",
    "        self.fc1  = nn.Linear(self.input_size,self.n_fc1)\n",
    "        self.fc2  = nn.Linear(self.n_fc1,self.n_fc2)\n",
    "        self.fc3  = nn.Linear(self.n_fc2,self.out)\n",
    "        self.to(self.device)\n",
    "        \n",
    "    def forward(self, state_shape):\n",
    "        x = self.fc1(state_shape)\n",
    "        x = F.relu(x)\n",
    "        x = self.fc2(x)\n",
    "        x = F.relu(x)\n",
    "        out = self.fc3(x)\n",
    "        return out"
   ]
  },
  {
   "cell_type": "code",
   "execution_count": 7,
   "metadata": {},
   "outputs": [],
   "source": [
    "#update target model after n timesteps\n",
    "def update_target_network(target_network, online_network):\n",
    "    target_network.load_state_dict(online_network.state_dict())"
   ]
  },
  {
   "cell_type": "code",
   "execution_count": 8,
   "metadata": {},
   "outputs": [],
   "source": [
    "def freeze_model(model):\n",
    "    for param in model.parameters():\n",
    "        param.requires_grad = False"
   ]
  },
  {
   "cell_type": "code",
   "execution_count": 10,
   "metadata": {},
   "outputs": [],
   "source": [
    "def select_action(state, model, epsilon):\n",
    "    device = torch.device(\"cuda\" if torch.cuda.is_available() else \"cpu\")\n",
    "    state = torch.tensor(state).float()\n",
    "    with torch.no_grad():\n",
    "        q_values= model(state).cpu().detach()\n",
    "        q_values = q_values.data.numpy().squeeze()\n",
    "    if np.random.rand() > epsilon:\n",
    "        action = np.argmax(q_values)\n",
    "    else:\n",
    "        action = np.random.randint(len(q_values))\n",
    "    return action"
   ]
  },
  {
   "cell_type": "code",
   "execution_count": 49,
   "metadata": {},
   "outputs": [],
   "source": [
    "def update_online_model(experience_samples, online_network, target_network, gamma, optimizer):\n",
    "    states, actions, next_states, rewards, done = extract_tensors(experience_samples)\n",
    "    \n",
    "    states = torch.tensor(states).float()\n",
    "    actions = torch.tensor(actions)\n",
    "    actions = actions.type(torch.LongTensor)\n",
    "    actions = actions.unsqueeze(1)\n",
    "    next_states=torch.tensor(next_states).float()\n",
    "    rewards = torch.tensor(rewards).float()\n",
    "    done = torch.tensor(done).float()\n",
    "    \n",
    "    q_online_next_states = online_network(next_states)#we now take next_states from online network \n",
    "    q_online_next_states = q_online_next_states.max(1)[1]#we now take the indices and not the values from online network\n",
    "    q_online_next_states = q_online_next_states.unsqueeze(1)#iindices\n",
    "    \n",
    "    q_online_state = online_network(states)\n",
    "    q_online_state = q_online_state.gather(1, actions)\n",
    "    \n",
    "    q_target_next_states_action = target_network(next_states)\n",
    "    q_target_next_states_action = q_target_next_states_action.detach()#always make sure detach on target net\n",
    "    q_target_next_states_action = q_target_next_states_action.gather(1, q_online_next_states)\n",
    "    done = done.unsqueeze(1)\n",
    "    #print(q_target_next_states_action.shape, done.shape)\n",
    "    q_target_next_states_action *=(1 - done) \n",
    "    \n",
    "    q_target = rewards + gamma*q_target_next_states_action\n",
    "    q_error = q_target - q_online_state\n",
    "    q_loss = q_error.pow(2).mul(0.5).mean()\n",
    "    \n",
    "    optimizer.zero_grad()\n",
    "    q_loss.backward()\n",
    "   \n",
    "    optimizer.step()"
   ]
  },
  {
   "cell_type": "code",
   "execution_count": 50,
   "metadata": {},
   "outputs": [],
   "source": [
    "def epsilon_decay_linear(init_eps, min_eps, decay_ratio, timestep, timestep_max):\n",
    "    #timestep_max = (timestep + 1)*100000\n",
    "    decay_t_step = timestep_max*decay_ratio\n",
    "    epsilon = 1 - timestep/decay_t_step\n",
    "    epsilon *= init_eps-min_eps\n",
    "    epsilon+=min_eps\n",
    "    epsilon = np.clip(epsilon, min_eps, init_eps)\n",
    "    return epsilon"
   ]
  },
  {
   "cell_type": "code",
   "execution_count": 51,
   "metadata": {},
   "outputs": [],
   "source": [
    "def DDQN_(env,\n",
    "         gamma=0.8,\n",
    "         memory_size = 50000,\n",
    "         init_epsilon=1.0,\n",
    "         min_epsilon=0.3,\n",
    "         epsilon_decay_ratio=0.6,\n",
    "         sample_size=64,\n",
    "         n_ep=20000,\n",
    "        target_update=15,\n",
    "        max_t_steps = 100000):\n",
    "    \n",
    "    action_space = env.action_space.n\n",
    "    state = env.reset()\n",
    "    \n",
    "    online_net = linearApproximator(len(state), 512, 128, action_space)\n",
    "    target_net = linearApproximator(len(state), 512, 128, action_space)\n",
    "    \n",
    "    target_net.load_state_dict(online_net.state_dict())\n",
    "    target_net.eval()\n",
    "    freeze_model(target_net)\n",
    "    optimizer = torch.optim.Adam(online_net.parameters(),lr=0.0007)\n",
    "    \n",
    "    memory = ReplayMemory(memory_size)\n",
    "    \n",
    "    t_step = 0 #important\n",
    "    reward_per_ep = []\n",
    "    \n",
    "    for e in tqdm(range(n_ep)):\n",
    "        state = env.reset()\n",
    "        curr_reward = 0\n",
    "        while True:\n",
    "            epsilon = epsilon_decay_linear(init_epsilon, min_epsilon, epsilon_decay_ratio, t_step, max_t_steps)\n",
    "            action = select_action(state, online_net, epsilon)\n",
    "            next_state, reward, done, info = env.step(action)\n",
    "            is_truncated = 'TimeLimit.truncated' in info and\\\n",
    "                                info['TimeLimit.truncated']\n",
    "            is_failure = done and not is_truncated\n",
    "            done = is_failure\n",
    "            curr_reward+=reward\n",
    "            \n",
    "            memory.push(Xp(state,action,next_state,reward,done))\n",
    "            \n",
    "            t_step+=1\n",
    "            \n",
    "            state = next_state\n",
    "            if memory.can_provide_sample(sample_size):\n",
    "                experience_samples = memory.sample(sample_size)\n",
    "                update_online_model(experience_samples, online_net, target_net, gamma, optimizer)\n",
    "                \n",
    "            if t_step % target_update == 0:\n",
    "                update_target_network(target_net, online_net)\n",
    "                #print(t_step)\n",
    "            if done == True:\n",
    "                break    \n",
    "        reward_per_ep.append(curr_reward)\n",
    "        if t_step >= max_t_steps:\n",
    "            break\n",
    "    return reward_per_ep,online_net"
   ]
  },
  {
   "cell_type": "code",
   "execution_count": 52,
   "metadata": {},
   "outputs": [
    {
     "name": "stderr",
     "output_type": "stream",
     "text": [
      " 16%|████████████▌                                                                | 3254/20000 [06:24<33:00,  8.46it/s]\n"
     ]
    }
   ],
   "source": [
    "reward, network_ = DDQN_(env)"
   ]
  },
  {
   "cell_type": "code",
   "execution_count": 53,
   "metadata": {},
   "outputs": [],
   "source": [
    "from matplotlib import pyplot as plt\n",
    "x = []\n",
    "y = []\n",
    "for i,e in enumerate(reward):\n",
    "    y.append(i)\n",
    "    x.append(e)"
   ]
  },
  {
   "cell_type": "code",
   "execution_count": 54,
   "metadata": {},
   "outputs": [
    {
     "data": {
      "text/plain": [
       "[<matplotlib.lines.Line2D at 0x20583ab0208>]"
      ]
     },
     "execution_count": 54,
     "metadata": {},
     "output_type": "execute_result"
    },
    {
     "data": {
      "image/png": "[encoded data removed]",
      "text/plain": [
       "<Figure size 432x288 with 1 Axes>"
      ]
     },
     "metadata": {
      "needs_background": "light"
     },
     "output_type": "display_data"
    }
   ],
   "source": [
    "plt.plot(y, x)"
   ]
  },
  {
   "cell_type": "code",
   "execution_count": null,
   "metadata": {},
   "outputs": [],
   "source": []
  }
 ],
 "metadata": {
  "kernelspec": {
   "display_name": "Python 3",
   "language": "python",
   "name": "python3"
  },
  "language_info": {
   "codemirror_mode": {
    "name": "ipython",
    "version": 3
   },
   "file_extension": ".py",
   "mimetype": "text/x-python",
   "name": "python",
   "nbconvert_exporter": "python",
   "pygments_lexer": "ipython3",
   "version": "3.7.9"
  }
 },
 "nbformat": 4,
 "nbformat_minor": 4
}
