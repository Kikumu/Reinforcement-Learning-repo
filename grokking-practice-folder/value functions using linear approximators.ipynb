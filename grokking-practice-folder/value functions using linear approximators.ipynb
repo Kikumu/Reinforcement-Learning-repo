{
 "cells": [
  {
   "cell_type": "code",
   "execution_count": 1,
   "metadata": {},
   "outputs": [],
   "source": [
    "import numpy as np\n",
    "import gym\n",
    "from tqdm import tqdm\n",
    "import random as rand"
   ]
  },
  {
   "cell_type": "code",
   "execution_count": 2,
   "metadata": {},
   "outputs": [],
   "source": [
    "import math\n",
    "import random\n",
    "import numpy as np\n",
    "import torch\n",
    "import torch.nn as nn\n",
    "import torch.optim as optim\n",
    "import torch.nn.functional as F\n",
    "import torchvision.transforms as T\n",
    "from random import seed\n",
    "from sklearn import preprocessing\n",
    "from torch.nn.init import kaiming_uniform_\n",
    "seed(1)"
   ]
  },
  {
   "cell_type": "code",
   "execution_count": 3,
   "metadata": {},
   "outputs": [],
   "source": [
    "class ReplayMemory():\n",
    "    def __init__(self,capacity):   \n",
    "        self.capacity = capacity\n",
    "        self.memory = []\n",
    "        self.push_count = 0\n",
    "        \n",
    "    def push(self, experience):\n",
    "        if len(self.memory) < self.capacity:\n",
    "            self.memory.append(experience)\n",
    "        else:\n",
    "            self.memory[self.push_count%self.capacity] = experience\n",
    "        self.push_count+=1\n",
    "    \n",
    "    def sample(self, batch_size):\n",
    "        return rand.sample(self.memory,batch_size)\n",
    "    \n",
    "    def can_provide_sample(self, batch_size):\n",
    "        return len(self.memory)>=batch_size"
   ]
  },
  {
   "cell_type": "code",
   "execution_count": 4,
   "metadata": {},
   "outputs": [
    {
     "data": {
      "text/plain": [
       "Experience(state=5, action=6, next_state=7, reward=8, done=9)"
      ]
     },
     "execution_count": 4,
     "metadata": {},
     "output_type": "execute_result"
    }
   ],
   "source": [
    "from collections import namedtuple\n",
    "Xp = namedtuple('Experience',\n",
    "                        ('state', 'action', 'next_state', 'reward', 'done'))\n",
    "Xp_points = Xp(5,6,7,8,9)\n",
    "Xp_points"
   ]
  },
  {
   "cell_type": "code",
   "execution_count": 5,
   "metadata": {},
   "outputs": [],
   "source": [
    "def extract_tensors(experiences):\n",
    "    batch = Xp(*zip(*experiences))\n",
    "    state = np.stack(batch.state) #stack\n",
    "    action = np.stack(batch.action)\n",
    "    next_state = np.stack(batch.next_state)\n",
    "    reward = np.stack(batch.reward)\n",
    "    done = np.stack(batch.done)\n",
    "    return state,action,next_state,reward,done"
   ]
  },
  {
   "cell_type": "code",
   "execution_count": 6,
   "metadata": {},
   "outputs": [],
   "source": [
    "def decay_schedule(init_value,\n",
    "                   min_value,\n",
    "                   decay_ratio,\n",
    "                   max_steps,\n",
    "                   log_start = -2,\n",
    "                   log_base=10\n",
    "):\n",
    "    decay_steps = int(max_steps * decay_ratio)\n",
    "    rem_steps = max_steps - decay_steps\n",
    "    \n",
    "    values = np.logspace(log_start,\n",
    "                        0,\n",
    "                        decay_steps,\n",
    "                        base = log_base,\n",
    "                        endpoint = True)[::-1]\n",
    "\n",
    "    \n",
    "    values = (values - values.min())/(values.max() - values.min())\n",
    "    values = np.pad(values, (0, rem_steps), 'edge')\n",
    "    return values"
   ]
  },
  {
   "cell_type": "code",
   "execution_count": 7,
   "metadata": {},
   "outputs": [],
   "source": [
    "class linearApproximator(nn.Module):\n",
    "    def __init__(self,state_shape,n_fc1,n_fc2, action_n):\n",
    "        super(linearApproximator, self).__init__()\n",
    "        self.input_size = state_shape\n",
    "        self.n_fc1 = n_fc1\n",
    "        self.n_fc2 = n_fc2\n",
    "        self.out = action_n\n",
    "        self.device = torch.device(\"cuda\" if torch.cuda.is_available() else \"cpu\")\n",
    "        \n",
    "        self.fc1  = nn.Linear(self.input_size,self.n_fc1)\n",
    "        self.fc2  = nn.Linear(self.n_fc1,self.n_fc2)\n",
    "        self.fc3  = nn.Linear(self.n_fc2,self.out)\n",
    "        self.to(self.device)\n",
    "        \n",
    "    def forward(self, state_shape):\n",
    "        x = self.fc1(state_shape)\n",
    "        x = F.relu(x)\n",
    "        x = self.fc2(x)\n",
    "        x = F.relu(x)\n",
    "        out = self.fc3(x)\n",
    "        return out"
   ]
  },
  {
   "cell_type": "code",
   "execution_count": 8,
   "metadata": {},
   "outputs": [],
   "source": [
    "#update target model after n timesteps\n",
    "def update_target_network(target_network, online_network):\n",
    "    target_network.load_state_dict(online_network.state_dict())"
   ]
  },
  {
   "cell_type": "code",
   "execution_count": 9,
   "metadata": {},
   "outputs": [],
   "source": [
    "def freeze_model(model):\n",
    "    for param in model.parameters():\n",
    "        param.requires_grad = False"
   ]
  },
  {
   "cell_type": "code",
   "execution_count": 10,
   "metadata": {},
   "outputs": [],
   "source": [
    "env = gym.make(\"CartPole-v0\")"
   ]
  },
  {
   "cell_type": "code",
   "execution_count": 11,
   "metadata": {},
   "outputs": [],
   "source": [
    "def select_action(state, model, epsilon):\n",
    "    device = torch.device(\"cuda\" if torch.cuda.is_available() else \"cpu\")\n",
    "    state = torch.tensor(state).float()\n",
    "    with torch.no_grad():\n",
    "        q_values= model(state).cpu().detach()\n",
    "        q_values = q_values.data.numpy().squeeze()\n",
    "    if np.random.rand() > epsilon:\n",
    "        action = np.argmax(q_values)\n",
    "    else:\n",
    "        action = np.random.randint(len(q_values))\n",
    "    return action"
   ]
  },
  {
   "cell_type": "code",
   "execution_count": 12,
   "metadata": {},
   "outputs": [],
   "source": [
    "#sample batches before model update\n",
    "def update_online_model(experience_samples, online_model, target_model, gamma, optimizer):\n",
    "    state, action, next_state, reward, done = extract_tensors(experience_samples) \n",
    "    #print(\"ns shape: \",next_state.shape)\n",
    "    next_state = torch.tensor(next_state).float()\n",
    "    reward = torch.tensor(reward).float()\n",
    "    action = torch.tensor(action)\n",
    "    action = action.type(torch.LongTensor)\n",
    "    state = torch.tensor(state).float()\n",
    "    done = torch.tensor(done).float()\n",
    "    #print(\"ns_t shape: \",next_state.shape)\n",
    "    q_next_states = target_model(next_state)\n",
    "    q_next_states = q_next_states.detach()\n",
    "    \n",
    "    #print()\n",
    "    \n",
    "    q_next_states_max = q_next_states.max(1)[0].unsqueeze(1)#select the values\n",
    "    done = done.unsqueeze(1)\n",
    "    #q_next_states_max\n",
    "    #print(done, \"shape_d: \",done.shape)\n",
    "    #print(q_next_states_max, \"shape: \",q_next_states_max.shape)\n",
    "    q_next_states_max *= (1 - done)\n",
    "    \n",
    "    \n",
    "    q_target = reward + gamma*q_next_states_max\n",
    "    q_states = online_model(state)\n",
    "    #print(\"shape: \", action.shape, \"arr: \", action)\n",
    "    action = action.unsqueeze(1)\n",
    "    q_states = q_states.gather(1, action)#select actions\n",
    "    q_error = q_target - q_states\n",
    "    q_loss = q_error.pow(2).mul(0.5).mean()\n",
    "    \n",
    "    optimizer.zero_grad()\n",
    "    q_loss.backward()\n",
    "    optimizer.step()"
   ]
  },
  {
   "cell_type": "code",
   "execution_count": 13,
   "metadata": {},
   "outputs": [],
   "source": [
    "def epsilon_decay_linear(init_eps, min_eps, decay_ratio, timestep, timestep_max):\n",
    "    #timestep_max = (timestep + 1)*100000\n",
    "    decay_t_step = timestep_max*decay_ratio\n",
    "    epsilon = 1 - timestep/decay_t_step\n",
    "    epsilon *= init_eps-min_eps\n",
    "    epsilon+=min_eps\n",
    "    epsilon = np.clip(epsilon, min_eps, init_eps)\n",
    "    return epsilon"
   ]
  },
  {
   "cell_type": "code",
   "execution_count": 14,
   "metadata": {},
   "outputs": [
    {
     "name": "stderr",
     "output_type": "stream",
     "text": [
      "100%|███████████████████████████████████████████████████████████████████████| 100000/100000 [00:01<00:00, 68801.76it/s]\n"
     ]
    }
   ],
   "source": [
    "e_arr = []\n",
    "#higher epsilon, slower decay\n",
    "for e in tqdm(range(100000)):\n",
    "    eps_ = epsilon_decay_linear(1.0, 0.01, 0.6, e, 100000)\n",
    "    e_arr.append(eps_)"
   ]
  },
  {
   "cell_type": "code",
   "execution_count": 15,
   "metadata": {},
   "outputs": [],
   "source": [
    "from matplotlib import pyplot as plt\n",
    "x = []\n",
    "y = []\n",
    "for i,e in enumerate(e_arr):\n",
    "    y.append(i)\n",
    "    x.append(e)"
   ]
  },
  {
   "cell_type": "code",
   "execution_count": 16,
   "metadata": {},
   "outputs": [
    {
     "data": {
      "text/plain": [
       "[<matplotlib.lines.Line2D at 0x1eb8241ee08>]"
      ]
     },
     "execution_count": 16,
     "metadata": {},
     "output_type": "execute_result"
    },
    {
     "data": {
      "image/png": "[encoded data removed]",
      "text/plain": [
       "<Figure size 432x288 with 1 Axes>"
      ]
     },
     "metadata": {
      "needs_background": "light"
     },
     "output_type": "display_data"
    }
   ],
   "source": [
    "plt.plot(y, x)"
   ]
  },
  {
   "cell_type": "code",
   "execution_count": 17,
   "metadata": {},
   "outputs": [],
   "source": [
    "def DQN_(env,\n",
    "         gamma=0.8,\n",
    "         memory_size = 50000,\n",
    "         init_epsilon=1.0,\n",
    "         min_epsilon=0.3,\n",
    "         epsilon_decay_ratio=0.6,\n",
    "         sample_size=64,\n",
    "         n_ep=20000,\n",
    "        target_update=15,\n",
    "        max_t_steps = 100000):\n",
    "    \n",
    "    action_space = env.action_space.n\n",
    "    state = env.reset()\n",
    "    \n",
    "    online_net = linearApproximator(len(state), 512, 128, action_space)\n",
    "    target_net = linearApproximator(len(state), 512, 128, action_space)\n",
    "    \n",
    "    target_net.load_state_dict(online_net.state_dict())\n",
    "    target_net.eval()\n",
    "    freeze_model(target_net)\n",
    "    optimizer = torch.optim.Adam(online_net.parameters(),lr=0.0005)\n",
    "    \n",
    "    memory = ReplayMemory(memory_size)\n",
    "    \n",
    "    t_step = 0 #important\n",
    "    reward_per_ep = []\n",
    "    \n",
    "    for e in tqdm(range(n_ep)):\n",
    "        state = env.reset()\n",
    "        curr_reward = 0\n",
    "        while True:\n",
    "            epsilon = epsilon_decay_linear(init_epsilon, min_epsilon, epsilon_decay_ratio, t_step, max_t_steps)\n",
    "            action = select_action(state, online_net, epsilon)\n",
    "            next_state, reward, done, info = env.step(action)\n",
    "            is_truncated = 'TimeLimit.truncated' in info and\\\n",
    "                                info['TimeLimit.truncated']\n",
    "            is_failure = done and not is_truncated\n",
    "            done = is_failure\n",
    "            curr_reward+=reward\n",
    "            \n",
    "            memory.push(Xp(state,action,next_state,reward,done))\n",
    "            \n",
    "            t_step+=1\n",
    "            \n",
    "            state = next_state\n",
    "            if memory.can_provide_sample(sample_size):\n",
    "                experience_samples = memory.sample(sample_size)\n",
    "                update_online_model(experience_samples, online_net, target_net, gamma, optimizer)\n",
    "                \n",
    "            if t_step % target_update == 0:\n",
    "                update_target_network(target_net, online_net)\n",
    "                #print(t_step)\n",
    "            if done == True:\n",
    "                break    \n",
    "        reward_per_ep.append(curr_reward)\n",
    "        if t_step >= max_t_steps:\n",
    "            break\n",
    "    return reward_per_ep"
   ]
  },
  {
   "cell_type": "code",
   "execution_count": 18,
   "metadata": {},
   "outputs": [
    {
     "name": "stderr",
     "output_type": "stream",
     "text": [
      " 14%|██████████▌                                                                  | 2749/20000 [05:59<37:35,  7.65it/s]\n"
     ]
    }
   ],
   "source": [
    "rewards = DQN_(env)"
   ]
  },
  {
   "cell_type": "code",
   "execution_count": 19,
   "metadata": {},
   "outputs": [],
   "source": [
    "from matplotlib import pyplot as plt\n",
    "x = []\n",
    "y = []\n",
    "for i,e in enumerate(rewards):\n",
    "    y.append(i)\n",
    "    x.append(e)"
   ]
  },
  {
   "cell_type": "code",
   "execution_count": 68,
   "metadata": {},
   "outputs": [
    {
     "data": {
      "text/plain": [
       "[<matplotlib.lines.Line2D at 0x17f053ec288>]"
      ]
     },
     "execution_count": 68,
     "metadata": {},
     "output_type": "execute_result"
    },
    {
     "data": {
      "image/png": "[encoded data removed]",
      "text/plain": [
       "<Figure size 432x288 with 1 Axes>"
      ]
     },
     "metadata": {
      "needs_background": "light"
     },
     "output_type": "display_data"
    }
   ],
   "source": [
    "plt.plot(y, x)"
   ]
  },
  {
   "cell_type": "code",
   "execution_count": 20,
   "metadata": {},
   "outputs": [
    {
     "data": {
      "text/plain": [
       "[<matplotlib.lines.Line2D at 0x1eb82b45a08>]"
      ]
     },
     "execution_count": 20,
     "metadata": {},
     "output_type": "execute_result"
    },
    {
     "data": {
      "image/png": "[encoded data removed]",
      "text/plain": [
       "<Figure size 432x288 with 1 Axes>"
      ]
     },
     "metadata": {
      "needs_background": "light"
     },
     "output_type": "display_data"
    }
   ],
   "source": [
    "plt.plot(y, x)"
   ]
  },
  {
   "cell_type": "code",
   "execution_count": 402,
   "metadata": {},
   "outputs": [],
   "source": [
    "def nfq_(env,\n",
    "         gamma=0.99,\n",
    "         init_alpha=0.5,\n",
    "         min_alpha=0.01,\n",
    "         alpha_decay_ratio=0.5,\n",
    "         init_epsilon=1.0,\n",
    "         min_epsilon=0.1,\n",
    "         epsilon_decay_ratio=0.5,\n",
    "         k=40,\n",
    "         sample_size=100,\n",
    "         n_ep=3000):\n",
    "    \n",
    "    epsilons = decay_schedule(\n",
    "    init_epsilon,\n",
    "    min_epsilon,\n",
    "    epsilon_decay_ratio,\n",
    "    n_ep)\n",
    "    \n",
    "    action_space = env.action_space.n\n",
    "    state = env.reset()\n",
    "    state_space = np.zeros((len(state)))\n",
    "    \n",
    "    model = linearApproximator(len(state), 100, action_space)\n",
    "    loss = torch.nn.MSELoss()\n",
    "    optimizer = torch.optim.Adam(model.parameters(),lr=0.0005)\n",
    "    \n",
    "    experience = []\n",
    "    reward_per_ep = []\n",
    "    for e in tqdm(range(n_ep)):\n",
    "        state = env.reset()\n",
    "        curr_reward = 0\n",
    "        while True:\n",
    "            action = select_action(state, model, epsilons[e])\n",
    "            next_state, reward, done, info = env.step(action)\n",
    "            curr_reward+=reward\n",
    "            is_truncated = 'TimeLimit.truncated' in info and\\\n",
    "                                info['TimeLimit.truncated']\n",
    "            is_failure = done and not is_truncated\n",
    "            done = is_failure\n",
    "            exp_tuple = (state, action, next_state, reward, done)\n",
    "            experience.append(exp_tuple)\n",
    "            if len(experience) == sample_size:\n",
    "                for index in range(k):\n",
    "                    t_next_states = [ns for s, a, ns, r, d in experience]\n",
    "                    t_rewards = [r for s, a, ns, r, d in experience]\n",
    "                    t_states = [s for s, a, ns, r, d in experience]\n",
    "                    t_done = [d for s, a, ns, r, d in experience]\n",
    "                    t_actions = [a for s, a, ns, r, d in experience]\n",
    "                \n",
    "                    t_next_states = torch.tensor(t_next_states).float()\n",
    "                    t_states = torch.tensor(t_states).float()\n",
    "                    t_actions = torch.tensor(t_actions)#shoulb be int or long\n",
    "                    t_rewards = torch.tensor(t_rewards).float()\n",
    "                    t_done = torch.tensor(t_done).float()\n",
    "                    \n",
    "                    optimizer.zero_grad()\n",
    "                    next_states_action_pairs = model(t_next_states).detach()\n",
    "                    next_states_action_pairs_max = next_states_action_pairs.max(1)[0] #Q not sarsa\n",
    "                    next_states_action_pairs_max *= 1 - t_done#look for terminal states\n",
    "                   \n",
    "                    state_action_pairs = model(t_states)\n",
    "                    t_actions = t_actions.unsqueeze(0)\n",
    "                    state_action_pairs = state_action_pairs.gather(1, t_actions)\n",
    "                    td_target = t_rewards + gamma*next_states_action_pairs_max\n",
    "                    td_error = td_target - state_action_pairs\n",
    "                    \n",
    "                    state_action_pairs = state_action_pairs.squeeze(0)\n",
    "                    value_loss = td_error.pow(2).mul(0.5).mean()\n",
    "                    #print(state_action_pairs.shape,td_target.shape)\n",
    "                    #output = loss(state_action_pairs, td_error)\n",
    "                    value_loss.backward()\n",
    "                    optimizer.step()\n",
    "                    #optimizer.zero_grad()\n",
    "                experience = []\n",
    "            state = next_state\n",
    "            if done == True:\n",
    "                break\n",
    "        reward_per_ep.append(curr_reward)\n",
    "            \n",
    "    return model, experience, reward_per_ep"
   ]
  },
  {
   "cell_type": "code",
   "execution_count": 403,
   "metadata": {},
   "outputs": [
    {
     "name": "stderr",
     "output_type": "stream",
     "text": [
      "100%|████████████████████████████████████████████████████████████████████████████| 20000/20000 [03:23<00:00, 98.45it/s]\n"
     ]
    }
   ],
   "source": [
    "model, f_exp, rewards = nfq_(env, n_ep=20000)"
   ]
  },
  {
   "cell_type": "code",
   "execution_count": 404,
   "metadata": {},
   "outputs": [],
   "source": [
    "from matplotlib import pyplot as plt\n",
    "x = []\n",
    "y = []\n",
    "for i,e in enumerate(rewards):\n",
    "    y.append(i)\n",
    "    x.append(e)"
   ]
  },
  {
   "cell_type": "code",
   "execution_count": 405,
   "metadata": {},
   "outputs": [
    {
     "data": {
      "text/plain": [
       "[<matplotlib.lines.Line2D at 0x161a6330ac8>]"
      ]
     },
     "execution_count": 405,
     "metadata": {},
     "output_type": "execute_result"
    },
    {
     "data": {
      "image/png": "[encoded data removed]",
      "text/plain": [
       "<Figure size 432x288 with 1 Axes>"
      ]
     },
     "metadata": {
      "needs_background": "light"
     },
     "output_type": "display_data"
    }
   ],
   "source": [
    "plt.plot(y, x)"
   ]
  },
  {
   "cell_type": "code",
   "execution_count": 401,
   "metadata": {},
   "outputs": [
    {
     "data": {
      "text/plain": [
       "[<matplotlib.lines.Line2D at 0x16180ae21c8>]"
      ]
     },
     "execution_count": 401,
     "metadata": {},
     "output_type": "execute_result"
    },
    {
     "data": {
      "image/png": "[encoded data removed]",
      "text/plain": [
       "<Figure size 432x288 with 1 Axes>"
      ]
     },
     "metadata": {
      "needs_background": "light"
     },
     "output_type": "display_data"
    }
   ],
   "source": [
    "plt.plot(y, x)\n",
    "#plt.show()"
   ]
  },
  {
   "cell_type": "code",
   "execution_count": 226,
   "metadata": {},
   "outputs": [],
   "source": [
    "#ntwrk <class 'numpy.int64'>"
   ]
  },
  {
   "cell_type": "code",
   "execution_count": 390,
   "metadata": {},
   "outputs": [],
   "source": [
    "exp = []\n",
    "for t, i in enumerate(range(10)):\n",
    "    v = (t,i)\n",
    "    exp.append(v)"
   ]
  },
  {
   "cell_type": "code",
   "execution_count": 392,
   "metadata": {},
   "outputs": [
    {
     "ename": "ValueError",
     "evalue": "too many values to unpack (expected 2)",
     "output_type": "error",
     "traceback": [
      "\u001b[1;31m---------------------------------------------------------------------------\u001b[0m",
      "\u001b[1;31mValueError\u001b[0m                                Traceback (most recent call last)",
      "\u001b[1;32m<ipython-input-392-93474b72fd01>\u001b[0m in \u001b[0;36m<module>\u001b[1;34m\u001b[0m\n\u001b[1;32m----> 1\u001b[1;33m \u001b[0ms\u001b[0m\u001b[1;33m,\u001b[0m \u001b[0ma\u001b[0m \u001b[1;33m=\u001b[0m \u001b[0mexp\u001b[0m\u001b[1;33m\u001b[0m\u001b[1;33m\u001b[0m\u001b[0m\n\u001b[0m",
      "\u001b[1;31mValueError\u001b[0m: too many values to unpack (expected 2)"
     ]
    }
   ],
   "source": [
    "s, a = exp"
   ]
  },
  {
   "cell_type": "code",
   "execution_count": 57,
   "metadata": {},
   "outputs": [
    {
     "ename": "ValueError",
     "evalue": "not enough values to unpack (expected 3, got 2)",
     "output_type": "error",
     "traceback": [
      "\u001b[1;31m---------------------------------------------------------------------------\u001b[0m",
      "\u001b[1;31mValueError\u001b[0m                                Traceback (most recent call last)",
      "\u001b[1;32m<ipython-input-57-2779db0f2f69>\u001b[0m in \u001b[0;36m<module>\u001b[1;34m\u001b[0m\n\u001b[1;32m----> 1\u001b[1;33m \u001b[0ms\u001b[0m \u001b[1;33m=\u001b[0m \u001b[1;33m[\u001b[0m\u001b[0ms\u001b[0m \u001b[1;32mfor\u001b[0m \u001b[0ms\u001b[0m\u001b[1;33m,\u001b[0m \u001b[0ma\u001b[0m\u001b[1;33m,\u001b[0m \u001b[0mm\u001b[0m  \u001b[1;32min\u001b[0m \u001b[0mexp\u001b[0m\u001b[1;33m]\u001b[0m\u001b[1;33m\u001b[0m\u001b[1;33m\u001b[0m\u001b[0m\n\u001b[0m",
      "\u001b[1;32m<ipython-input-57-2779db0f2f69>\u001b[0m in \u001b[0;36m<listcomp>\u001b[1;34m(.0)\u001b[0m\n\u001b[1;32m----> 1\u001b[1;33m \u001b[0ms\u001b[0m \u001b[1;33m=\u001b[0m \u001b[1;33m[\u001b[0m\u001b[0ms\u001b[0m \u001b[1;32mfor\u001b[0m \u001b[0ms\u001b[0m\u001b[1;33m,\u001b[0m \u001b[0ma\u001b[0m\u001b[1;33m,\u001b[0m \u001b[0mm\u001b[0m  \u001b[1;32min\u001b[0m \u001b[0mexp\u001b[0m\u001b[1;33m]\u001b[0m\u001b[1;33m\u001b[0m\u001b[1;33m\u001b[0m\u001b[0m\n\u001b[0m",
      "\u001b[1;31mValueError\u001b[0m: not enough values to unpack (expected 3, got 2)"
     ]
    }
   ],
   "source": [
    "s = [s for s, a  in exp]"
   ]
  },
  {
   "cell_type": "code",
   "execution_count": 40,
   "metadata": {},
   "outputs": [],
   "source": [
    "s = []\n",
    "for k, v in exp:\n",
    "    s.append(v)"
   ]
  },
  {
   "cell_type": "code",
   "execution_count": 41,
   "metadata": {},
   "outputs": [
    {
     "data": {
      "text/plain": [
       "list"
      ]
     },
     "execution_count": 41,
     "metadata": {},
     "output_type": "execute_result"
    }
   ],
   "source": [
    "type(s)"
   ]
  },
  {
   "cell_type": "code",
   "execution_count": 54,
   "metadata": {},
   "outputs": [
    {
     "data": {
      "text/plain": [
       "[0, 1, 2, 3, 4, 5, 6, 7, 8, 9]"
      ]
     },
     "execution_count": 54,
     "metadata": {},
     "output_type": "execute_result"
    }
   ],
   "source": [
    "s"
   ]
  },
  {
   "cell_type": "code",
   "execution_count": 101,
   "metadata": {},
   "outputs": [
    {
     "data": {
      "text/plain": [
       "int"
      ]
     },
     "execution_count": 101,
     "metadata": {},
     "output_type": "execute_result"
    }
   ],
   "source": [
    "type(1)"
   ]
  },
  {
   "cell_type": "code",
   "execution_count": 242,
   "metadata": {},
   "outputs": [
    {
     "data": {
      "text/plain": [
       "[<matplotlib.lines.Line2D at 0x1618441ee08>]"
      ]
     },
     "execution_count": 242,
     "metadata": {},
     "output_type": "execute_result"
    },
    {
     "data": {
      "image/png": "[encoded data removed]",
      "text/plain": [
       "<Figure size 432x288 with 1 Axes>"
      ]
     },
     "metadata": {
      "needs_background": "light"
     },
     "output_type": "display_data"
    }
   ],
   "source": [
    "plt.plot([1, 2, 3, 4], [1, 4, 9, 16])"
   ]
  },
  {
   "cell_type": "code",
   "execution_count": null,
   "metadata": {},
   "outputs": [],
   "source": []
  }
 ],
 "metadata": {
  "kernelspec": {
   "display_name": "Python 3",
   "language": "python",
   "name": "python3"
  },
  "language_info": {
   "codemirror_mode": {
    "name": "ipython",
    "version": 3
   },
   "file_extension": ".py",
   "mimetype": "text/x-python",
   "name": "python",
   "nbconvert_exporter": "python",
   "pygments_lexer": "ipython3",
   "version": "3.7.9"
  }
 },
 "nbformat": 4,
 "nbformat_minor": 4
}
