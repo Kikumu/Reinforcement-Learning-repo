{
 "cells": [
  {
   "cell_type": "code",
   "execution_count": 1,
   "metadata": {},
   "outputs": [],
   "source": [
    "import random\n",
    "import numpy as np\n",
    "import torch\n",
    "import torch.nn as nn\n",
    "import torch.optim as optim\n",
    "import torch.nn.functional as F\n",
    "import torchvision.transforms as T"
   ]
  },
  {
   "cell_type": "code",
   "execution_count": 2,
   "metadata": {},
   "outputs": [],
   "source": [
    "import numpy as np\n",
    "import gym\n",
    "from tqdm import tqdm\n",
    "import random as rand\n",
    "from itertools import count"
   ]
  },
  {
   "cell_type": "code",
   "execution_count": 3,
   "metadata": {},
   "outputs": [],
   "source": [
    "env = gym.make(\"CartPole-v0\")"
   ]
  },
  {
   "cell_type": "code",
   "execution_count": 4,
   "metadata": {},
   "outputs": [],
   "source": [
    "class ReplayMemory():\n",
    "    def __init__(self,capacity):   \n",
    "        self.capacity = capacity\n",
    "        self.memory = []\n",
    "        self.push_count = 0\n",
    "        \n",
    "    def push(self, experience):\n",
    "        if len(self.memory) < self.capacity:\n",
    "            self.memory.append(experience)\n",
    "        else:\n",
    "            self.memory[self.push_count%self.capacity] = experience\n",
    "        self.push_count+=1\n",
    "    \n",
    "    def sample(self, batch_size):\n",
    "        return rand.sample(self.memory,batch_size)\n",
    "    \n",
    "    def can_provide_sample(self, batch_size):\n",
    "        return len(self.memory)>=batch_size"
   ]
  },
  {
   "cell_type": "code",
   "execution_count": 5,
   "metadata": {},
   "outputs": [],
   "source": [
    "def extract_tensors(experiences):\n",
    "    batch = Xp(*zip(*experiences))\n",
    "    state = np.stack(batch.state) #stack\n",
    "    action = np.stack(batch.action)\n",
    "    next_state = np.stack(batch.next_state)\n",
    "    reward = np.stack(batch.reward)\n",
    "    done = np.stack(batch.done)\n",
    "    return state,action,next_state,reward,done"
   ]
  },
  {
   "cell_type": "code",
   "execution_count": 6,
   "metadata": {},
   "outputs": [
    {
     "data": {
      "text/plain": [
       "Experience(state=5, action=6, next_state=7, reward=8, done=9)"
      ]
     },
     "execution_count": 6,
     "metadata": {},
     "output_type": "execute_result"
    }
   ],
   "source": [
    "from collections import namedtuple\n",
    "Xp = namedtuple('Experience',\n",
    "                        ('state', 'action', 'next_state', 'reward', 'done'))\n",
    "Xp_points = Xp(5,6,7,8,9)\n",
    "Xp_points"
   ]
  },
  {
   "cell_type": "code",
   "execution_count": 7,
   "metadata": {},
   "outputs": [],
   "source": [
    "class linearApproximator(nn.Module):\n",
    "    def __init__(self,state_shape,n_fc1,n_fc2, action_n):\n",
    "        super(linearApproximator, self).__init__()\n",
    "        self.input_size = state_shape\n",
    "        self.n_fc1 = n_fc1\n",
    "        self.n_fc2 = n_fc2\n",
    "        self.out = action_n\n",
    "        self.device = torch.device(\"cuda\" if torch.cuda.is_available() else \"cpu\")\n",
    "        \n",
    "        self.fc1  = nn.Linear(self.input_size,self.n_fc1)\n",
    "        self.fc2  = nn.Linear(self.n_fc1,self.n_fc2)\n",
    "        \n",
    "        self.state_value = nn.Linear(self.n_fc2, 1)\n",
    "        self.advantage_actions  = nn.Linear(self.n_fc2,self.out)\n",
    "        \n",
    "        \n",
    "        self.to(self.device)\n",
    "        \n",
    "    def forward(self, state_shape):\n",
    "        x = self.fc1(state_shape)\n",
    "        x = F.relu(x)\n",
    "        x = self.fc2(x)\n",
    "        x = F.relu(x)\n",
    "        \n",
    "        \n",
    "        actions_ = self.advantage_actions(x)\n",
    "        actions_ = F.relu(actions_)\n",
    "        state_value_=self.state_value(x)\n",
    "        state_value_=F.relu(state_value_)\n",
    "        state_value_ = state_value_.expand_as(actions_)\n",
    "        #adabantage function equation pg:311 - 316\n",
    "        q = state_value_ + (actions_ - actions_.mean().expand_as(actions_))\n",
    "        return q"
   ]
  },
  {
   "cell_type": "code",
   "execution_count": 8,
   "metadata": {},
   "outputs": [],
   "source": [
    "def update_networks(online_network, target_network, tau):\n",
    "    #polyak averaging: pg:319\n",
    "    for target_weights, online_weights in zip(target_network.parameters(), online_network.parameters()):\n",
    "        target_weight_update = (1.0 - tau)*target_weights.data\n",
    "        online_weight_update = tau*online_weights.data\n",
    "        sum_up = target_weight_update + online_weight_update\n",
    "        target_weights.data.copy_(sum_up)\n",
    "    return online_network, target_network"
   ]
  },
  {
   "cell_type": "code",
   "execution_count": 9,
   "metadata": {},
   "outputs": [],
   "source": [
    "def update_online_model(experience_samples, online_network, target_network, gamma, optimizer):\n",
    "    states, actions, next_states, rewards, done = extract_tensors(experience_samples)\n",
    "    \n",
    "    states = torch.tensor(states).float()\n",
    "    actions = torch.tensor(actions)\n",
    "    actions = actions.type(torch.LongTensor)\n",
    "    actions = actions.unsqueeze(1)\n",
    "    next_states=torch.tensor(next_states).float()\n",
    "    rewards = torch.tensor(rewards).float()\n",
    "    done = torch.tensor(done).float()\n",
    "    \n",
    "    \n",
    "    q_online_next_states = online_network(next_states)#we now take next_states from online network \n",
    "    q_online_next_states = q_online_next_states.max(1)[1]#we now take the indices and not the values from online network\n",
    "    q_online_next_states = q_online_next_states.unsqueeze(1)#iindices\n",
    "     \n",
    "    \n",
    "    q_target_next_states_action = target_network(next_states)\n",
    "    q_target_next_states_action = q_target_next_states_action.detach()#always make sure detach on target net\n",
    "    q_target_next_states_action = q_target_next_states_action.gather(1, q_online_next_states)\n",
    "    #print(q_target_next_states_action.shape)\n",
    "    done = done.unsqueeze(1)\n",
    "    \n",
    "    #print(q_target_next_states_action.shape, done.shape)\n",
    "    \n",
    "    q_target_next_states_action *=(1 - done) \n",
    "    rewards = rewards.unsqueeze(1)\n",
    "    q_target = rewards + (gamma*q_target_next_states_action)\n",
    "    \n",
    "    \n",
    "    q_online_state = online_network(states)\n",
    "    q_online_state = q_online_state.gather(1, actions)\n",
    "    \n",
    "    q_u_loss = torch.nn.SmoothL1Loss()\n",
    "    q_u_loss = q_u_loss(q_online_state,q_target)\n",
    "    \n",
    "    optimizer.zero_grad()\n",
    "    q_u_loss.backward()\n",
    "    optimizer.step()\n",
    "    return online_network, target_network"
   ]
  },
  {
   "cell_type": "code",
   "execution_count": 10,
   "metadata": {},
   "outputs": [],
   "source": [
    "def freeze_model(model):\n",
    "    for param in model.parameters():\n",
    "        param.requires_grad = False\n",
    "    return model"
   ]
  },
  {
   "cell_type": "code",
   "execution_count": 11,
   "metadata": {},
   "outputs": [],
   "source": [
    "def select_action(state, model, epsilon):\n",
    "    device = torch.device(\"cuda\" if torch.cuda.is_available() else \"cpu\")\n",
    "    state = torch.tensor(state).float()\n",
    "    with torch.no_grad():\n",
    "        q_values= model(state).cpu().detach()\n",
    "        q_values = q_values.data.numpy().squeeze()\n",
    "    if np.random.rand() > epsilon:\n",
    "        action = np.argmax(q_values)\n",
    "    else:\n",
    "        action = np.random.randint(len(q_values))\n",
    "    return action"
   ]
  },
  {
   "cell_type": "code",
   "execution_count": 12,
   "metadata": {},
   "outputs": [],
   "source": [
    "def epsilon_decay_linear(init_eps, min_eps, decay_ratio, timestep, timestep_max):\n",
    "    decay_t_step = timestep_max*decay_ratio\n",
    "    epsilon = 1 - timestep/decay_t_step\n",
    "    epsilon *= init_eps-min_eps\n",
    "    epsilon+=min_eps\n",
    "    epsilon = np.clip(epsilon, min_eps, init_eps)\n",
    "    return epsilon"
   ]
  },
  {
   "cell_type": "code",
   "execution_count": 15,
   "metadata": {},
   "outputs": [],
   "source": [
    "def Duelling_DDQN_(env,\n",
    "         gamma=0.9,\n",
    "         memory_size = 50000,\n",
    "         init_epsilon=1.0,\n",
    "         min_epsilon=0.3,\n",
    "         epsilon_decay_ratio=0.4,\n",
    "         tau = 0.3,\n",
    "         target_update = 30,\n",
    "         min_sample_size=320,\n",
    "         batch_size = 64,\n",
    "         n_ep=20000,\n",
    "         max_t_steps = 100000):\n",
    "    \n",
    "    action_space = env.action_space.n\n",
    "    observation_space = len(env.reset())\n",
    "    hidden_1 = 512\n",
    "    hidden_2 = 128\n",
    "    \n",
    "    online_network = linearApproximator(observation_space, hidden_1, hidden_2, action_space)\n",
    "    target_network = linearApproximator(observation_space, hidden_1, hidden_2, action_space)\n",
    "    target_network.eval()\n",
    "    target_network = freeze_model(target_network)\n",
    "    \n",
    "    optimizer = torch.optim.RMSprop(online_network.parameters(),lr=0.0007)\n",
    "    memory = ReplayMemory(memory_size)\n",
    "    \n",
    "    t_step = 0 #important\n",
    "    reward_per_ep = []\n",
    "    \n",
    "    for e in tqdm(range(n_ep)):\n",
    "        state = env.reset()\n",
    "        reward_accumulated = 0\n",
    "        while True:\n",
    "            epsilon = epsilon_decay_linear(init_epsilon, min_epsilon, epsilon_decay_ratio, t_step, max_t_steps)\n",
    "            action = select_action(state, online_network, epsilon)\n",
    "            next_state, reward, done, info = env.step(action)\n",
    "            reward_accumulated+=reward\n",
    "            is_truncated = 'TimeLimit.truncated' in info and\\\n",
    "                                info['TimeLimit.truncated']\n",
    "            is_failure = done and not is_truncated\n",
    "    \n",
    "            memory.push(Xp(state, action, next_state, reward, is_failure))\n",
    "            state = next_state\n",
    "            t_step+=1\n",
    "            if memory.can_provide_sample(batch_size):\n",
    "                experience_samples = memory.sample(batch_size)\n",
    "                online_network, target_network = update_online_model(experience_samples, online_network, target_network, gamma, optimizer)\n",
    "            if t_step%target_update:\n",
    "                online_network, target_network = update_networks(online_network, target_network, tau)\n",
    "            if done == True:\n",
    "                reward_per_ep.append(reward_accumulated)\n",
    "                break\n",
    "            if t_step > max_t_steps:\n",
    "                return online_network, reward_per_ep\n",
    "    online_network, reward_per_ep"
   ]
  },
  {
   "cell_type": "code",
   "execution_count": 16,
   "metadata": {},
   "outputs": [
    {
     "name": "stderr",
     "output_type": "stream",
     "text": [
      " 23%|█████████████████▌                                                           | 4564/20000 [08:08<27:30,  9.35it/s]\n"
     ]
    }
   ],
   "source": [
    "model, rewards = Duelling_DDQN_(env)"
   ]
  },
  {
   "cell_type": "code",
   "execution_count": 27,
   "metadata": {},
   "outputs": [],
   "source": [
    "from scipy.ndimage.filters import uniform_filter1d\n",
    "arr = uniform_filter1d(rewards, size=10)"
   ]
  },
  {
   "cell_type": "code",
   "execution_count": 28,
   "metadata": {},
   "outputs": [],
   "source": [
    "from matplotlib import pyplot as plt\n",
    "x = []\n",
    "y = []\n",
    "for i,e in enumerate(arr):\n",
    "    y.append(i)\n",
    "    x.append(e)"
   ]
  },
  {
   "cell_type": "code",
   "execution_count": 29,
   "metadata": {},
   "outputs": [
    {
     "data": {
      "text/plain": [
       "[<matplotlib.lines.Line2D at 0x1a1e4dda688>]"
      ]
     },
     "execution_count": 29,
     "metadata": {},
     "output_type": "execute_result"
    },
    {
     "data": {
      "image/png": "[encoded data removed]",
      "text/plain": [
       "<Figure size 432x288 with 1 Axes>"
      ]
     },
     "metadata": {
      "needs_background": "light"
     },
     "output_type": "display_data"
    }
   ],
   "source": [
    "plt.plot(y, x)"
   ]
  },
  {
   "cell_type": "code",
   "execution_count": null,
   "metadata": {},
   "outputs": [],
   "source": []
  }
 ],
 "metadata": {
  "kernelspec": {
   "display_name": "Python 3",
   "language": "python",
   "name": "python3"
  },
  "language_info": {
   "codemirror_mode": {
    "name": "ipython",
    "version": 3
   },
   "file_extension": ".py",
   "mimetype": "text/x-python",
   "name": "python",
   "nbconvert_exporter": "python",
   "pygments_lexer": "ipython3",
   "version": "3.7.9"
  }
 },
 "nbformat": 4,
 "nbformat_minor": 4
}
