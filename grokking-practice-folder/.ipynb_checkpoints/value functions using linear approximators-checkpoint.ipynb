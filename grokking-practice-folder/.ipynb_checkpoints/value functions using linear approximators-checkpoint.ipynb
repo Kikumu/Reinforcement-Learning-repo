{
 "cells": [
  {
   "cell_type": "code",
   "execution_count": 7,
   "metadata": {},
   "outputs": [],
   "source": [
    "import numpy as np\n",
    "import gym\n"
   ]
  },
  {
   "cell_type": "code",
   "execution_count": 8,
   "metadata": {},
   "outputs": [],
   "source": [
    "import math\n",
    "import random\n",
    "import numpy as np\n",
    "import torch\n",
    "import torch.nn as nn\n",
    "import torch.optim as optim\n",
    "import torch.nn.functional as F\n",
    "import torchvision.transforms as T\n",
    "from random import seed\n",
    "from sklearn import preprocessing\n",
    "from torch.nn.init import kaiming_uniform_\n",
    "seed(1)"
   ]
  },
  {
   "cell_type": "code",
   "execution_count": 9,
   "metadata": {},
   "outputs": [],
   "source": [
    "def decay_schedule(init_value,\n",
    "                   min_value,\n",
    "                   decay_ratio,\n",
    "                   max_steps,\n",
    "                   log_start = -2,\n",
    "                   log_base=10\n",
    "):\n",
    "    decay_steps = int(max_steps * decay_ratio)\n",
    "    rem_steps = max_steps - decay_steps\n",
    "    \n",
    "    values = np.logspace(log_start,\n",
    "                        0,\n",
    "                        decay_steps,\n",
    "                        base = log_base,\n",
    "                        endpoint = True)[::-1]\n",
    "    #print(value)\n",
    "    values = (values - values.min())/(values.max() - values.min())\n",
    "    values = np.pad(values, (0, rem_steps), 'edge')\n",
    "    return values"
   ]
  },
  {
   "cell_type": "code",
   "execution_count": 10,
   "metadata": {},
   "outputs": [],
   "source": [
    "def generate_trajectory(env, select_action, Q, epsilon, max_steps=200): #generate single trajectory from start to terminal state\n",
    "    done, trajectory = False, []\n",
    "    state = env.reset()\n",
    "    while not done:\n",
    "        #print(max_steps)\n",
    "        for t in range(max_steps):\n",
    "            action = select_action(state, Q, epsilon)\n",
    "            next_state, reward, done, _ = env.step(action)\n",
    "            experience = (state, action, reward, next_state)\n",
    "            trajectory.append(experience)\n",
    "            if done == True:\n",
    "                break\n",
    "            state = next_state\n",
    "    return np.array(trajectory, np.object)"
   ]
  },
  {
   "cell_type": "code",
   "execution_count": 277,
   "metadata": {},
   "outputs": [],
   "source": [
    "class linearApproximator(nn.Module):\n",
    "    def __init__(self,state_shape,n_fc1,action_n):\n",
    "        super(linearApproximator, self).__init__()\n",
    "        self.input_size = state_shape\n",
    "        self.n_fc1 = n_fc1\n",
    "        self.out = action_n\n",
    "        self.device = torch.device(\"cuda\" if torch.cuda.is_available() else \"cpu\")\n",
    "        \n",
    "        self.fc1  = nn.Linear(self.input_size,self.n_fc1)\n",
    "        self.fc2  = nn.Linear(self.n_fc1,self.n_fc1)\n",
    "        self.fc3  = nn.Linear(self.n_fc1,self.out)\n",
    "        self.to(self.device)\n",
    "        \n",
    "    def forward(self, state_shape):\n",
    "        x = self.fc1(state_shape)\n",
    "        x = F.relu(x)\n",
    "        x = self.fc2(x)\n",
    "        x = F.relu(x)\n",
    "        out = self.fc3(x)\n",
    "        return out"
   ]
  },
  {
   "cell_type": "code",
   "execution_count": 278,
   "metadata": {},
   "outputs": [],
   "source": [
    "env = gym.make(\"CartPole-v0\")\n"
   ]
  },
  {
   "cell_type": "code",
   "execution_count": 279,
   "metadata": {},
   "outputs": [
    {
     "data": {
      "text/plain": [
       "array([ 0.0139616 , -0.01148015, -0.04848314,  0.01808707])"
      ]
     },
     "execution_count": 279,
     "metadata": {},
     "output_type": "execute_result"
    }
   ],
   "source": [
    "state"
   ]
  },
  {
   "cell_type": "code",
   "execution_count": 280,
   "metadata": {},
   "outputs": [],
   "source": [
    "def select_action(state, model, epsilon):\n",
    "    device = torch.device(\"cuda\" if torch.cuda.is_available() else \"cpu\")\n",
    "    state = torch.tensor(state).float()\n",
    "    with torch.no_grad():\n",
    "        q_values= model(state).cpu().detach()\n",
    "        q_values = q_values.data.numpy().squeeze()\n",
    "    if np.random.rand() > epsilon:\n",
    "        action = np.argmax(q_values)\n",
    "    else:\n",
    "        action = np.random.randint(len(q_values))\n",
    "    return action"
   ]
  },
  {
   "cell_type": "code",
   "execution_count": 288,
   "metadata": {},
   "outputs": [],
   "source": [
    "def nfq_(env,\n",
    "         gamma=0.99,\n",
    "         init_alpha=0.5,\n",
    "         min_alpha=0.01,\n",
    "         alpha_decay_ratio=0.5,\n",
    "         init_epsilon=1.0,\n",
    "         min_epsilon=0.1,\n",
    "         epsilon_decay_ratio=0.5,\n",
    "         k=40,\n",
    "         sample_size=1024,\n",
    "         n_ep=3000):\n",
    "    \n",
    "    epsilons = decay_schedule(\n",
    "    init_epsilon,\n",
    "    min_epsilon,\n",
    "    epsilon_decay_ratio,\n",
    "    n_ep)\n",
    "    \n",
    "    action_space = env.action_space.n\n",
    "    state = env.reset()\n",
    "    state_space = np.zeros((len(state)))\n",
    "    \n",
    "    model = linearApproximator(len(state), 100, action_space)\n",
    "    loss = torch.nn.MSELoss()\n",
    "    optimizer = torch.optim.Adam(model.parameters(),lr=0.0005)\n",
    "    \n",
    "    experience = []\n",
    "    reward_per_ep = []\n",
    "    for e in range(n_ep):\n",
    "        state = env.reset()\n",
    "        curr_reward = 0\n",
    "        while True:\n",
    "            action = select_action(state, model, epsilons[e])\n",
    "            next_state, reward, done, info = env.step(action)\n",
    "            curr_reward+=reward\n",
    "            is_truncated = 'TimeLimit.truncated' in info and\\\n",
    "                                info['TimeLimit.truncated']\n",
    "            is_failure = done and not is_truncated\n",
    "            done = is_failure\n",
    "            exp_tuple = (state, action, next_state, reward, done)\n",
    "            experience.append(exp_tuple)\n",
    "            if len(experience) == sample_size:\n",
    "                for index in range(k):\n",
    "                    t_next_states = [ns for s, a, ns, r, d in experience]\n",
    "                    t_rewards = [r for s, a, ns, r, d in experience]\n",
    "                    t_states = [s for s, a, ns, r, d in experience]\n",
    "                    t_done = [d for s, a, ns, r, d in experience]\n",
    "                    t_actions = [a for s, a, ns, r, d in experience]\n",
    "                \n",
    "                    t_next_states = torch.tensor(t_next_states).float()\n",
    "                    t_states = torch.tensor(t_states).float()\n",
    "                    t_actions = torch.tensor(t_actions)#shoulb be int or long\n",
    "                    t_rewards = torch.tensor(t_rewards).float()\n",
    "                    t_done = torch.tensor(t_done).float()\n",
    "                    \n",
    "                \n",
    "                    next_states_action_pairs = model(t_next_states).detach()\n",
    "                    next_states_action_pairs_max = next_states_action_pairs.max(1)[0] #Q not sarsa\n",
    "                    next_states_action_pairs_max *= 1 - t_done#look for terminal states\n",
    "                   \n",
    "                    state_action_pairs = model(t_states)\n",
    "                    t_actions = t_actions.unsqueeze(0)\n",
    "                    state_action_pairs = state_action_pairs.gather(1, t_actions)\n",
    "                    td_target = t_rewards + gamma*next_states_action_pairs_max\n",
    "                    td_error = td_target - state_action_pairs\n",
    "                    output = loss(state_action_pairs, td_error)\n",
    "                    output.backward()\n",
    "                    optimizer.step()\n",
    "                    optimizer.zero_grad()\n",
    "                experience = []\n",
    "            state = next_state\n",
    "            if done == True:\n",
    "                break\n",
    "        reward_per_ep.append(curr_reward)\n",
    "            \n",
    "    return model, experience, reward_per_ep"
   ]
  },
  {
   "cell_type": "code",
   "execution_count": 289,
   "metadata": {},
   "outputs": [],
   "source": [
    "model, f_exp, rewards = nfq_(env, n_ep=3000)"
   ]
  },
  {
   "cell_type": "code",
   "execution_count": 290,
   "metadata": {},
   "outputs": [],
   "source": [
    "from matplotlib import pyplot as plt\n",
    "x = []\n",
    "y = []\n",
    "for i,e in enumerate(rewards):\n",
    "    y.append(i)\n",
    "    x.append(e)"
   ]
  },
  {
   "cell_type": "code",
   "execution_count": 291,
   "metadata": {},
   "outputs": [
    {
     "data": {
      "text/plain": [
       "[<matplotlib.lines.Line2D at 0x161a616ad08>]"
      ]
     },
     "execution_count": 291,
     "metadata": {},
     "output_type": "execute_result"
    },
    {
     "data": {
      "image/png": "[encoded data removed]",
      "text/plain": [
       "<Figure size 432x288 with 1 Axes>"
      ]
     },
     "metadata": {
      "needs_background": "light"
     },
     "output_type": "display_data"
    }
   ],
   "source": [
    "plt.plot(y, x)"
   ]
  },
  {
   "cell_type": "code",
   "execution_count": 287,
   "metadata": {},
   "outputs": [
    {
     "data": {
      "text/plain": [
       "[<matplotlib.lines.Line2D at 0x161a28fcf88>]"
      ]
     },
     "execution_count": 287,
     "metadata": {},
     "output_type": "execute_result"
    },
    {
     "data": {
      "image/png": "[encoded data removed]",
      "text/plain": [
       "<Figure size 432x288 with 1 Axes>"
      ]
     },
     "metadata": {
      "needs_background": "light"
     },
     "output_type": "display_data"
    }
   ],
   "source": [
    "plt.plot(y, x)\n",
    "#plt.show()"
   ]
  },
  {
   "cell_type": "code",
   "execution_count": 226,
   "metadata": {},
   "outputs": [],
   "source": [
    "#ntwrk <class 'numpy.int64'>"
   ]
  },
  {
   "cell_type": "code",
   "execution_count": 49,
   "metadata": {},
   "outputs": [],
   "source": [
    "exp = []\n",
    "for t, i in enumerate(range(10)):\n",
    "    v = (t,i)\n",
    "    exp.append(v)"
   ]
  },
  {
   "cell_type": "code",
   "execution_count": 57,
   "metadata": {},
   "outputs": [
    {
     "ename": "ValueError",
     "evalue": "not enough values to unpack (expected 3, got 2)",
     "output_type": "error",
     "traceback": [
      "\u001b[1;31m---------------------------------------------------------------------------\u001b[0m",
      "\u001b[1;31mValueError\u001b[0m                                Traceback (most recent call last)",
      "\u001b[1;32m<ipython-input-57-2779db0f2f69>\u001b[0m in \u001b[0;36m<module>\u001b[1;34m\u001b[0m\n\u001b[1;32m----> 1\u001b[1;33m \u001b[0ms\u001b[0m \u001b[1;33m=\u001b[0m \u001b[1;33m[\u001b[0m\u001b[0ms\u001b[0m \u001b[1;32mfor\u001b[0m \u001b[0ms\u001b[0m\u001b[1;33m,\u001b[0m \u001b[0ma\u001b[0m\u001b[1;33m,\u001b[0m \u001b[0mm\u001b[0m  \u001b[1;32min\u001b[0m \u001b[0mexp\u001b[0m\u001b[1;33m]\u001b[0m\u001b[1;33m\u001b[0m\u001b[1;33m\u001b[0m\u001b[0m\n\u001b[0m",
      "\u001b[1;32m<ipython-input-57-2779db0f2f69>\u001b[0m in \u001b[0;36m<listcomp>\u001b[1;34m(.0)\u001b[0m\n\u001b[1;32m----> 1\u001b[1;33m \u001b[0ms\u001b[0m \u001b[1;33m=\u001b[0m \u001b[1;33m[\u001b[0m\u001b[0ms\u001b[0m \u001b[1;32mfor\u001b[0m \u001b[0ms\u001b[0m\u001b[1;33m,\u001b[0m \u001b[0ma\u001b[0m\u001b[1;33m,\u001b[0m \u001b[0mm\u001b[0m  \u001b[1;32min\u001b[0m \u001b[0mexp\u001b[0m\u001b[1;33m]\u001b[0m\u001b[1;33m\u001b[0m\u001b[1;33m\u001b[0m\u001b[0m\n\u001b[0m",
      "\u001b[1;31mValueError\u001b[0m: not enough values to unpack (expected 3, got 2)"
     ]
    }
   ],
   "source": [
    "s = [s for s, a  in exp]"
   ]
  },
  {
   "cell_type": "code",
   "execution_count": 40,
   "metadata": {},
   "outputs": [],
   "source": [
    "s = []\n",
    "for k, v in exp:\n",
    "    s.append(v)"
   ]
  },
  {
   "cell_type": "code",
   "execution_count": 41,
   "metadata": {},
   "outputs": [
    {
     "data": {
      "text/plain": [
       "list"
      ]
     },
     "execution_count": 41,
     "metadata": {},
     "output_type": "execute_result"
    }
   ],
   "source": [
    "type(s)"
   ]
  },
  {
   "cell_type": "code",
   "execution_count": 54,
   "metadata": {},
   "outputs": [
    {
     "data": {
      "text/plain": [
       "[0, 1, 2, 3, 4, 5, 6, 7, 8, 9]"
      ]
     },
     "execution_count": 54,
     "metadata": {},
     "output_type": "execute_result"
    }
   ],
   "source": [
    "s"
   ]
  },
  {
   "cell_type": "code",
   "execution_count": 101,
   "metadata": {},
   "outputs": [
    {
     "data": {
      "text/plain": [
       "int"
      ]
     },
     "execution_count": 101,
     "metadata": {},
     "output_type": "execute_result"
    }
   ],
   "source": [
    "type(1)"
   ]
  },
  {
   "cell_type": "code",
   "execution_count": 242,
   "metadata": {},
   "outputs": [
    {
     "data": {
      "text/plain": [
       "[<matplotlib.lines.Line2D at 0x1618441ee08>]"
      ]
     },
     "execution_count": 242,
     "metadata": {},
     "output_type": "execute_result"
    },
    {
     "data": {
      "image/png": "[encoded data removed]",
      "text/plain": [
       "<Figure size 432x288 with 1 Axes>"
      ]
     },
     "metadata": {
      "needs_background": "light"
     },
     "output_type": "display_data"
    }
   ],
   "source": [
    "plt.plot([1, 2, 3, 4], [1, 4, 9, 16])"
   ]
  },
  {
   "cell_type": "code",
   "execution_count": null,
   "metadata": {},
   "outputs": [],
   "source": []
  }
 ],
 "metadata": {
  "kernelspec": {
   "display_name": "Python 3",
   "language": "python",
   "name": "python3"
  },
  "language_info": {
   "codemirror_mode": {
    "name": "ipython",
    "version": 3
   },
   "file_extension": ".py",
   "mimetype": "text/x-python",
   "name": "python",
   "nbconvert_exporter": "python",
   "pygments_lexer": "ipython3",
   "version": "3.7.9"
  }
 },
 "nbformat": 4,
 "nbformat_minor": 4
}
