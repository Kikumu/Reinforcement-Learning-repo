{
 "cells": [
  {
   "cell_type": "code",
   "execution_count": 1,
   "metadata": {},
   "outputs": [],
   "source": [
    "import random\n",
    "import numpy as np\n",
    "import torch\n",
    "import torch.nn as nn\n",
    "import torch.optim as optim\n",
    "import torch.nn.functional as F\n",
    "import torchvision.transforms as T\n",
    "from torch.nn.init import kaiming_uniform_"
   ]
  },
  {
   "cell_type": "code",
   "execution_count": 2,
   "metadata": {},
   "outputs": [],
   "source": [
    "import numpy as np\n",
    "import gym\n",
    "from tqdm import tqdm\n",
    "import random as rand\n",
    "from itertools import count"
   ]
  },
  {
   "cell_type": "code",
   "execution_count": 3,
   "metadata": {},
   "outputs": [],
   "source": [
    "env = gym.make(\"CartPole-v0\")"
   ]
  },
  {
   "cell_type": "code",
   "execution_count": 4,
   "metadata": {},
   "outputs": [],
   "source": [
    "class ReplayMemory():\n",
    "    def __init__(self,capacity):   \n",
    "        self.capacity = capacity\n",
    "        self.memory = []\n",
    "        self.push_count = 0\n",
    "        \n",
    "    def push(self, experience):\n",
    "        if len(self.memory) < self.capacity:\n",
    "            self.memory.append(experience)\n",
    "        else:\n",
    "            self.memory[self.push_count%self.capacity] = experience\n",
    "        self.push_count+=1\n",
    "    \n",
    "    def sample(self, batch_size):\n",
    "        return rand.sample(self.memory,batch_size)\n",
    "    \n",
    "    def can_provide_sample(self, batch_size):\n",
    "        return len(self.memory)>=batch_size\n",
    "    \n",
    "    def update_td_error(self, sampled_experiences):\n",
    "        for sampled_idx,sampled_exp in enumerate(sampled_experiences):\n",
    "            for mem_idx, mem_exp in enumerate(self.memory):\n",
    "                if mem_exp.timestep == sampled_exp.timestep:\n",
    "                    self.memory[mem_idx] = sampled_exp #update memory\n",
    "                    break\n",
    "        \n",
    "    def get_memory_values(self):\n",
    "        return self.memory    "
   ]
  },
  {
   "cell_type": "code",
   "execution_count": 5,
   "metadata": {},
   "outputs": [],
   "source": [
    "def extract_tensors(experiences):\n",
    "    #print(\".....................................................\")\n",
    "    #print(experiences)\n",
    "    batch = Xp(*zip(*experiences))\n",
    "    state = np.stack(batch.state) #stack\n",
    "    action = np.stack(batch.action)\n",
    "    next_state = np.stack(batch.next_state)\n",
    "    reward = np.stack(batch.reward)\n",
    "    done = np.stack(batch.done)\n",
    "    abs_td_error = np.stack(batch.abs_td_error)\n",
    "    timestep = np.stack(batch.timestep)\n",
    "    return state,action,next_state,reward,done,abs_td_error,timestep"
   ]
  },
  {
   "cell_type": "code",
   "execution_count": 6,
   "metadata": {},
   "outputs": [],
   "source": [
    "def rebuild_experiences(state, action, next_state, reward, done, abs_error, timestep):\n",
    "    exp_list = []\n",
    "    for idx_ in range(len(state)):\n",
    "        exp_list.append(\\\n",
    "                        Xp(state[idx_], action[idx_], next_state[idx_], reward[idx_],\\\n",
    "                           done[idx_], abs_error[idx_], timestep[idx_]))\n",
    "    return exp_list"
   ]
  },
  {
   "cell_type": "code",
   "execution_count": 7,
   "metadata": {},
   "outputs": [
    {
     "data": {
      "text/plain": [
       "Experience(state=5, action=6, next_state=7, reward=8, done=9, abs_td_error=10, timestep=11)"
      ]
     },
     "execution_count": 7,
     "metadata": {},
     "output_type": "execute_result"
    }
   ],
   "source": [
    "from collections import namedtuple\n",
    "Xp = namedtuple('Experience',\n",
    "                        ('state', 'action', 'next_state', 'reward', 'done', 'abs_td_error','timestep'))\n",
    "Xp_points = Xp(5,6,7,8,9,10,11)\n",
    "Xp_points"
   ]
  },
  {
   "cell_type": "code",
   "execution_count": 8,
   "metadata": {},
   "outputs": [],
   "source": [
    "class linearApproximator(nn.Module):\n",
    "    def __init__(self,state_shape,n_fc1,n_fc2, action_n):\n",
    "        super(linearApproximator, self).__init__()\n",
    "        self.input_size = state_shape\n",
    "        self.n_fc1 = n_fc1\n",
    "        self.n_fc2 = n_fc2\n",
    "        self.out = action_n\n",
    "        self.device = torch.device(\"cuda\" if torch.cuda.is_available() else \"cpu\")\n",
    "        \n",
    "        self.fc1  = nn.Linear(self.input_size,self.n_fc1)\n",
    "        kaiming_uniform_(self.fc1.weight, nonlinearity='relu')\n",
    "        self.fc2  = nn.Linear(self.n_fc1,self.n_fc2)\n",
    "        kaiming_uniform_(self.fc2.weight, nonlinearity='relu')\n",
    "        \n",
    "        self.state_value = nn.Linear(self.n_fc2, 1)\n",
    "        self.advantage_actions  = nn.Linear(self.n_fc2,self.out)        \n",
    "        \n",
    "        self.to(self.device)\n",
    "        \n",
    "    def forward(self, state_shape):\n",
    "        x = self.fc1(state_shape)\n",
    "        x = F.relu(x)\n",
    "        x = self.fc2(x)\n",
    "        x = F.relu(x)\n",
    "        \n",
    "        \n",
    "        actions_ = self.advantage_actions(x)\n",
    "        state_value_=self.state_value(x)\n",
    "        state_value_ = state_value_.expand_as(actions_)\n",
    "        #adabantage function equation pg:311 - 316\n",
    "        q = state_value_ + (actions_ - actions_.mean().expand_as(actions_))\n",
    "        return q"
   ]
  },
  {
   "cell_type": "code",
   "execution_count": 9,
   "metadata": {},
   "outputs": [],
   "source": [
    "def update_networks(online_network, target_network, tau):\n",
    "    #polyak averaging: pg:319\n",
    "    for target_weights, online_weights in zip(target_network.parameters(), online_network.parameters()):\n",
    "        target_weight_update = (1.0 - tau)*target_weights.data\n",
    "        online_weight_update = tau*online_weights.data\n",
    "        sum_up = target_weight_update + online_weight_update\n",
    "        target_weights.data.copy_(sum_up)\n",
    "    return online_network, target_network"
   ]
  },
  {
   "cell_type": "code",
   "execution_count": 47,
   "metadata": {},
   "outputs": [],
   "source": [
    "def update_online_model(experience_samples, online_network, target_network, gamma, optimizer,\\\n",
    "                        weighted_importance, indices):\n",
    "    states, actions, next_states, rewards, done, td_errors, timesteps = extract_tensors(experience_samples)\n",
    "    \n",
    "    \n",
    "    \n",
    "    #rearrange first\n",
    "    indices = np.array(indices)#have to be same size as batch size(already taken care of)\n",
    "    indices = np.squeeze(indices)\n",
    "    \n",
    "    states = states[indices,:]\n",
    "    states = np.squeeze(states)\n",
    "    \n",
    "    next_states = next_states[indices,:]\n",
    "    next_states = np.squeeze(next_states)\n",
    "    \n",
    "    actions = actions[indices]\n",
    "    rewards = rewards[indices]\n",
    "    done = done[indices]\n",
    "    td_errors = td_errors[indices]\n",
    "    timesteps = timesteps[indices]    \n",
    "    \n",
    "    \n",
    "    \n",
    "    \n",
    "    states = torch.tensor(states).float()\n",
    "    actions = torch.tensor(actions)\n",
    "    actions = actions.type(torch.LongTensor)\n",
    "    actions = actions.unsqueeze(1)\n",
    "    next_states=torch.tensor(next_states).float()\n",
    "    rewards = torch.tensor(rewards).float()\n",
    "    rewards = rewards.unsqueeze(1)\n",
    "    done = torch.tensor(done).float()\n",
    "    done = done.unsqueeze(1)\n",
    "    weighted_importance = torch.tensor(weighted_importance).float()\n",
    "    \n",
    "    q_online_next_states = online_network(next_states)#we now take next_states from online network \n",
    "    q_online_next_states = q_online_next_states.max(1)[1]#we now take the indices and not the values from online network\n",
    "    q_online_next_states = q_online_next_states.unsqueeze(1)#iindices\n",
    "     \n",
    "    \n",
    "    q_target_next_states_action = target_network(next_states)\n",
    "    q_target_next_states_action = q_target_next_states_action.detach()#always make sure detach on target net\n",
    "    q_target_next_states_action = q_target_next_states_action.gather(1, q_online_next_states)\n",
    "    #print(q_target_next_states_action.shape)\n",
    "    \n",
    "    \n",
    "    #print(q_target_next_states_action.shape, done.shape)\n",
    "    \n",
    "    q_target_next_states_action *=(1 - done) \n",
    "    \n",
    "    q_target = rewards + (gamma*q_target_next_states_action)\n",
    "    \n",
    "    \n",
    "    q_online_state = online_network(states)\n",
    "    q_online_state = q_online_state.gather(1, actions)\n",
    "    \n",
    "    q_online_state*= weighted_importance\n",
    "    q_target*=weighted_importance\n",
    "    abs_error = abs(q_online_state - q_target)#update experience errors\n",
    "    \n",
    "    q_u_loss = torch.nn.SmoothL1Loss()\n",
    "    q_u_loss = q_u_loss(q_online_state,q_target)\n",
    "    \n",
    "    optimizer.zero_grad()\n",
    "    q_u_loss.backward()\n",
    "    optimizer.step()\n",
    "    \n",
    "    states, actions, next_states, rewards, done, td_errors, timesteps = extract_tensors(experience_samples)\n",
    "    abs_error = abs_error.detach().cpu().numpy()\n",
    "    abs_error = np.squeeze(abs_error)\n",
    "    #print(abs_error.shape, \" abs error shape\")\n",
    "    #print(td_errors.shape, \"td errors shape\")\n",
    "    experiences_rebuilded = rebuild_experiences(states, actions, next_states, rewards, done, abs_error, timesteps)\n",
    "    return online_network, target_network, experiences_rebuilded"
   ]
  },
  {
   "cell_type": "code",
   "execution_count": 48,
   "metadata": {},
   "outputs": [],
   "source": [
    "def freeze_model(model):\n",
    "    for param in model.parameters():\n",
    "        param.requires_grad = False\n",
    "    return model"
   ]
  },
  {
   "cell_type": "code",
   "execution_count": 49,
   "metadata": {},
   "outputs": [],
   "source": [
    "def select_action(state, model, epsilon):\n",
    "    device = torch.device(\"cuda\" if torch.cuda.is_available() else \"cpu\")\n",
    "    state = torch.tensor(state).float()\n",
    "    with torch.no_grad():\n",
    "        q_values= model(state).cpu().detach()\n",
    "        q_values = q_values.data.numpy().squeeze()\n",
    "    if np.random.rand() > epsilon:\n",
    "        action = np.argmax(q_values)\n",
    "    else:\n",
    "        action = np.random.randint(len(q_values))\n",
    "    return action"
   ]
  },
  {
   "cell_type": "code",
   "execution_count": 50,
   "metadata": {},
   "outputs": [],
   "source": [
    "def epsilon_decay_linear(init_eps, min_eps, decay_ratio, timestep, timestep_max):\n",
    "    decay_t_step = timestep_max*decay_ratio\n",
    "    epsilon = 1 - timestep/decay_t_step\n",
    "    epsilon *= init_eps-min_eps\n",
    "    epsilon+=min_eps\n",
    "    epsilon = np.clip(epsilon, min_eps, init_eps)\n",
    "    return epsilon"
   ]
  },
  {
   "cell_type": "code",
   "execution_count": 51,
   "metadata": {},
   "outputs": [],
   "source": [
    "def query_error(online_model, target_model, state, next_state):\n",
    "    state = torch.tensor(state).float()\n",
    "    next_state = torch.tensor(next_state).float()\n",
    "    q_val = online_model(state)\n",
    "    q_val = q_val.unsqueeze(0)\n",
    "    q_val = q_val.detach().cpu().numpy()#detatch\n",
    "    q_val = q_val.max(1)[0]#take values of max\n",
    "    q_val_nxt = target_model(next_state)\n",
    "    q_val_nxt = q_val_nxt.unsqueeze(0)\n",
    "    q_val_nxt = q_val_nxt.detach().cpu().numpy()#detach\n",
    "    q_val_nxt = q_val_nxt.max(1)[0]#\n",
    "    return q_val, q_val_nxt"
   ]
  },
  {
   "cell_type": "code",
   "execution_count": 52,
   "metadata": {},
   "outputs": [],
   "source": [
    "def prioritize_samples(experience_samples, alpha, beta):\n",
    "    state,action,next_state,reward,done,abs_td_error,timesteps = extract_tensors(experience_samples)\n",
    "    #rank based\n",
    "    #('state', 'action', 'next_state', 'reward', 'done', 'abs_td_error','timestep')\n",
    "    abs_td_error  = np.expand_dims(abs_td_error, axis=1)\n",
    "    abs_td_error = torch.tensor(abs_td_error)\n",
    "    abs_td_error, indices_ = abs_td_error.sort(0, descending=True)#big to small\n",
    "    indices = np.arange(1, len(abs_td_error)+1)\n",
    "    priorities = 1.0/indices\n",
    "    priorities = priorities**alpha#scale by alpha\n",
    "    priorities = np.expand_dims(priorities, axis=1)\n",
    "    probabilities = priorities/np.sum(priorities, axis=0)#sums up to 1(or 0.999999)\n",
    "    assert np.isclose(probabilities.sum(), 1.0)#ensures probs add up to 1\n",
    "    \n",
    "    number_of_samples  = len(probabilities)\n",
    "    weight_importance_ = number_of_samples*probabilities\n",
    "    weight_importance_ = weight_importance_**-beta\n",
    "    weight_importance_max = np.max(weight_importance_)\n",
    "    weight_importance_scaled = weight_importance_/weight_importance_max\n",
    "    return weight_importance_scaled, indices_ #return weight important samples, return indices for re_arranging sampled experiences"
   ]
  },
  {
   "cell_type": "code",
   "execution_count": 53,
   "metadata": {},
   "outputs": [],
   "source": [
    "def Duelling_DDQN_PER(env,\n",
    "         gamma=0.99,\n",
    "         alpha_pr=0.6,\n",
    "         beta_pr=0.3,\n",
    "         memory_size = 50000,\n",
    "         init_epsilon=1.0,\n",
    "         min_epsilon=0.3,\n",
    "         epsilon_decay_ratio=0.01,\n",
    "         tau = 0.01,\n",
    "         target_update = 1000,\n",
    "         min_sample_size=320,\n",
    "         batch_size = 64,\n",
    "         n_ep=500,\n",
    "         max_t_steps = 50000):\n",
    "    \n",
    "    action_space = env.action_space.n\n",
    "    observation_space = len(env.reset())\n",
    "    hidden_1 = 512\n",
    "    hidden_2 = 128\n",
    "    \n",
    "    online_network = linearApproximator(observation_space, hidden_1, hidden_2, action_space)\n",
    "    target_network = linearApproximator(observation_space, hidden_1, hidden_2, action_space)\n",
    "    target_network.eval()\n",
    "    target_network = freeze_model(target_network)\n",
    "    \n",
    "    optimizer = torch.optim.RMSprop(online_network.parameters(),lr=0.0008)\n",
    "    memory = ReplayMemory(memory_size)\n",
    "    \n",
    "    t_step = 0 #important\n",
    "    reward_per_ep = []\n",
    "    \n",
    "    for e in tqdm(range(n_ep)):\n",
    "        state = env.reset()\n",
    "        reward_accumulated = 0\n",
    "        while True:\n",
    "            epsilon = epsilon_decay_linear(init_epsilon, min_epsilon, epsilon_decay_ratio, t_step, max_t_steps)\n",
    "            action = select_action(state, online_network, epsilon)\n",
    "            \n",
    "            next_state, reward, done, info = env.step(action)\n",
    "            \n",
    "            q_state_a, q_next_state_a = query_error(online_network, target_network, state, next_state)\n",
    "            #convert them to numpy\n",
    "            #calculate shock value and append error to replay memory for PER analysis\n",
    "            td_target = reward + gamma*q_next_state_a\n",
    "            td_error = abs(td_target - q_state_a)#shock value\n",
    "            \n",
    "            reward_accumulated+=reward\n",
    "            is_truncated = 'TimeLimit.truncated' in info and\\\n",
    "                                info['TimeLimit.truncated']\n",
    "            is_failure = done and not is_truncated\n",
    "           \n",
    "            memory.push(Xp(state, action, next_state, reward, is_failure, td_error, t_step))\n",
    "            state = next_state\n",
    "            t_step+=1\n",
    "            if memory.can_provide_sample(min_sample_size):\n",
    "                #we only update td_errors for samples used to update the network - meaning batch_size?\n",
    "                experience_samples = memory.sample(batch_size)\n",
    "                weighted_importance, indices = prioritize_samples(experience_samples, alpha_pr, beta_pr)\n",
    "                online_network, target_network, rebuilded_exp = update_online_model(experience_samples, online_network,\\\n",
    "                                                                                    target_network, gamma, optimizer,\\\n",
    "                                                                                    weighted_importance, indices)\n",
    "                memory.update_td_error(rebuilded_exp)\n",
    "                \n",
    "            if t_step%target_update:\n",
    "                online_network, target_network = update_networks(online_network, target_network, tau)\n",
    "            if done == True:\n",
    "                reward_per_ep.append(reward_accumulated)\n",
    "                #print(reward_accumulated)\n",
    "                break\n",
    "            if t_step > max_t_steps:\n",
    "                return online_network, reward_per_ep\n",
    "    return online_network, reward_per_ep"
   ]
  },
  {
   "cell_type": "code",
   "execution_count": 54,
   "metadata": {},
   "outputs": [
    {
     "name": "stderr",
     "output_type": "stream",
     "text": [
      "  5%|███▋                                                                             | 23/500 [00:01<00:22, 21.00it/s]\n"
     ]
    },
    {
     "ename": "KeyboardInterrupt",
     "evalue": "",
     "output_type": "error",
     "traceback": [
      "\u001b[1;31m---------------------------------------------------------------------------\u001b[0m",
      "\u001b[1;31mKeyboardInterrupt\u001b[0m                         Traceback (most recent call last)",
      "\u001b[1;32m<ipython-input-54-34aef8c38457>\u001b[0m in \u001b[0;36m<module>\u001b[1;34m\u001b[0m\n\u001b[0;32m      1\u001b[0m \u001b[1;32mfrom\u001b[0m \u001b[0mrandom\u001b[0m \u001b[1;32mimport\u001b[0m \u001b[0mseed\u001b[0m\u001b[1;33m\u001b[0m\u001b[1;33m\u001b[0m\u001b[0m\n\u001b[0;32m      2\u001b[0m \u001b[1;31m#seed(0)\u001b[0m\u001b[1;33m\u001b[0m\u001b[1;33m\u001b[0m\u001b[1;33m\u001b[0m\u001b[0m\n\u001b[1;32m----> 3\u001b[1;33m \u001b[0mrewards\u001b[0m \u001b[1;33m=\u001b[0m \u001b[0mDuelling_DDQN_PER\u001b[0m\u001b[1;33m(\u001b[0m\u001b[0menv\u001b[0m\u001b[1;33m)\u001b[0m\u001b[1;33m\u001b[0m\u001b[1;33m\u001b[0m\u001b[0m\n\u001b[0m",
      "\u001b[1;32m<ipython-input-53-2295bdb38d4c>\u001b[0m in \u001b[0;36mDuelling_DDQN_PER\u001b[1;34m(env, gamma, alpha_pr, beta_pr, memory_size, init_epsilon, min_epsilon, epsilon_decay_ratio, tau, target_update, min_sample_size, batch_size, n_ep, max_t_steps)\u001b[0m\n\u001b[0;32m     59\u001b[0m                 online_network, target_network, rebuilded_exp = update_online_model(experience_samples, online_network,\\\n\u001b[0;32m     60\u001b[0m                                                                                     \u001b[0mtarget_network\u001b[0m\u001b[1;33m,\u001b[0m \u001b[0mgamma\u001b[0m\u001b[1;33m,\u001b[0m \u001b[0moptimizer\u001b[0m\u001b[1;33m,\u001b[0m\u001b[0;31m\\\u001b[0m\u001b[1;33m\u001b[0m\u001b[1;33m\u001b[0m\u001b[0m\n\u001b[1;32m---> 61\u001b[1;33m                                                                                     weighted_importance, indices)\n\u001b[0m\u001b[0;32m     62\u001b[0m                 \u001b[0mmemory\u001b[0m\u001b[1;33m.\u001b[0m\u001b[0mupdate_td_error\u001b[0m\u001b[1;33m(\u001b[0m\u001b[0mrebuilded_exp\u001b[0m\u001b[1;33m)\u001b[0m\u001b[1;33m\u001b[0m\u001b[1;33m\u001b[0m\u001b[0m\n\u001b[0;32m     63\u001b[0m \u001b[1;33m\u001b[0m\u001b[0m\n",
      "\u001b[1;32m<ipython-input-47-a371e1b78496>\u001b[0m in \u001b[0;36mupdate_online_model\u001b[1;34m(experience_samples, online_network, target_network, gamma, optimizer, weighted_importance, indices)\u001b[0m\n\u001b[0;32m     65\u001b[0m     \u001b[0moptimizer\u001b[0m\u001b[1;33m.\u001b[0m\u001b[0mzero_grad\u001b[0m\u001b[1;33m(\u001b[0m\u001b[1;33m)\u001b[0m\u001b[1;33m\u001b[0m\u001b[1;33m\u001b[0m\u001b[0m\n\u001b[0;32m     66\u001b[0m     \u001b[0mq_u_loss\u001b[0m\u001b[1;33m.\u001b[0m\u001b[0mbackward\u001b[0m\u001b[1;33m(\u001b[0m\u001b[1;33m)\u001b[0m\u001b[1;33m\u001b[0m\u001b[1;33m\u001b[0m\u001b[0m\n\u001b[1;32m---> 67\u001b[1;33m     \u001b[0moptimizer\u001b[0m\u001b[1;33m.\u001b[0m\u001b[0mstep\u001b[0m\u001b[1;33m(\u001b[0m\u001b[1;33m)\u001b[0m\u001b[1;33m\u001b[0m\u001b[1;33m\u001b[0m\u001b[0m\n\u001b[0m\u001b[0;32m     68\u001b[0m \u001b[1;33m\u001b[0m\u001b[0m\n\u001b[0;32m     69\u001b[0m     \u001b[0mstates\u001b[0m\u001b[1;33m,\u001b[0m \u001b[0mactions\u001b[0m\u001b[1;33m,\u001b[0m \u001b[0mnext_states\u001b[0m\u001b[1;33m,\u001b[0m \u001b[0mrewards\u001b[0m\u001b[1;33m,\u001b[0m \u001b[0mdone\u001b[0m\u001b[1;33m,\u001b[0m \u001b[0mtd_errors\u001b[0m\u001b[1;33m,\u001b[0m \u001b[0mtimesteps\u001b[0m \u001b[1;33m=\u001b[0m \u001b[0mextract_tensors\u001b[0m\u001b[1;33m(\u001b[0m\u001b[0mexperience_samples\u001b[0m\u001b[1;33m)\u001b[0m\u001b[1;33m\u001b[0m\u001b[1;33m\u001b[0m\u001b[0m\n",
      "\u001b[1;32mc:\\users\\scowt\\appdata\\local\\programs\\python\\python37\\lib\\site-packages\\torch\\optim\\optimizer.py\u001b[0m in \u001b[0;36mwrapper\u001b[1;34m(*args, **kwargs)\u001b[0m\n\u001b[0;32m     87\u001b[0m                 \u001b[0mprofile_name\u001b[0m \u001b[1;33m=\u001b[0m \u001b[1;34m\"Optimizer.step#{}.step\"\u001b[0m\u001b[1;33m.\u001b[0m\u001b[0mformat\u001b[0m\u001b[1;33m(\u001b[0m\u001b[0mobj\u001b[0m\u001b[1;33m.\u001b[0m\u001b[0m__class__\u001b[0m\u001b[1;33m.\u001b[0m\u001b[0m__name__\u001b[0m\u001b[1;33m)\u001b[0m\u001b[1;33m\u001b[0m\u001b[1;33m\u001b[0m\u001b[0m\n\u001b[0;32m     88\u001b[0m                 \u001b[1;32mwith\u001b[0m \u001b[0mtorch\u001b[0m\u001b[1;33m.\u001b[0m\u001b[0mautograd\u001b[0m\u001b[1;33m.\u001b[0m\u001b[0mprofiler\u001b[0m\u001b[1;33m.\u001b[0m\u001b[0mrecord_function\u001b[0m\u001b[1;33m(\u001b[0m\u001b[0mprofile_name\u001b[0m\u001b[1;33m)\u001b[0m\u001b[1;33m:\u001b[0m\u001b[1;33m\u001b[0m\u001b[1;33m\u001b[0m\u001b[0m\n\u001b[1;32m---> 89\u001b[1;33m                     \u001b[1;32mreturn\u001b[0m \u001b[0mfunc\u001b[0m\u001b[1;33m(\u001b[0m\u001b[1;33m*\u001b[0m\u001b[0margs\u001b[0m\u001b[1;33m,\u001b[0m \u001b[1;33m**\u001b[0m\u001b[0mkwargs\u001b[0m\u001b[1;33m)\u001b[0m\u001b[1;33m\u001b[0m\u001b[1;33m\u001b[0m\u001b[0m\n\u001b[0m\u001b[0;32m     90\u001b[0m             \u001b[1;32mreturn\u001b[0m \u001b[0mwrapper\u001b[0m\u001b[1;33m\u001b[0m\u001b[1;33m\u001b[0m\u001b[0m\n\u001b[0;32m     91\u001b[0m \u001b[1;33m\u001b[0m\u001b[0m\n",
      "\u001b[1;32mc:\\users\\scowt\\appdata\\local\\programs\\python\\python37\\lib\\site-packages\\torch\\autograd\\grad_mode.py\u001b[0m in \u001b[0;36mdecorate_context\u001b[1;34m(*args, **kwargs)\u001b[0m\n\u001b[0;32m     25\u001b[0m         \u001b[1;32mdef\u001b[0m \u001b[0mdecorate_context\u001b[0m\u001b[1;33m(\u001b[0m\u001b[1;33m*\u001b[0m\u001b[0margs\u001b[0m\u001b[1;33m,\u001b[0m \u001b[1;33m**\u001b[0m\u001b[0mkwargs\u001b[0m\u001b[1;33m)\u001b[0m\u001b[1;33m:\u001b[0m\u001b[1;33m\u001b[0m\u001b[1;33m\u001b[0m\u001b[0m\n\u001b[0;32m     26\u001b[0m             \u001b[1;32mwith\u001b[0m \u001b[0mself\u001b[0m\u001b[1;33m.\u001b[0m\u001b[0m__class__\u001b[0m\u001b[1;33m(\u001b[0m\u001b[1;33m)\u001b[0m\u001b[1;33m:\u001b[0m\u001b[1;33m\u001b[0m\u001b[1;33m\u001b[0m\u001b[0m\n\u001b[1;32m---> 27\u001b[1;33m                 \u001b[1;32mreturn\u001b[0m \u001b[0mfunc\u001b[0m\u001b[1;33m(\u001b[0m\u001b[1;33m*\u001b[0m\u001b[0margs\u001b[0m\u001b[1;33m,\u001b[0m \u001b[1;33m**\u001b[0m\u001b[0mkwargs\u001b[0m\u001b[1;33m)\u001b[0m\u001b[1;33m\u001b[0m\u001b[1;33m\u001b[0m\u001b[0m\n\u001b[0m\u001b[0;32m     28\u001b[0m         \u001b[1;32mreturn\u001b[0m \u001b[0mcast\u001b[0m\u001b[1;33m(\u001b[0m\u001b[0mF\u001b[0m\u001b[1;33m,\u001b[0m \u001b[0mdecorate_context\u001b[0m\u001b[1;33m)\u001b[0m\u001b[1;33m\u001b[0m\u001b[1;33m\u001b[0m\u001b[0m\n\u001b[0;32m     29\u001b[0m \u001b[1;33m\u001b[0m\u001b[0m\n",
      "\u001b[1;32mc:\\users\\scowt\\appdata\\local\\programs\\python\\python37\\lib\\site-packages\\torch\\optim\\rmsprop.py\u001b[0m in \u001b[0;36mstep\u001b[1;34m(self, closure)\u001b[0m\n\u001b[0;32m    114\u001b[0m                       \u001b[0mgroup\u001b[0m\u001b[1;33m[\u001b[0m\u001b[1;34m'weight_decay'\u001b[0m\u001b[1;33m]\u001b[0m\u001b[1;33m,\u001b[0m\u001b[1;33m\u001b[0m\u001b[1;33m\u001b[0m\u001b[0m\n\u001b[0;32m    115\u001b[0m                       \u001b[0mgroup\u001b[0m\u001b[1;33m[\u001b[0m\u001b[1;34m'momentum'\u001b[0m\u001b[1;33m]\u001b[0m\u001b[1;33m,\u001b[0m\u001b[1;33m\u001b[0m\u001b[1;33m\u001b[0m\u001b[0m\n\u001b[1;32m--> 116\u001b[1;33m                       group['centered'])\n\u001b[0m\u001b[0;32m    117\u001b[0m \u001b[1;33m\u001b[0m\u001b[0m\n\u001b[0;32m    118\u001b[0m         \u001b[1;32mreturn\u001b[0m \u001b[0mloss\u001b[0m\u001b[1;33m\u001b[0m\u001b[1;33m\u001b[0m\u001b[0m\n",
      "\u001b[1;32mc:\\users\\scowt\\appdata\\local\\programs\\python\\python37\\lib\\site-packages\\torch\\optim\\_functional.py\u001b[0m in \u001b[0;36mrmsprop\u001b[1;34m(params, grads, square_avgs, grad_avgs, momentum_buffer_list, lr, alpha, eps, weight_decay, momentum, centered)\u001b[0m\n\u001b[0;32m    231\u001b[0m             \u001b[0mavg\u001b[0m \u001b[1;33m=\u001b[0m \u001b[0msquare_avg\u001b[0m\u001b[1;33m.\u001b[0m\u001b[0maddcmul\u001b[0m\u001b[1;33m(\u001b[0m\u001b[0mgrad_avg\u001b[0m\u001b[1;33m,\u001b[0m \u001b[0mgrad_avg\u001b[0m\u001b[1;33m,\u001b[0m \u001b[0mvalue\u001b[0m\u001b[1;33m=\u001b[0m\u001b[1;33m-\u001b[0m\u001b[1;36m1\u001b[0m\u001b[1;33m)\u001b[0m\u001b[1;33m.\u001b[0m\u001b[0msqrt_\u001b[0m\u001b[1;33m(\u001b[0m\u001b[1;33m)\u001b[0m\u001b[1;33m.\u001b[0m\u001b[0madd_\u001b[0m\u001b[1;33m(\u001b[0m\u001b[0meps\u001b[0m\u001b[1;33m)\u001b[0m\u001b[1;33m\u001b[0m\u001b[1;33m\u001b[0m\u001b[0m\n\u001b[0;32m    232\u001b[0m         \u001b[1;32melse\u001b[0m\u001b[1;33m:\u001b[0m\u001b[1;33m\u001b[0m\u001b[1;33m\u001b[0m\u001b[0m\n\u001b[1;32m--> 233\u001b[1;33m             \u001b[0mavg\u001b[0m \u001b[1;33m=\u001b[0m \u001b[0msquare_avg\u001b[0m\u001b[1;33m.\u001b[0m\u001b[0msqrt\u001b[0m\u001b[1;33m(\u001b[0m\u001b[1;33m)\u001b[0m\u001b[1;33m.\u001b[0m\u001b[0madd_\u001b[0m\u001b[1;33m(\u001b[0m\u001b[0meps\u001b[0m\u001b[1;33m)\u001b[0m\u001b[1;33m\u001b[0m\u001b[1;33m\u001b[0m\u001b[0m\n\u001b[0m\u001b[0;32m    234\u001b[0m \u001b[1;33m\u001b[0m\u001b[0m\n\u001b[0;32m    235\u001b[0m         \u001b[1;32mif\u001b[0m \u001b[0mmomentum\u001b[0m \u001b[1;33m>\u001b[0m \u001b[1;36m0\u001b[0m\u001b[1;33m:\u001b[0m\u001b[1;33m\u001b[0m\u001b[1;33m\u001b[0m\u001b[0m\n",
      "\u001b[1;31mKeyboardInterrupt\u001b[0m: "
     ]
    }
   ],
   "source": [
    "from random import seed\n",
    "#seed(0)\n",
    "rewards = Duelling_DDQN_PER(env)"
   ]
  },
  {
   "cell_type": "code",
   "execution_count": 18,
   "metadata": {},
   "outputs": [],
   "source": [
    "#print(rewards)"
   ]
  },
  {
   "cell_type": "code",
   "execution_count": 28,
   "metadata": {},
   "outputs": [],
   "source": [
    "from scipy.ndimage.filters import uniform_filter1d\n",
    "arr = uniform_filter1d(rewards[1], size=5)"
   ]
  },
  {
   "cell_type": "code",
   "execution_count": 29,
   "metadata": {},
   "outputs": [],
   "source": [
    "from matplotlib import pyplot as plt\n",
    "x = []\n",
    "y = []\n",
    "for i,e in enumerate(arr):\n",
    "    y.append(i)\n",
    "    x.append(e)"
   ]
  },
  {
   "cell_type": "code",
   "execution_count": 30,
   "metadata": {},
   "outputs": [
    {
     "data": {
      "text/plain": [
       "[<matplotlib.lines.Line2D at 0x27c82b44608>]"
      ]
     },
     "execution_count": 30,
     "metadata": {},
     "output_type": "execute_result"
    },
    {
     "data": {
      "image/png": "[encoded data removed]",
      "text/plain": [
       "<Figure size 432x288 with 1 Axes>"
      ]
     },
     "metadata": {
      "needs_background": "light"
     },
     "output_type": "display_data"
    }
   ],
   "source": [
    "plt.plot(y, x)#tau 0.1, t = 10 0.01 decay, corrected, added min_sample sixe and batch_size"
   ]
  }
 ],
 "metadata": {
  "kernelspec": {
   "display_name": "Python 3",
   "language": "python",
   "name": "python3"
  },
  "language_info": {
   "codemirror_mode": {
    "name": "ipython",
    "version": 3
   },
   "file_extension": ".py",
   "mimetype": "text/x-python",
   "name": "python",
   "nbconvert_exporter": "python",
   "pygments_lexer": "ipython3",
   "version": "3.7.9"
  }
 },
 "nbformat": 4,
 "nbformat_minor": 4
}
