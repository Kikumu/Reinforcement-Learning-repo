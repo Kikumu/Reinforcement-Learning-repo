{
 "cells": [
  {
   "cell_type": "code",
   "execution_count": 1,
   "metadata": {},
   "outputs": [],
   "source": [
    "import random\n",
    "import numpy as np\n",
    "import torch\n",
    "import torch.nn as nn\n",
    "import torch.optim as optim\n",
    "import torch.nn.functional as F\n",
    "import torchvision.transforms as T\n",
    "from torch.nn.init import kaiming_uniform_#\n",
    "from matplotlib import pyplot as plt\n",
    "import time"
   ]
  },
  {
   "cell_type": "code",
   "execution_count": 2,
   "metadata": {},
   "outputs": [],
   "source": [
    "import numpy as np\n",
    "import gym\n",
    "from tqdm import tqdm\n",
    "import random as rand\n",
    "from itertools import count\n",
    "from torch.distributions import Categorical\n",
    "main_seed = 0"
   ]
  },
  {
   "cell_type": "code",
   "execution_count": 3,
   "metadata": {},
   "outputs": [
    {
     "data": {
      "text/plain": [
       "<TimeLimit<CartPoleEnv<CartPole-v0>>>"
      ]
     },
     "execution_count": 3,
     "metadata": {},
     "output_type": "execute_result"
    }
   ],
   "source": [
    "env = gym.make(\"CartPole-v0\")\n",
    "env.seed(0)\n",
    "env"
   ]
  },
  {
   "cell_type": "code",
   "execution_count": 4,
   "metadata": {},
   "outputs": [],
   "source": [
    "class linearApproximator_FCDAP(nn.Module):\n",
    "    def __init__(self,state_shape,outputs,hidden_dims=(32,32)):\n",
    "        super(linearApproximator_FCDAP, self).__init__()\n",
    "        self.input_size = state_shape\n",
    "        self.out = outputs\n",
    "        self.device = torch.device(\"cuda\" if torch.cuda.is_available()\\\n",
    "                                   else \"cpu\")\n",
    "        \n",
    "        self.fc1  = nn.Linear(self.input_size,hidden_dims[0])\n",
    "        self.hidden_layers = nn.ModuleList()\n",
    "        for i in range(len(hidden_dims)-1):\n",
    "            hidden_layer = nn.Linear(\\\n",
    "                                hidden_dims[i], hidden_dims[i+1])\n",
    "            self.hidden_layers.append(hidden_layer)\n",
    "        \n",
    "        self.output_layer  = nn.Linear(hidden_dims[-1],self.out)\n",
    "        self.to(self.device)\n",
    "        \n",
    "        \n",
    "        \n",
    "    def forward(self, state_shape):\n",
    "        if not isinstance(state_shape, torch.Tensor):\n",
    "            state_shape = torch.tensor(state_shape, dtype=torch.float32)\n",
    "        state_shape = state_shape.to(self.device)\n",
    "            \n",
    "        x = self.fc1(state_shape)\n",
    "        x = F.relu(x)\n",
    "        \n",
    "        for hidden_layer in self.hidden_layers:\n",
    "            x = F.relu(hidden_layer(x))\n",
    "        \n",
    "        logits = self.output_layer(x)#logits, preferences of actions\n",
    "        return logits\n",
    "        \n",
    "    def full_pass(self, state):\n",
    "        logits = self.forward(state).cpu()\n",
    "        distribution = Categorical(logits=logits)\n",
    "        action = distribution.sample()#sample action\n",
    "        log_prob_action = distribution.log_prob(action).unsqueeze(-1)#gets prob of sampled action\n",
    "        entropy = distribution.entropy().unsqueeze(-1)\n",
    "        return action.item(), log_prob_action, entropy, logits"
   ]
  },
  {
   "cell_type": "code",
   "execution_count": 5,
   "metadata": {},
   "outputs": [],
   "source": [
    "class linearApproximator_FCV(nn.Module):\n",
    "    def __init__(self,state_shape,outputs,hidden_dims=(32,32)):\n",
    "        super(linearApproximator_FCV, self).__init__()\n",
    "        self.input_size = state_shape\n",
    "        self.out = outputs\n",
    "        self.device = torch.device(\"cuda\" if torch.cuda.is_available()\\\n",
    "                                   else \"cpu\")\n",
    "        \n",
    "        self.fc1  = nn.Linear(self.input_size,hidden_dims[0])\n",
    "        self.hidden_layers = nn.ModuleList()\n",
    "        for i in range(len(hidden_dims)-1):\n",
    "            hidden_layer = nn.Linear(\\\n",
    "                                hidden_dims[i], hidden_dims[i+1])\n",
    "            self.hidden_layers.append(hidden_layer)\n",
    "        \n",
    "        self.output_layer  = nn.Linear(hidden_dims[-1],self.out)\n",
    "        self.to(self.device)\n",
    "        \n",
    "        \n",
    "        \n",
    "    def forward(self, state_shape):\n",
    "        if not isinstance(state_shape, torch.Tensor):\n",
    "            state_shape = torch.tensor(state_shape, dtype=torch.float32)\n",
    "        state_shape = state_shape.to(self.device)\n",
    "            \n",
    "        x = self.fc1(state_shape)\n",
    "        x = F.relu(x)\n",
    "        \n",
    "        for hidden_layer in self.hidden_layers:\n",
    "            x = F.relu(hidden_layer(x))\n",
    "        \n",
    "        state_value = self.output_layer(x)#logits, preferences of actions\n",
    "        return state_value"
   ]
  },
  {
   "cell_type": "code",
   "execution_count": 6,
   "metadata": {},
   "outputs": [],
   "source": [
    "def worker(env,main_seed,worker_rank,\\\n",
    "          global_policy_network,global_value_network\n",
    "          ):\n",
    "    \n",
    "    local_worker_seed = main_seed + worker_rank\n",
    "    #set seeds\n",
    "    env.seed(local_worker_seed)\n",
    "    torch.manual_seed(local_worker_seed)\n",
    "    np.random.seed(local_worker_seed)\n",
    "    random.seed(local_worker_seed)\n",
    "    \n",
    "    observation_space = len(env.reset())\n",
    "    action_space = env.action_space.n\n",
    "    \n",
    "    worker_policy_network = linearApproximator_FCDAP(observation_space,\\\n",
    "                                     action_space,hidden_dims=(128,64))\n",
    "    worker_value_network = linearApproximator_FCV(observation_space,\\\n",
    "                                     1,hidden_dims=(256,128))\n",
    "    \n",
    "    #load state dict and policy dict from global network to worker\n",
    "    worker_policy_network.load_state_dict(global_policy_network.state_dict())\n",
    "    worker_value_network.load_state_dict(global_value_network.state_dict())\n",
    "    \n",
    "    return worker_policy_network, worker_value_network, env\n",
    "    "
   ]
  },
  {
   "cell_type": "code",
   "execution_count": 7,
   "metadata": {},
   "outputs": [],
   "source": [
    "def select_action(action_model, state):\n",
    "    action, log_prob_action, entropy, logits = action_model.full_pass(state)\n",
    "    return action, log_prob_action, entropy"
   ]
  },
  {
   "cell_type": "code",
   "execution_count": 85,
   "metadata": {},
   "outputs": [],
   "source": [
    "def optimize_model(reward_store, log_pa, states,entropies,\\\n",
    "                   local_value_network,local_policy_network,\\\n",
    "                   global_policy_optimizer, global_value_optimizer,\\\n",
    "                   global_policy_network, global_value_network,\\\n",
    "                   gamma,entropy_beta,gae_tau):\n",
    "    \n",
    "    Trajectory_length = len(reward_store)\n",
    "   \n",
    "    \n",
    "    discounts = np.logspace(0,Trajectory_length,\\\n",
    "                           num=Trajectory_length,base=gamma,\\\n",
    "                           endpoint=False)\n",
    "    \n",
    "    returns = np.array([np.sum(discounts[:Trajectory_length-t] * reward_store[t:]) for t in range(Trajectory_length)])\n",
    "    returns = torch.tensor(returns).unsqueeze(1)\n",
    "\n",
    "    \n",
    "    states = torch.tensor(states).float()\n",
    "    state_values = local_value_network(states)   \n",
    "    state_values_detached = state_values.detach().cpu().numpy()\n",
    "    \n",
    "    model_state_error = returns - state_values\n",
    "    model_state_loss = model_state_error.pow(2).mul(0.5).mean()\n",
    "    global_value_optimizer.zero_grad()\n",
    "    model_state_loss.backward()\n",
    "    \n",
    "    for local_params, global_params in zip(local_value_network.parameters(),\\\n",
    "                                          global_value_network.parameters()):\n",
    "        if global_params.grad is None:\n",
    "            global_params._grad = local_params.grad\n",
    "\n",
    "    global_value_optimizer.step()\n",
    "    local_value_network.load_state_dict(global_value_network.state_dict())\n",
    "    \n",
    "    log_pa = torch.stack(log_pa)\n",
    "    \n",
    "    discounts_tensor = torch.tensor(discounts).unsqueeze(1)\n",
    "    #advantage = returns - state_values.detach()\n",
    "    tau_discounts = np.logspace(0, Trajectory_length-1, num=Trajectory_length-1,\\\n",
    "                               base=gamma*gae_tau, endpoint=False)\n",
    "    #returns =np.array()\n",
    "    state_values_detached = np.squeeze(state_values_detached)\n",
    "    #print(\"rwrd: \", len(reward_store))\n",
    "    #print(\"sts: \", (state_values_detached))\n",
    "    #print(len(state_values_detached))\n",
    "    \n",
    "    advantage = reward_store[:-1] + gamma*state_values_detached[1:] - state_values_detached[:-1]\n",
    "    #print(\"state values: \", state_values_detached.shape)\n",
    "    #print(\"rewards: \", len(reward_store),Trajectory_length)\n",
    "    #print(\"adv shape: \",advantage.shape )\n",
    "    #print(\"tau discount: \",tau_discounts.shape)\n",
    "    \n",
    "    #s_ = [tau_discounts[:Trajectory_length-1-t] * advantage[t:] for t in range(Trajectory_length-1)]\n",
    "    gaes = np.array([np.sum(tau_discounts[:Trajectory_length-1-t] * advantage[t:]) for t in range(Trajectory_length - 1)])\n",
    "    gaes = torch.tensor(gaes).unsqueeze(1)\n",
    "    #print(type(state_values_detached[-1]))\n",
    "    final_state_tensor = torch.tensor(state_values_detached[-1]).unsqueeze(-1)\n",
    "    final_state_tensor = final_state_tensor.unsqueeze(1)\n",
    "    #print(\"final_t: \",final_state_tensor.shape )\n",
    "    #print(gaes.shape, final_state_tensor.shape)\n",
    "    #print(\"gae before: \", gaes.shape)\n",
    "    gaes = torch.cat((gaes,final_state_tensor))\n",
    "    \n",
    "    #print(state_values_detached[-1])\n",
    "    #print(\"log_pa shape: \", log_pa.shape)\n",
    "    #print(\"discount tensor: \", discounts_tensor.shape)\n",
    "    #print(\"gaes: \", gaes.shape)\n",
    "    #local_policy_loss = -(advantage*log_pa*discounts_tensor).mean()\n",
    "    local_policy_loss = -(gaes*log_pa*discounts_tensor).mean()\n",
    "    entropy = torch.tensor(entropies).unsqueeze(1)\n",
    "    entropy = -entropy.mean()\n",
    "    local_policy_loss +=entropy_beta*entropy\n",
    "    \n",
    "    global_policy_optimizer.zero_grad()\n",
    "    local_policy_loss.backward()\n",
    "    \n",
    "    #before backward pass of global param, we copy gradients\n",
    "    for local_param, global_param in zip(local_policy_network.parameters(),\\\n",
    "                                  global_policy_network.parameters()):\n",
    "        if global_param.grad is None:\n",
    "            global_param._grad = local_param.grad\n",
    "    \n",
    "    global_policy_optimizer.step()\n",
    "    \n",
    "    local_policy_network.load_state_dict(global_policy_network.state_dict())"
   ]
  },
  {
   "cell_type": "code",
   "execution_count": 86,
   "metadata": {},
   "outputs": [],
   "source": [
    "def train_worker(env,\\\n",
    "                 local_policy_network, local_value_network,\\\n",
    "                 global_policy_network, global_value_network,\\\n",
    "                 global_policy_optimizer, global_value_optimizer,\\\n",
    "                 max_steps, entropy_beta, gamma, gae_tau):\n",
    "    abort_after = 60*2 #abort after 2 mins\n",
    "    start = time.time()\n",
    "    terminate_worker = False\n",
    "    ovr_rewards = []\n",
    "    while not terminate_worker:\n",
    "        delta = time.time() - start\n",
    "        state = env.reset()\n",
    "        acc_rewards = 0\n",
    "        \n",
    "        n_steps = 0\n",
    "        reward_store = []\n",
    "        state_store = []\n",
    "        log_pa = [] \n",
    "        entropy_store = []\n",
    "        \n",
    "        for step in count(start=1):\n",
    "            action, log_prob_action, entropy = select_action(local_policy_network, state)\n",
    "            next_state, reward, done, info= env.step(action)\n",
    "            acc_rewards+=reward\n",
    "            is_truncated = 'TimeLimit.truncated' in info and\\\n",
    "                                info['TimeLimit.truncated']\n",
    "            is_failure = done and not is_truncated\n",
    "            \n",
    "            reward_store.append(reward)\n",
    "            state_store.append(state)\n",
    "            log_pa.append(log_prob_action)\n",
    "            entropy_store.append(entropy)\n",
    "            \n",
    "            state = next_state\n",
    "            #print(\"rwd_mian: \", len(reward_store))\n",
    "            #print(\"done: \", done, \"step-nstep :\", step - n_steps, \"max: \",max_steps, \"n_steps: \",n_steps, \"step: \", step)\n",
    "            if done == True or step - n_steps == max_steps:\n",
    "                #n_steps return remember...\n",
    "                if is_failure:#set reward to zero if final state is an actual termination \n",
    "                    #print(reward, step - n_steps,max_steps,done )\n",
    "                    reward_store[-1] = 0.0\n",
    "                if len(reward_store) < 2:#if only one value stored in array, no optimization takes place\n",
    "                    continue\n",
    "                optimize_model(reward_store, log_pa, state_store,entropy_store,\\\n",
    "                    local_value_network,local_policy_network,\\\n",
    "                    global_policy_optimizer,global_value_optimizer,\\\n",
    "                    global_policy_network, global_value_network,\\\n",
    "                    gamma,entropy_beta,gae_tau)\n",
    "                \n",
    "                \n",
    "                reward_store = []\n",
    "                state_store = []\n",
    "                log_pa = [] \n",
    "                entropy_store = []\n",
    "                n_steps = step\n",
    "            if done == True:\n",
    "                ovr_rewards.append(acc_rewards)\n",
    "                break\n",
    "            #print(step - n_steps)\n",
    "            if delta >= abort_after:\n",
    "                #print(\"terminate_worker: \", terminate_worker)\n",
    "                terminate_worker = True\n",
    "                break\n",
    "    return ovr_rewards"
   ]
  },
  {
   "cell_type": "code",
   "execution_count": 87,
   "metadata": {},
   "outputs": [],
   "source": [
    "class SharedAdam(torch.optim.Adam):\n",
    "    def __init__(self, params, lr=1e-3, betas=(0.9, 0.999), eps=1e-8, weight_decay=0, amsgrad=False):\n",
    "        super(SharedAdam, self).__init__(\n",
    "            params, lr=lr, betas=betas, eps=eps, \n",
    "            weight_decay=weight_decay, amsgrad=amsgrad)\n",
    "        for group in self.param_groups:\n",
    "            for p in group['params']:\n",
    "                state = self.state[p]\n",
    "                state['step'] = 0\n",
    "                state['shared_step'] = torch.zeros(1).share_memory_()\n",
    "                state['exp_avg'] = torch.zeros_like(p.data).share_memory_()\n",
    "                state['exp_avg_sq'] = torch.zeros_like(p.data).share_memory_()\n",
    "                if weight_decay:\n",
    "                    state['weight_decay'] = torch.zeros_like(p.data).share_memory_()\n",
    "                if amsgrad:\n",
    "                    state['max_exp_avg_sq'] = torch.zeros_like(p.data).share_memory_()\n",
    "\n",
    "    def step(self, closure=None):\n",
    "        for group in self.param_groups:\n",
    "            for p in group['params']:\n",
    "                if p.grad is None:\n",
    "                    continue\n",
    "                self.state[p]['steps'] = self.state[p]['shared_step'].item()\n",
    "                self.state[p]['shared_step'] += 1\n",
    "        super().step(closure)"
   ]
  },
  {
   "cell_type": "code",
   "execution_count": 88,
   "metadata": {},
   "outputs": [],
   "source": [
    "def A3C_GAE(env, lr=0.0007, max_steps=100, entropy_beta=0.001, gamma = 0.99,gae_tau=0.01 ):\n",
    "    main_seed = 0\n",
    "    observation_space = len(env.reset())\n",
    "    action_space = env.action_space.n\n",
    "\n",
    "    global_policy_model = linearApproximator_FCDAP(observation_space,\\\n",
    "                                     action_space,hidden_dims=(128,64))\n",
    "    \n",
    "    global_value_model = linearApproximator_FCV(observation_space,\\\n",
    "                                     1,hidden_dims=(256,128))\n",
    "    \n",
    "    global_policy_optimizer = SharedAdam(global_policy_model.parameters(),lr=lr)\n",
    "    global_value_optimizer = SharedAdam(global_value_model.parameters(),lr=lr)\n",
    "    \n",
    "    worker_reward = []\n",
    "    for worker_rank in tqdm(range(10)):\n",
    "        worker_policy_model, worker_value_model, worker_env = worker(env,main_seed,worker_rank,\\\n",
    "                                                              global_policy_model,global_value_model)\n",
    "        \n",
    "        rwd = train_worker(worker_env,\\\n",
    "                 worker_policy_model, worker_value_model,\\\n",
    "                 global_policy_model, global_value_model,\\\n",
    "                 global_policy_optimizer, global_value_optimizer,\\\n",
    "                 max_steps, entropy_beta, gamma, gae_tau)\n",
    "        worker_reward.append(rwd)\n",
    "    return worker_reward"
   ]
  },
  {
   "cell_type": "code",
   "execution_count": 89,
   "metadata": {},
   "outputs": [
    {
     "name": "stderr",
     "output_type": "stream",
     "text": [
      "100%|█████████████████████████████████████████████████████████████████████████████████| 10/10 [20:00<00:00, 120.04s/it]\n"
     ]
    }
   ],
   "source": [
    "r = A3C_GAE(env)"
   ]
  },
  {
   "cell_type": "code",
   "execution_count": 129,
   "metadata": {},
   "outputs": [],
   "source": [
    "from scipy.ndimage.filters import uniform_filter1d\n",
    "arr = uniform_filter1d(r[0], size=10)"
   ]
  },
  {
   "cell_type": "code",
   "execution_count": 130,
   "metadata": {},
   "outputs": [],
   "source": [
    "from matplotlib import pyplot as plt\n",
    "x = []\n",
    "y = []\n",
    "for i,e in enumerate(arr):\n",
    "    y.append(i)\n",
    "    x.append(e)"
   ]
  },
  {
   "cell_type": "code",
   "execution_count": 131,
   "metadata": {},
   "outputs": [
    {
     "data": {
      "text/plain": [
       "[<matplotlib.lines.Line2D at 0x2d39bd75c88>]"
      ]
     },
     "execution_count": 131,
     "metadata": {},
     "output_type": "execute_result"
    },
    {
     "data": {
      "image/png": "[encoded data removed]",
      "text/plain": [
       "<Figure size 432x288 with 1 Axes>"
      ]
     },
     "metadata": {
      "needs_background": "light"
     },
     "output_type": "display_data"
    }
   ],
   "source": [
    "plt.plot(y, x)#tau 0.1, t = 10 0.01 decay, corrected, added min_sample sixe and batch_size"
   ]
  },
  {
   "cell_type": "code",
   "execution_count": null,
   "metadata": {},
   "outputs": [],
   "source": []
  }
 ],
 "metadata": {
  "kernelspec": {
   "display_name": "Python 3",
   "language": "python",
   "name": "python3"
  },
  "language_info": {
   "codemirror_mode": {
    "name": "ipython",
    "version": 3
   },
   "file_extension": ".py",
   "mimetype": "text/x-python",
   "name": "python",
   "nbconvert_exporter": "python",
   "pygments_lexer": "ipython3",
   "version": "3.7.9"
  }
 },
 "nbformat": 4,
 "nbformat_minor": 4
}
