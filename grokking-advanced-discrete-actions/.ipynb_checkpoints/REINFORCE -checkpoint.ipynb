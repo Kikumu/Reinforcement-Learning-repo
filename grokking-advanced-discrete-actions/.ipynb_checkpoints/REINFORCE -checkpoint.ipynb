{
 "cells": [
  {
   "cell_type": "code",
   "execution_count": 1,
   "metadata": {},
   "outputs": [],
   "source": [
    "import random\n",
    "import numpy as np\n",
    "import torch\n",
    "import torch.nn as nn\n",
    "import torch.optim as optim\n",
    "import torch.nn.functional as F\n",
    "import torchvision.transforms as T\n",
    "from torch.nn.init import kaiming_uniform_"
   ]
  },
  {
   "cell_type": "code",
   "execution_count": 2,
   "metadata": {},
   "outputs": [],
   "source": [
    "import numpy as np\n",
    "import gym\n",
    "from tqdm import tqdm\n",
    "import random as rand\n",
    "from itertools import count"
   ]
  },
  {
   "cell_type": "code",
   "execution_count": 3,
   "metadata": {},
   "outputs": [],
   "source": [
    "env = gym.make(\"CartPole-v0\")"
   ]
  },
  {
   "cell_type": "code",
   "execution_count": 23,
   "metadata": {},
   "outputs": [],
   "source": [
    "def generate_trajectory(model, env, max_steps=20): #generate single trajectory from start to terminal state\n",
    "    done, trajectory = False, []\n",
    "    state = env.reset()\n",
    "    while not done:\n",
    "        for t in range(max_steps):\n",
    "            action, log_prob_action = select_action(model, state)\n",
    "            next_state, reward, done, _ = env.step(action)\n",
    "            experience = (state, action, reward, next_state,log_prob_action)\n",
    "            trajectory.append(experience)\n",
    "            if done == True:\n",
    "                break\n",
    "            state = next_state\n",
    "    return trajectory"
   ]
  },
  {
   "cell_type": "code",
   "execution_count": 17,
   "metadata": {},
   "outputs": [],
   "source": [
    "def decay_schedule(init_value,\n",
    "                   min_value,\n",
    "                   decay_ratio,\n",
    "                   max_steps,\n",
    "                   log_start = -2,\n",
    "                   log_base=10\n",
    "):\n",
    "    decay_steps = int(max_steps * decay_ratio)\n",
    "    rem_steps = max_steps - decay_steps\n",
    "    \n",
    "    values = np.logspace(log_start,\n",
    "                        0,\n",
    "                        decay_steps,\n",
    "                        base = log_base,\n",
    "                        endpoint = True)[::-1]\n",
    "    #print(value)\n",
    "    values = (values - values.min())/(values.max() - values.min())\n",
    "    values = np.pad(values, (0, rem_steps), 'edge')\n",
    "    return values"
   ]
  },
  {
   "cell_type": "code",
   "execution_count": 13,
   "metadata": {},
   "outputs": [],
   "source": [
    "class linearApproximator_FCDAP(nn.Module):\n",
    "    def __init__(self,state_shape,n_fc1,n_fc2, outputs):\n",
    "        super(linearApproximator_FCDAP, self).__init__()\n",
    "        self.input_size = state_shape\n",
    "        self.n_fc1 = n_fc1\n",
    "        self.n_fc2 = n_fc2\n",
    "        self.out = outputs\n",
    "        self.device = torch.device(\"cuda\" if torch.cuda.is_available()\\\n",
    "                                   else \"cpu\")\n",
    "        \n",
    "        self.fc1  = nn.Linear(self.input_size,self.n_fc1)\n",
    "        kaiming_uniform_(self.fc1.weight, nonlinearity='relu')\n",
    "        self.fc2  = nn.Linear(self.n_fc1,self.n_fc2)\n",
    "        kaiming_uniform_(self.fc2.weight, nonlinearity='relu')\n",
    "        \n",
    "        self.output_layer  = nn.Linear(self.n_fc2,self.out)\n",
    "        kaiming_uniform_(self.advantage_actions.weight, nonlinearity='relu')\n",
    "\n",
    "        \n",
    "        \n",
    "        self.to(self.device)\n",
    "        \n",
    "    def forward(self, state_shape):\n",
    "        x = self.fc1(state_shape)\n",
    "        x = F.relu(x)\n",
    "        x = self.fc2(x)\n",
    "        x = F.relu(x)\n",
    "        \n",
    "        logits_ = self.output_layer(x)#logits, preferences of sctions\n",
    "        distribution_ = torch.distributions.Categorical(logits=logits)\n",
    "        actions_ = distribution_.sample()\n",
    "        log_prob_actions = \\\n",
    "                        distribution_.log_prob(actions_).unsqueeze(-1)\n",
    "        print(\"log_prob_act: \", distribution_.log_prob(actions_).shape)\n",
    "        print(\"log_prob_act_main: \", log_prob_actions.shape)\n",
    "        \n",
    "        entropy = distribution_.entropy().unsqueeze(-1)#level of surprise/uncertainty/information\n",
    "        #item returns values as a standard number\n",
    "        return actions_.item(),log_prob_actions,entropy,logits_"
   ]
  },
  {
   "cell_type": "code",
   "execution_count": 18,
   "metadata": {},
   "outputs": [],
   "source": [
    "def select_action(model, state):\n",
    "    action,log_prob_actions,_,_,_ = model(state)\n",
    "    return action, log_prob_actions"
   ]
  },
  {
   "cell_type": "code",
   "execution_count": 15,
   "metadata": {},
   "outputs": [],
   "source": [
    "def select_greedy_actions(model,state):\n",
    "    _,_,_,logits_ = model(state)\n",
    "    print(\"g_actions: \", logits_.shape)\n",
    "    return np.argmax(logits_.detach.numpy())"
   ]
  },
  {
   "cell_type": "code",
   "execution_count": 21,
   "metadata": {},
   "outputs": [],
   "source": [
    "def numpy_to_tensor(val):\n",
    "    device = device = torch.device(\"cuda\" if torch.cuda.is_available()\\\n",
    "                                   else \"cpu\")\n",
    "    return torch.tensor(val).to(device)"
   ]
  },
  {
   "cell_type": "code",
   "execution_count": 22,
   "metadata": {},
   "outputs": [],
   "source": [
    "def optimize_model(trajectory,model,gamma,optimizer):\n",
    "    Trajectory_length = len(trajectory)\n",
    "    discounts = np.logspace(0,Trajectory_length,\\\n",
    "                           num=Trajectory_length,base=gamma,\\\n",
    "                           endpoint=False)\n",
    "    rewards =  trajectory[2]\n",
    "    log_probs = trajectory[-1]\n",
    "    print(\"log probs opt: \", log_probs)\n",
    "    print(\"r: \", rewards.shape)\n",
    "    G = [np.sum(discounts[:Trajectory_length-t]* rewards[t:])\\\n",
    "                                for t in range(Trajectory_length)]\n",
    "    discounts = numpy_to_tensor(discounts)\n",
    "    G = numpy_to_tensor(G)\n",
    "    \n",
    "    policy_loss = -(discounts*G*log_probs).mean()\n",
    "    optimizer.zero_grad()\n",
    "    policy_loss.backward()\n",
    "    optimizer.step()"
   ]
  },
  {
   "cell_type": "code",
   "execution_count": null,
   "metadata": {},
   "outputs": [],
   "source": [
    "def REINFORCE_(env):\n",
    "    observation_space = len(env.reset())\n",
    "    model = linearApproximator_FCDAP(observation_space, )"
   ]
  }
 ],
 "metadata": {
  "kernelspec": {
   "display_name": "Python 3",
   "language": "python",
   "name": "python3"
  },
  "language_info": {
   "codemirror_mode": {
    "name": "ipython",
    "version": 3
   },
   "file_extension": ".py",
   "mimetype": "text/x-python",
   "name": "python",
   "nbconvert_exporter": "python",
   "pygments_lexer": "ipython3",
   "version": "3.7.9"
  }
 },
 "nbformat": 4,
 "nbformat_minor": 4
}
