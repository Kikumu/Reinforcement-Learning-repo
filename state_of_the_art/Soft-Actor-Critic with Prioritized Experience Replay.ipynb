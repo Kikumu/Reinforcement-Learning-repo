{
 "cells": [
  {
   "cell_type": "code",
   "execution_count": 1,
   "metadata": {},
   "outputs": [],
   "source": [
    "import random\n",
    "import numpy as np\n",
    "import torch\n",
    "import torch.nn as nn\n",
    "import torch.optim as optim\n",
    "import torch.nn.functional as F\n",
    "import torchvision.transforms as T\n",
    "from torch.nn.init import kaiming_uniform_\n",
    "from torch.distributions import Normal\n",
    "from scipy.ndimage.filters import uniform_filter1d\n",
    "from matplotlib import pyplot as plt"
   ]
  },
  {
   "cell_type": "code",
   "execution_count": 2,
   "metadata": {},
   "outputs": [],
   "source": [
    "import numpy as np\n",
    "import gym\n",
    "from tqdm import tqdm\n",
    "import random as rand\n",
    "from itertools import count\n",
    "import time\n",
    "import gym"
   ]
  },
  {
   "cell_type": "code",
   "execution_count": 3,
   "metadata": {},
   "outputs": [],
   "source": [
    "class ReplayMemory():\n",
    "    def __init__(self,capacity):   \n",
    "        self.capacity = capacity\n",
    "        self.memory = []\n",
    "        self.push_count = 0\n",
    "        \n",
    "    def push(self, experience):\n",
    "        if len(self.memory) < self.capacity:\n",
    "            self.memory.append(experience)\n",
    "        else:\n",
    "            self.memory[self.push_count%self.capacity] = experience\n",
    "        self.push_count+=1\n",
    "    \n",
    "    def sample(self, batch_size):\n",
    "        return rand.sample(self.memory,batch_size)\n",
    "    \n",
    "    def can_provide_sample(self, batch_size):\n",
    "        return len(self.memory)>=batch_size\n",
    "    \n",
    "    def update_td_error(self, sampled_experiences):\n",
    "        for sampled_idx,sampled_exp in enumerate(sampled_experiences):\n",
    "            for mem_idx, mem_exp in enumerate(self.memory):\n",
    "                if mem_exp.timestep == sampled_exp.timestep:\n",
    "                    self.memory[mem_idx] = sampled_exp #update memory\n",
    "                    break\n",
    "        \n",
    "    def get_memory_values(self):\n",
    "        return self.memory    "
   ]
  },
  {
   "cell_type": "code",
   "execution_count": 4,
   "metadata": {},
   "outputs": [],
   "source": [
    "def extract_tensors(experiences):\n",
    "    #print(\".....................................................\")\n",
    "    #print(experiences)\n",
    "    batch = Xp(*zip(*experiences))\n",
    "    state = np.stack(batch.state) #stack\n",
    "    action = np.stack(batch.action)\n",
    "    next_state = np.stack(batch.next_state)\n",
    "    reward = np.stack(batch.reward)\n",
    "    done = np.stack(batch.done)\n",
    "    abs_td_error = np.stack(batch.abs_td_error)\n",
    "    timestep = np.stack(batch.timestep)\n",
    "    return state,action,next_state,reward,done,abs_td_error,timestep"
   ]
  },
  {
   "cell_type": "code",
   "execution_count": 5,
   "metadata": {},
   "outputs": [],
   "source": [
    "def rebuild_experiences(state, action, next_state, reward, done, abs_error, timestep):\n",
    "    exp_list = []\n",
    "    for idx_ in range(len(state)):\n",
    "        exp_list.append(\\\n",
    "                        Xp(state[idx_], action[idx_], next_state[idx_], reward[idx_],\\\n",
    "                           done[idx_], abs_error[idx_], timestep[idx_]))\n",
    "    return exp_list"
   ]
  },
  {
   "cell_type": "code",
   "execution_count": 6,
   "metadata": {},
   "outputs": [
    {
     "data": {
      "text/plain": [
       "Experience(state=5, action=6, next_state=7, reward=8, done=9, abs_td_error=10, timestep=11)"
      ]
     },
     "execution_count": 6,
     "metadata": {},
     "output_type": "execute_result"
    }
   ],
   "source": [
    "from collections import namedtuple\n",
    "Xp = namedtuple('Experience',\n",
    "                        ('state', 'action', 'next_state', 'reward', 'done', 'abs_td_error','timestep'))\n",
    "Xp_points = Xp(5,6,7,8,9,10,11)\n",
    "Xp_points"
   ]
  },
  {
   "cell_type": "code",
   "execution_count": 7,
   "metadata": {},
   "outputs": [],
   "source": [
    "class linearApproximator_FCGSAP(nn.Module):\n",
    "    def __init__(self,env,state_shape,outputs,hidden_dims=(32,32), log_entropy_lr =3e-3,\\\n",
    "                log_std_dev_min=-20, log_std_dev_max= 2):\n",
    "        super(linearApproximator_FCGSAP, self).__init__()\n",
    "        self.input_size = state_shape\n",
    "        self.out = outputs\n",
    "        self.log_std_dev_min = log_std_dev_min\n",
    "        self.log_std_dev_max = log_std_dev_max\n",
    "        self.device = torch.device(\"cuda\" if torch.cuda.is_available()\\\n",
    "                                   else \"cpu\")\n",
    "        self.env = env\n",
    "        self.fc1  = nn.Linear(self.input_size,hidden_dims[0])\n",
    "        self.hidden_layers = nn.ModuleList()\n",
    "        for i in range(len(hidden_dims)-1):\n",
    "            hidden_layer = nn.Linear(\\\n",
    "                                hidden_dims[i], hidden_dims[i+1])\n",
    "            self.hidden_layers.append(hidden_layer)\n",
    "        \n",
    "        self.output_layer_distribution  = nn.Linear(hidden_dims[-1],self.out)\n",
    "        self.output_layer_mean = nn.Linear(hidden_dims[-1],self.out)\n",
    "        self.target_entropy = -torch.prod(torch.tensor(env.action_space.shape)).item()\n",
    "        self.log_alpha = torch.full((1,1),0.2,\\\n",
    "                                     requires_grad=True,\\\n",
    "                                     device = self.device)\n",
    "        print(\"l_a: \", self.log_alpha)\n",
    "        self.log_alpha_optimizer = torch.optim.Adam([self.log_alpha],\\\n",
    "                                                    lr=log_entropy_lr)\n",
    "                                     \n",
    "        self.to(self.device)\n",
    "        \n",
    "    def forward(self, state_shape):\n",
    "        if not isinstance(state_shape, torch.Tensor):\n",
    "            state_shape = torch.tensor(state_shape, dtype=torch.float32)\n",
    "        state_shape = state_shape.to(self.device)\n",
    "        x = self.fc1(state_shape)\n",
    "        x = F.relu(x)\n",
    "        \n",
    "        for hidden_layer in self.hidden_layers:\n",
    "            x = F.relu(hidden_layer(x))\n",
    "        \n",
    "        distribution = self.output_layer_distribution(x)#logits, preferences of actions\n",
    "        distribution = torch.clamp(distribution,\\\n",
    "                                   self.log_std_dev_min,\\\n",
    "                                   self.log_std_dev_max)\n",
    "        mean   = self.output_layer_mean(x)\n",
    "        return mean, distribution\n",
    "    \n",
    "    \n",
    "    def rescale_actions(self, x, env):\n",
    "        device = torch.device(\"cuda\" if torch.cuda.is_available() else \"cpu\")\n",
    "        tan_min = torch.tanh(torch.Tensor([float('-inf')])).to(device)\n",
    "        tan_max = torch.tanh(torch.Tensor([float('inf')])).to(device)\n",
    "        env_high = torch.tensor(env.action_space.high).float().to(device)\n",
    "        env_low = torch.tensor(env.action_space.low).float().to(device)\n",
    "        rescale_fn = lambda x: (x - tan_min) * (env_high - env_low)/\\\n",
    "                                     (tan_max - tan_min) + env_low\n",
    "        x = rescale_fn(x)\n",
    "        return x\n",
    "    \n",
    "    def full_pass(self, state, epsilon = 1e-6):\n",
    "        mean, distribution = self.forward(state)\n",
    "        pi_s = Normal(mean, distribution.exp())\n",
    "        pre_tanh_actions = pi_s.rsample()\n",
    "        tanh_actions = torch.tanh(pre_tanh_actions)#scale actions between -1 and 1\n",
    "        #we also rescale our logprobs to match action space\n",
    "        rescaled_actions = self.rescale_actions(tanh_actions, self.env)\n",
    "        log_probs = pi_s.log_prob(pre_tanh_actions) - torch.log(\\\n",
    "                                    (1 - tanh_actions.pow(2)) + epsilon)\n",
    "                                                \n",
    "        log_probs = log_probs.sum(dim=1, keepdim=True)\n",
    "        return rescaled_actions, log_probs, mean"
   ]
  },
  {
   "cell_type": "code",
   "execution_count": 8,
   "metadata": {},
   "outputs": [],
   "source": [
    "class linearApproximator_FCQV(nn.Module):#Q value of state action pair\n",
    "    def __init__(self,state_shape,action_outputs_size,hidden_dims=(32,32)):\n",
    "        super(linearApproximator_FCQV, self).__init__()\n",
    "        self.input_size = state_shape\n",
    "        self.action_outputs_size = action_outputs_size\n",
    "        self.device = torch.device(\"cuda\" if torch.cuda.is_available()\\\n",
    "                                   else \"cpu\")\n",
    "        \n",
    "        self.fc1  = nn.Linear(self.input_size,hidden_dims[0])\n",
    "        self.hidden_layers = nn.ModuleList()\n",
    "        for i in range(len(hidden_dims)-1):\n",
    "            hidden_input_layer = hidden_dims[i]\n",
    "            if i == 0:\n",
    "                hidden_input_layer += self.action_outputs_size #increased to account for size/number of actions\n",
    "            hidden_layer = nn.Linear(\\\n",
    "                                hidden_input_layer, hidden_dims[i+1])\n",
    "            self.hidden_layers.append(hidden_layer)\n",
    "        \n",
    "        self.output_layer  = nn.Linear(hidden_dims[-1],1)\n",
    "        self.to(self.device)\n",
    "        \n",
    "    def forward(self, state_shape, action_shape):\n",
    "        if not isinstance(state_shape, torch.Tensor):\n",
    "            state_shape = torch.tensor(state_shape, dtype=torch.float32).to(self.device)\n",
    "        if not isinstance(action_shape, torch.Tensor):\n",
    "            action_shape = torch.tensor(action_shape, dtype=torch.float32).to(self.device)\n",
    "                    \n",
    "        x = self.fc1(state_shape)\n",
    "        x = F.relu(x)\n",
    "        \n",
    "        for idx, hidden_layer in enumerate(self.hidden_layers):\n",
    "            if idx == 0:\n",
    "                x = torch.cat((x, action_shape), dim=1)\n",
    "            x = F.relu(hidden_layer(x))\n",
    "        \n",
    "        q_value = self.output_layer(x)#logits, preferences of actions\n",
    "        return q_value"
   ]
  },
  {
   "cell_type": "code",
   "execution_count": 9,
   "metadata": {},
   "outputs": [],
   "source": [
    "def update_networks(online_q_network_a, online_q_network_b,\\\n",
    "                    offline_q_network_a, offline_q_network_b, tau):\n",
    "        \n",
    "    for target_weights, online_weights in zip(offline_q_network_a.parameters(), online_q_network_a.parameters()):\n",
    "        target_weight_update = (1.0 - tau)*target_weights.data\n",
    "        online_weight_update = tau*online_weights.data\n",
    "        sum_up = target_weight_update + online_weight_update\n",
    "        target_weights.data.copy_(sum_up)\n",
    "        \n",
    "    for target_weights, online_weights in zip(offline_q_network_b.parameters(), online_q_network_b.parameters()):\n",
    "        target_weight_update = (1.0 - tau)*target_weights.data\n",
    "        online_weight_update = tau*online_weights.data\n",
    "        sum_up = target_weight_update + online_weight_update\n",
    "        target_weights.data.copy_(sum_up)\n",
    "\n",
    "    return offline_q_network_a, offline_q_network_b"
   ]
  },
  {
   "cell_type": "code",
   "execution_count": 10,
   "metadata": {},
   "outputs": [],
   "source": [
    "def prioritize_samples(experience_samples, alpha, beta):\n",
    "    state,action,next_state,reward,done,abs_td_error,timesteps \\\n",
    "                            = extract_tensors(experience_samples)\n",
    "    abs_td_error, indices_ = (list(t) for t in zip(*sorted(\\\n",
    "                            zip(abs_td_error.tolist(), timesteps))))\n",
    "    abs_td_error.reverse()\n",
    "    indices_.reverse()#reverse to march sort func\n",
    "    abs_td_error = np.array(abs_td_error)\n",
    "    abs_td_error  = torch.tensor(abs_td_error)\n",
    "    ranks = np.arange(1, len(abs_td_error)+1)\n",
    "    priorities = 1.0/ranks\n",
    "    priorities = priorities**alpha\n",
    "    priorities = np.expand_dims(priorities, axis=1)\n",
    "    probabilities = priorities/np.sum(priorities, axis=0)\n",
    "    assert np.isclose(probabilities.sum(), 1.0)\n",
    "    number_of_samples  = len(probabilities)\n",
    "    weight_importance_ = number_of_samples*probabilities\n",
    "    weight_importance_ = weight_importance_**-beta\n",
    "    weight_importance_max = np.max(weight_importance_)\n",
    "    weight_importance_scaled = weight_importance_/weight_importance_max\n",
    "    return weight_importance_scaled, indices_ "
   ]
  },
  {
   "cell_type": "code",
   "execution_count": 11,
   "metadata": {},
   "outputs": [],
   "source": [
    "def update_online_model(experience_samples,\\\n",
    "                        online_policy_network, online_q_network_a, online_q_network_b,\\\n",
    "                        online_policy_optimizer, online_q_optimizer_a, online_q_optimizer_b,\\\n",
    "                        offline_q_network_a, offline_q_network_b,\\\n",
    "                        gamma, weighted_importance,\\\n",
    "                        timestep_indices, current_t_step, update_online_policy):\n",
    "    \n",
    "    states, actions, next_states, rewards, done, td_errors, timesteps = extract_tensors(experience_samples)\n",
    "    device = torch.device(\"cuda\" if torch.cuda.is_available() else \"cpu\")\n",
    "    #rearrange first\n",
    "    arrange_weighted_values = [timestep_indices.index(i) for i in timesteps]\n",
    "    \n",
    "    states = np.squeeze(states)\n",
    "    next_states = np.squeeze(next_states)\n",
    "    \n",
    "    states = torch.tensor(states).float().to(device)\n",
    "    actions = torch.tensor(actions)\n",
    "    actions = actions.float().to(device)\n",
    "    next_states=torch.tensor(next_states).float().to(device)\n",
    "    rewards = torch.tensor(rewards).float().to(device)\n",
    "    rewards = rewards.unsqueeze(1)\n",
    "    done = torch.tensor(done).float().to(device)\n",
    "    done = done.unsqueeze(1)\n",
    "    weighted_importance = torch.tensor(weighted_importance).float().to(device)\n",
    "    weighted_importance = weighted_importance[arrange_weighted_values,:]\n",
    "    \n",
    "    current_actions,log_pi, _ = online_policy_network.full_pass(states)\n",
    "    target_alpha = (online_policy_network.target_entropy +\\\n",
    "                    log_pi).detach()\n",
    "    target_alpha_loss = (-online_policy_network.log_alpha *\\\n",
    "                         target_alpha).mean()\n",
    "    \n",
    "    online_policy_network.log_alpha_optimizer.zero_grad()\n",
    "    target_alpha_loss.backward()\n",
    "    online_policy_network.log_alpha_optimizer.step()\n",
    "    optimized_alpha = online_policy_network.log_alpha.exp()\n",
    "    \n",
    "    predicted_online_action_policy,\\\n",
    "                log_pi_ns, _ = online_policy_network.full_pass(next_states)\n",
    "    max_q_sa_offline_a = offline_q_network_a(next_states,\\\n",
    "                                predicted_online_action_policy.detach())\n",
    "    max_q_sa_offline_b = offline_q_network_b(next_states,\\\n",
    "                                predicted_online_action_policy.detach())\n",
    "    max_q_sa_offline = torch.min(max_q_sa_offline_a,\\\n",
    "                                 max_q_sa_offline_b)\n",
    "    \n",
    "    max_q_sa_offline = max_q_sa_offline - optimized_alpha*log_pi_ns\n",
    "    TWIN_target = max_q_sa_offline\n",
    "    TWIN_target = TWIN_target.detach()\n",
    "    TWIN_target = rewards + gamma*TWIN_target*(1-done)\n",
    "    TWIN_target = TWIN_target * weighted_importance.detach()\n",
    "    TWIN_target = TWIN_target.detach()\n",
    "    #loss_func = torch.nn.SmoothL1Loss()\n",
    "    \n",
    "    \n",
    "    q_sa_online_a = online_q_network_a(states, actions)\n",
    "    q_sa_online_a = q_sa_online_a * weighted_importance.detach()\n",
    "    q_sa_online_b = online_q_network_b(states, actions)\n",
    "    q_sa_online_b = q_sa_online_b * weighted_importance.detach()\n",
    "    \n",
    "    #update errors\n",
    "    abs_a = (TWIN_target - q_sa_online_a.detach())\n",
    "    abs_b = (TWIN_target - q_sa_online_b.detach())\n",
    "    ovr_abs_update = torch.min(abs_a, abs_b)\n",
    "    ovr_abs_update = np.absolute(ovr_abs_update.detach().cpu().numpy())\n",
    "    \n",
    "    \n",
    "    #q_online_value_loss_a = loss_func(q_sa_online_a,\\\n",
    "    #                                         TWIN_target.detach())\n",
    "    #q_online_value_loss_b = loss_func(q_sa_online_b,\\\n",
    "    #                                         TWIN_target.detach())\n",
    "    \n",
    "    qa_loss = (q_sa_online_a - TWIN_target.detach()).pow(2).mul(0.5).mean()\n",
    "    qb_loss = (q_sa_online_b - TWIN_target.detach()).pow(2).mul(0.5).mean()\n",
    "    online_q_optimizer_a.zero_grad()\n",
    "    qa_loss.backward()\n",
    "    online_q_optimizer_a.step()\n",
    "    \n",
    "    online_q_optimizer_b.zero_grad()\n",
    "    qb_loss.backward()\n",
    "    online_q_optimizer_b.step()\n",
    "    \n",
    "    \n",
    "    if current_t_step%update_online_policy == 0:\n",
    "        current_actions,log_pi, _ = online_policy_network.full_pass(states)\n",
    "        max_q_sa_online_a = online_q_network_a(states,\\\n",
    "                                           current_actions.detach())\n",
    "        max_q_sa_online_b = online_q_network_b(states,\\\n",
    "                                           current_actions.detach())\n",
    "        max_q_online__ = torch.min(max_q_sa_online_a,\\\n",
    "                               max_q_sa_online_b)\n",
    "        policy_loss = (optimized_alpha.detach()*log_pi\\\n",
    "                    - max_q_online__.detach()).mean()#policy loss\n",
    "        online_policy_optimizer.zero_grad()\n",
    "        policy_loss.backward()\n",
    "        online_policy_optimizer.step()\n",
    "        \n",
    "    states, actions, next_states, rewards, done, td_errors, timesteps = extract_tensors(experience_samples)\n",
    "    experiences_rebuilded = rebuild_experiences(states, actions, next_states, rewards, done, ovr_abs_update, timesteps)\n",
    "    return experiences_rebuilded,online_policy_network"
   ]
  },
  {
   "cell_type": "code",
   "execution_count": 12,
   "metadata": {},
   "outputs": [],
   "source": [
    "def query_error(online_policy_network, offline_q_network_a, offline_q_network_b,\\\n",
    "                online_q_network_a, online_q_network_b, state, action, next_state, reward, gamma):\n",
    "    device = torch.device(\"cuda\" if torch.cuda.is_available() else \"cpu\")\n",
    "\n",
    "    state = torch.tensor(state).float().to(device)\n",
    "    state = state.unsqueeze(0)\n",
    "    next_state = torch.tensor(next_state).float().to(device)\n",
    "    next_state = next_state.unsqueeze(0)\n",
    "    alpha = online_policy_network.log_alpha.exp()\n",
    "    ns_actions,log_pi_ns, _ = online_policy_network.full_pass(next_state)\n",
    "    q_target_next_states_action_a = offline_q_network_a(next_state,\\\n",
    "                                                    ns_actions.detach())\n",
    "    q_target_next_states_action_b = offline_q_network_b(next_state,\\\n",
    "                                                    ns_actions.detach())\n",
    "    TWIN_target = torch.min(q_target_next_states_action_a, q_target_next_states_action_b)\n",
    "    TWIN_target = TWIN_target - alpha * log_pi_ns\n",
    "    TWIN_target = reward + (gamma*TWIN_target.detach())\n",
    "    action = np.expand_dims(action, axis=0)\n",
    "    q_online_state_action_val_a = online_q_network_a(state, action)\n",
    "    q_online_state_action_val_b = online_q_network_b(state, action)\n",
    "    abs_a = (TWIN_target - q_online_state_action_val_a)\n",
    "    abs_b = (TWIN_target - q_online_state_action_val_b)\n",
    "    abs_stack = torch.min(abs_a, abs_b)\n",
    "    ovr_abs_update = abs_stack\n",
    "    return np.absolute(ovr_abs_update.detach().cpu().numpy())"
   ]
  },
  {
   "cell_type": "code",
   "execution_count": 13,
   "metadata": {},
   "outputs": [],
   "source": [
    "def freeze_model(model):\n",
    "    for param in model.parameters():\n",
    "        param.requires_grad = False\n",
    "    return model"
   ]
  },
  {
   "cell_type": "code",
   "execution_count": 14,
   "metadata": {},
   "outputs": [],
   "source": [
    "def rescale_actions(x, env):\n",
    "    device = torch.device(\"cuda\" if torch.cuda.is_available() else \"cpu\")\n",
    "    tan_min = torch.tanh(torch.Tensor([float('-inf')])).to(device)\n",
    "    tan_max = torch.tanh(torch.Tensor([float('inf')])).to(device)\n",
    "    env_high = torch.tensor(env.action_space.high).float().to(device)\n",
    "    env_low = torch.tensor(env.action_space.low).float().to(device)\n",
    "    rescale_fn = lambda x: (x - tan_min) * (env_high - env_low)/\\\n",
    "                                     (tan_max - tan_min) + env_low\n",
    "    x = rescale_fn(x)\n",
    "    return x"
   ]
  },
  {
   "cell_type": "code",
   "execution_count": 15,
   "metadata": {},
   "outputs": [],
   "source": [
    "def select_action(state, online_policy_network, env, warm_up, batch_size, memory):\n",
    "    device = torch.device(\"cuda\" if torch.cuda.is_available() else \"cpu\")\n",
    "    state = torch.tensor(state).float().to(device)\n",
    "    state = state.unsqueeze(0)\n",
    "    warm_up_action = batch_size * warm_up\n",
    "    if memory.can_provide_sample(warm_up_action) == False:\n",
    "        action = np.random.uniform(low=env.action_space.low, high=env.action_space.high)\n",
    "        action = action.reshape(env.action_space.high.shape)\n",
    "    else:\n",
    "        with torch.no_grad():\n",
    "            mean,log_std = online_policy_network.forward(state)\n",
    "            action = torch.tanh(Normal(mean, log_std.exp()).sample())\n",
    "            action = rescale_actions(action, env)\n",
    "            action = action.detach().cpu().numpy().reshape(env.action_space.high.shape)\n",
    "    return action"
   ]
  },
  {
   "cell_type": "code",
   "execution_count": 16,
   "metadata": {},
   "outputs": [],
   "source": [
    "def plot_grad_flow(named_parameters):\n",
    "    ave_grads = []\n",
    "    layers = []\n",
    "    for n, p in named_parameters:\n",
    "        if(p.requires_grad) and (\"bias\" not in n):\n",
    "            layers.append(n)\n",
    "            ave_grads.append(p.grad.abs().mean().detach().cpu().numpy())\n",
    "    plt.plot(ave_grads, alpha=0.3, color=\"b\")\n",
    "    plt.hlines(0, 0, len(ave_grads)+1, linewidth=1, color=\"k\" )\n",
    "    plt.xticks(range(0,len(ave_grads), 1), layers, rotation=\"vertical\")\n",
    "    plt.xlim(xmin=0, xmax=len(ave_grads))\n",
    "    plt.xlabel(\"Layers\")\n",
    "    plt.ylabel(\"average gradient\")\n",
    "    plt.title(\"Gradient flow\")\n",
    "    plt.grid(True)"
   ]
  },
  {
   "cell_type": "code",
   "execution_count": 17,
   "metadata": {},
   "outputs": [],
   "source": [
    "def SAC_PER(env,\n",
    "         gamma=0.99,\n",
    "         alpha_pr=0.6,\n",
    "         beta_pr=0,\n",
    "         memory_size = 5000,\n",
    "         tau = 0.1,\n",
    "         offline_update = 2,\n",
    "         min_sample_size=500,\n",
    "         batch_size = 64,\n",
    "         n_ep=200,\n",
    "         max_steps = 100000,\n",
    "         max_steps_per_ep = 300,\n",
    "         warm_up=2,\n",
    "         policy_update=2\n",
    "         ):\n",
    "    \n",
    "    \n",
    "    observation_space = len(env.reset())\n",
    "    action_space_high, action_space_low = env.action_space.high, env.action_space.low\n",
    "    n_actions = len(action_space_high)\n",
    "    online_policy_network = linearApproximator_FCGSAP(env,observation_space,n_actions,\\\n",
    "                                     hidden_dims=(256,256))\n",
    "    online_q_network_a = linearApproximator_FCQV(observation_space,\\\n",
    "                                     n_actions,hidden_dims=(256,256))\n",
    "    online_q_network_b = linearApproximator_FCQV(observation_space,\\\n",
    "                                     n_actions,hidden_dims=(256,256))\n",
    "    \n",
    "    offline_q_network_a = linearApproximator_FCQV(observation_space,\\\n",
    "                                     n_actions,hidden_dims=(256,256))\n",
    "    offline_q_network_b = linearApproximator_FCQV(observation_space,\\\n",
    "                                     n_actions,hidden_dims=(256,256))\n",
    "    \n",
    "\n",
    "    offline_q_network_a.eval()\n",
    "    offline_q_network_a = freeze_model(offline_q_network_a)\n",
    "    offline_q_network_b.eval()\n",
    "    offline_q_network_b = freeze_model(offline_q_network_b)\n",
    "    \n",
    "    online_policy_optimizer    = torch.optim.RMSprop(online_policy_network.parameters(),lr=0.0008)\n",
    "    online_q_optimizer_a = torch.optim.RMSprop(online_q_network_a.parameters(),lr=0.0008)\n",
    "    online_q_optimizer_b = torch.optim.RMSprop(online_q_network_b.parameters(),lr=0.0008)\n",
    "    \n",
    "    memory = ReplayMemory(memory_size)\n",
    "    \n",
    "    t_step = 0 #important\n",
    "    reward_per_ep = []\n",
    "    \n",
    "    \n",
    "    for e in tqdm(range(n_ep)):\n",
    "        state = env.reset()\n",
    "        reward_accumulated = 0\n",
    "        \n",
    "        while True:\n",
    "            env.render()\n",
    "            action = select_action(state, online_policy_network, env, warm_up, batch_size, memory)\n",
    "            #if memory.can_provide_sample(min_sample_size):\n",
    "                #print(action)\n",
    "            next_state, reward, done, info = env.step(action)\n",
    "            td_error = query_error(online_policy_network, offline_q_network_a, offline_q_network_b,\\\n",
    "                                online_q_network_a, online_q_network_b,\\\n",
    "                                state, action, next_state, reward, gamma)\n",
    "            td_error = np.squeeze(td_error, axis = 0)\n",
    "            reward_accumulated+=reward\n",
    "            is_truncated = 'TimeLimit.truncated' in info and\\\n",
    "                                info['TimeLimit.truncated']\n",
    "            is_failure = done and not is_truncated\n",
    "           \n",
    "            memory.push(Xp(state, action, next_state, reward, is_failure, td_error, t_step))\n",
    "            state = next_state\n",
    "            t_step+=1\n",
    "            if memory.can_provide_sample(min_sample_size):\n",
    "                experience_samples = memory.sample(batch_size)\n",
    "                weighted_importance, indices = prioritize_samples(experience_samples, alpha_pr, beta_pr)\n",
    "                rebuilded_exp, online_policy_network= update_online_model(experience_samples,\\\n",
    "                        online_policy_network, online_q_network_a, online_q_network_b,\\\n",
    "                        online_policy_optimizer, online_q_optimizer_a, online_q_optimizer_b,\\\n",
    "                        offline_q_network_a, offline_q_network_b,\\\n",
    "                        gamma,weighted_importance,indices,t_step,policy_update)\n",
    "                memory.update_td_error(rebuilded_exp)\n",
    "                \n",
    "            if t_step%offline_update == 0:\n",
    "                offline_q_network_a, offline_q_network_b = update_networks(online_q_network_a, online_q_network_b,\\\n",
    "                                                                    offline_q_network_a, offline_q_network_b, tau)\n",
    "            if done == True:\n",
    "                reward_per_ep.append(reward_accumulated)\n",
    "                break\n",
    "            #if t_step % max_steps_per_ep == 0:\n",
    "                #plot_grad_flow(online_policy_network.named_parameters())\n",
    "                #break\n",
    "            if t_step > max_steps:\n",
    "                env.close()\n",
    "                return reward_per_ep\n",
    "    env.close()           \n",
    "    return online_policy_network,reward_per_ep"
   ]
  },
  {
   "cell_type": "code",
   "execution_count": 18,
   "metadata": {},
   "outputs": [],
   "source": [
    "#env = gym.make('BipedalWalker-v3')\n",
    "env = gym.make(\"Pendulum-v0\")#baseline env\n",
    "#env.seed(0)"
   ]
  },
  {
   "cell_type": "code",
   "execution_count": 19,
   "metadata": {},
   "outputs": [],
   "source": [
    "env.close()"
   ]
  },
  {
   "cell_type": "code",
   "execution_count": 20,
   "metadata": {},
   "outputs": [
    {
     "name": "stdout",
     "output_type": "stream",
     "text": [
      "l_a:  tensor([[0.2000]], device='cuda:0', requires_grad=True)\n"
     ]
    },
    {
     "name": "stderr",
     "output_type": "stream",
     "text": [
      "100%|██████████| 200/200 [15:12<00:00,  4.56s/it]\n"
     ]
    }
   ],
   "source": [
    "pn, rewards = SAC_PER(env)"
   ]
  },
  {
   "cell_type": "code",
   "execution_count": null,
   "metadata": {},
   "outputs": [],
   "source": [
    "arr = uniform_filter1d(rewards, size=5)"
   ]
  },
  {
   "cell_type": "code",
   "execution_count": null,
   "metadata": {},
   "outputs": [],
   "source": [
    "x = []\n",
    "y = []\n",
    "for i,e in enumerate(arr):\n",
    "    y.append(i)\n",
    "    x.append(e)"
   ]
  },
  {
   "cell_type": "code",
   "execution_count": null,
   "metadata": {},
   "outputs": [],
   "source": [
    "plt.plot(y, x)"
   ]
  },
  {
   "cell_type": "code",
   "execution_count": 33,
   "metadata": {},
   "outputs": [
    {
     "data": {
      "text/plain": [
       "[<matplotlib.lines.Line2D at 0x7f7537bf3d30>]"
      ]
     },
     "execution_count": 33,
     "metadata": {},
     "output_type": "execute_result"
    },
    {
     "data": {
      "image/png": "[encoded data removed]",
      "text/plain": [
       "<Figure size 432x288 with 1 Axes>"
      ]
     },
     "metadata": {
      "needs_background": "light"
     },
     "output_type": "display_data"
    }
   ],
   "source": [
    "plt.plot(y, x)"
   ]
  },
  {
   "cell_type": "code",
   "execution_count": null,
   "metadata": {},
   "outputs": [],
   "source": [
    "plt.plot(y, x)"
   ]
  },
  {
   "cell_type": "code",
   "execution_count": 51,
   "metadata": {},
   "outputs": [
    {
     "data": {
      "text/plain": [
       "[<matplotlib.lines.Line2D at 0x7f3a07649220>]"
      ]
     },
     "execution_count": 51,
     "metadata": {},
     "output_type": "execute_result"
    },
    {
     "data": {
      "image/png": "[encoded data removed]",
      "text/plain": [
       "<Figure size 432x288 with 1 Axes>"
      ]
     },
     "metadata": {
      "needs_background": "light"
     },
     "output_type": "display_data"
    }
   ],
   "source": [
    "plt.plot(y, x)"
   ]
  }
 ],
 "metadata": {
  "kernelspec": {
   "display_name": "Python 3",
   "language": "python",
   "name": "python3"
  },
  "language_info": {
   "codemirror_mode": {
    "name": "ipython",
    "version": 3
   },
   "file_extension": ".py",
   "mimetype": "text/x-python",
   "name": "python",
   "nbconvert_exporter": "python",
   "pygments_lexer": "ipython3",
   "version": "3.8.10"
  }
 },
 "nbformat": 4,
 "nbformat_minor": 4
}
