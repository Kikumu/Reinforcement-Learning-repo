{
 "cells": [
  {
   "cell_type": "code",
   "execution_count": 1,
   "metadata": {},
   "outputs": [],
   "source": [
    "import random\n",
    "import numpy as np\n",
    "import torch\n",
    "import torch.nn as nn\n",
    "import torch.optim as optim\n",
    "import torch.nn.functional as F\n",
    "import torchvision.transforms as T\n",
    "from torch.nn.init import kaiming_uniform_\n",
    "from torch.distributions import Normal\n",
    "from scipy.ndimage.filters import uniform_filter1d\n",
    "from matplotlib import pyplot as plt\n",
    "from collections import namedtuple"
   ]
  },
  {
   "cell_type": "code",
   "execution_count": 2,
   "metadata": {},
   "outputs": [],
   "source": [
    "import numpy as np\n",
    "import gym\n",
    "from tqdm import tqdm\n",
    "import random as rand\n",
    "from itertools import count\n",
    "import time\n",
    "import gym"
   ]
  },
  {
   "cell_type": "code",
   "execution_count": 3,
   "metadata": {},
   "outputs": [],
   "source": [
    "class ReplayMemory():\n",
    "    def __init__(self,capacity):   \n",
    "        self.capacity = capacity\n",
    "        self.memory = {}\n",
    "        self.push_count = 0\n",
    "        \n",
    "    def push(self, timestep, experience):\n",
    "        if len(self.memory) < self.capacity:\n",
    "            self.memory[timestep] = experience\n",
    "        else:\n",
    "            del_key = None\n",
    "            for k in self.memory.keys():\n",
    "                del_key = k\n",
    "                break\n",
    "            self.memory.pop(del_key, None)\n",
    "            self.memory[timestep] = experience\n",
    "        self.push_count+=1\n",
    "    \n",
    "    def sample(self, batch_size):\n",
    "        batch_tuple = random.sample(self.memory.items(), batch_size)#key(timestep), experiences\n",
    "        experience_array = []\n",
    "        for timestep, experiences in batch_tuple:\n",
    "            experience_array.append(experiences)\n",
    "        return experience_array\n",
    "    \n",
    "    def can_provide_sample(self, batch_size):\n",
    "        return len(self.memory)>=batch_size\n",
    "    \n",
    "    def update_td_error(self, sampled_experiences, timesteps):\n",
    "        for i in range(len(timesteps)):\n",
    "            self.memory[timesteps[i]] = sampled_experiences[i]\n",
    "        \n",
    "    def get_memory_values(self):\n",
    "        return self.memory "
   ]
  },
  {
   "cell_type": "code",
   "execution_count": 10,
   "metadata": {},
   "outputs": [],
   "source": [
    "class Agent():\n",
    "    def __init__(self, env, ReplayMemory, online_policy, online_q_a, online_q_b,\\\n",
    "                online_policy_optimizer,online_q_network_optimizer_a, online_q_network_optimizer_b, target_q_a,\\\n",
    "                target_q_b, gamma=0.99, alpha_pr=0.4, beta_pr=0.3,\\\n",
    "                tau=0.01, n_ep=120, max_steps=100000, memory_size=1000000, batch_size=50,\\\n",
    "                policy_update_step=2, target_update=50, min_sample_size=500, warm_up=2, rank_based_prioritization=True):\n",
    "        \n",
    "        \n",
    "        self.env = env\n",
    "        self.tau = tau\n",
    "        self.gamma = gamma\n",
    "        self.alpha_pr = alpha_pr\n",
    "        self.beta_pr = beta_pr\n",
    "        self.agent_max_memory=memory_size\n",
    "        self.batch_size = batch_size\n",
    "        self.n_ep = n_ep\n",
    "        self.max_steps = max_steps\n",
    "        self.min_sample_size=min_sample_size\n",
    "        self.target_update=target_update\n",
    "        self.policy_update_step=policy_update_step\n",
    "        self.online_policy_network = online_policy\n",
    "        self.online_policy_optimizer = online_policy_optimizer\n",
    "        self.online_q_network_a = online_q_a\n",
    "        self.online_q_network_optimizer_a = online_q_network_optimizer_a\n",
    "        self.online_q_network_b = online_q_b\n",
    "        self.online_q_network_optimizer_b = online_q_network_optimizer_b\n",
    "        self.target_q_network_a = target_q_a\n",
    "        self.target_q_network_b = target_q_b\n",
    "        self.current_timestep = 0\n",
    "        self.warm_up = warm_up\n",
    "        self.agent_memory = ReplayMemory(self.agent_max_memory)\n",
    "        self.device = torch.device(\"cuda\" if torch.cuda.is_available()\\\n",
    "                        else \"cpu\")\n",
    "        self.Xp = namedtuple('Experience',\n",
    "                        ('state', 'action', 'next_state', 'reward', 'done', 'abs_td_error','timestep'))\n",
    "        self.rank_based = rank_based_prioritization\n",
    "        \n",
    "    def extract_tensors(self, experiences):\n",
    "        batch = self.Xp(*zip(*experiences))\n",
    "        state = np.stack(batch.state) #stack\n",
    "        action = np.stack(batch.action)\n",
    "        next_state = np.stack(batch.next_state)\n",
    "        reward = np.stack(batch.reward)\n",
    "        done = np.stack(batch.done)\n",
    "        abs_td_error = np.stack(batch.abs_td_error)\n",
    "        timestep = np.stack(batch.timestep)\n",
    "        return state,action,next_state,reward,done,abs_td_error,timestep\n",
    "    \n",
    "    def rebuild_experiences(self, state, action, next_state, reward, done, abs_error, timestep):\n",
    "        exp_list = []\n",
    "        for idx_ in range(len(state)):\n",
    "            exp_list.append(\\\n",
    "                        self.Xp(state[idx_], action[idx_], next_state[idx_], reward[idx_],\\\n",
    "                           done[idx_], abs_error[idx_], timestep[idx_]))\n",
    "        return exp_list \n",
    "    \n",
    "    def prioritize_samples(self, experience_samples, alpha, beta,\\\n",
    "                           epsilon = 1e-6):\n",
    "        state,action,next_state,reward,done,abs_td_error,timesteps \\\n",
    "                            = self.extract_tensors(experience_samples)\n",
    "        \n",
    "        if self.rank_based == True:\n",
    "            abs_td_error, indices_ = (list(t) for t in zip(*sorted(\\\n",
    "                            zip(abs_td_error.tolist(), timesteps))))\n",
    "            abs_td_error.reverse()\n",
    "            indices_.reverse()#reverse to march sort func\n",
    "            abs_td_error = np.array(abs_td_error)\n",
    "            abs_td_error  = torch.tensor(abs_td_error)\n",
    "            ranks = np.arange(1, len(abs_td_error)+1)\n",
    "            priorities = 1.0/ranks\n",
    "        else:\n",
    "            priorities = abs_td_error + epsilon\n",
    "            indices_ = None\n",
    "        \n",
    "        priorities = priorities**alpha\n",
    "        priorities = np.expand_dims(priorities, axis=1)\n",
    "        probabilities = priorities/np.sum(priorities, axis=0)\n",
    "        assert np.isclose(probabilities.sum(), 1.0)\n",
    "        number_of_samples  = len(probabilities)\n",
    "        weight_importance_ = number_of_samples*probabilities\n",
    "        weight_importance_ = weight_importance_**-beta\n",
    "        weight_importance_max = np.max(weight_importance_)\n",
    "        weight_importance_scaled = weight_importance_/weight_importance_max\n",
    "        return weight_importance_scaled, indices_ \n",
    "    \n",
    "    def update_model(self, experience_samples,\\\n",
    "                weighted_importance, timestep_indices):\n",
    "        \n",
    "        states, actions, next_states, rewards, done, _ , timesteps =\\\n",
    "                    self.extract_tensors(experience_samples)\n",
    "        \n",
    "        if self.rank_based == True:\n",
    "            arrange_weighted_values = [timestep_indices.index(i) for i in timesteps]\n",
    "        \n",
    "        states = torch.tensor(np.squeeze(states)).float().to(self.device)\n",
    "        next_states = torch.tensor(np.squeeze(next_states)).float().to(self.device)\n",
    "        actions = torch.tensor(actions).float().to(self.device)\n",
    "        rewards = torch.tensor(rewards).unsqueeze(1).float().to(self.device)\n",
    "        done = torch.tensor(done).unsqueeze(1).float().to(self.device)\n",
    "        weighted_importance = torch.tensor(weighted_importance).float().to(self.device)\n",
    "    \n",
    "        #optimize alpha\n",
    "        current_actions,_, log_pi_s = self.online_policy_network.full_pass(states)\n",
    "        target_alpha = (self.online_policy_network.target_entropy +\\\n",
    "                   log_pi_s).detach()\n",
    "        alpha_loss = -(self.online_policy_network.log_alpha*\\\n",
    "                 target_alpha).mean()\n",
    "        self.online_policy_network.target_entropy_optimizer.zero_grad()\n",
    "        alpha_loss.backward()\n",
    "        self.online_policy_network.target_entropy_optimizer.step()\n",
    "    \n",
    "        #set alpha\n",
    "        alpha = self.online_policy_network.log_alpha.exp()\n",
    "    \n",
    "        #optimize online using target nets\n",
    "        predicted_action_policy,_, log_pi_ns =\\\n",
    "                        self.online_policy_network.full_pass(next_states)\n",
    "\n",
    "        qsa_target_a = self.target_q_network_a(next_states,\\\n",
    "                                        predicted_action_policy)\n",
    "        qsa_target_b = self.target_q_network_b(next_states,\\\n",
    "                                        predicted_action_policy)\n",
    "        target_qsa = torch.min(qsa_target_a, qsa_target_b)\n",
    "        target_qsa = target_qsa - alpha*log_pi_ns\n",
    "        target_qsa = rewards + self.gamma*target_qsa*(1 - done)\n",
    "        target_qsa = target_qsa*weighted_importance\n",
    "        #print(weighted_importance)\n",
    "        target_qsa = target_qsa.detach()\n",
    "        qsa_online_a = self.online_q_network_a(states, actions)\n",
    "        qsa_online_b = self.online_q_network_b(states, actions)\n",
    "        qsa_online_a = qsa_online_a*weighted_importance.detach()\n",
    "        qsa_online_b = qsa_online_b*weighted_importance.detach()\n",
    "    \n",
    "        #update online networks\n",
    "        loss_func = torch.nn.SmoothL1Loss()\n",
    "        qa_loss = loss_func(qsa_online_a,\\\n",
    "                            target_qsa.detach())\n",
    "        qb_loss = loss_func(qsa_online_b,\\\n",
    "                            target_qsa.detach())\n",
    "\n",
    "        self.online_q_network_optimizer_a.zero_grad()\n",
    "        qa_loss.backward()\n",
    "        self.online_q_network_optimizer_a.step()\n",
    "    \n",
    "        self.online_q_network_optimizer_b.zero_grad()\n",
    "        qb_loss.backward()\n",
    "        self.online_q_network_optimizer_b.step()\n",
    "    \n",
    "        abs_a = (target_qsa.squeeze() - qsa_online_a.squeeze())\n",
    "        abs_b = (target_qsa.squeeze() - qsa_online_b.squeeze())\n",
    "        ovr_update = (abs_a + abs_b)/2\n",
    "        ovr_update = abs(ovr_update.detach().cpu().numpy())\n",
    "        if self.current_timestep % self.policy_update_step == 0:\n",
    "            current_actions,_ , log_pi = self.online_policy_network.full_pass(states)\n",
    "            qsa_online_a = self.online_q_network_a(states, current_actions)\n",
    "            qsa_online_b = self.online_q_network_b(states, current_actions)\n",
    "            qsa_min = torch.min(qsa_online_a, qsa_online_b)\n",
    "            policy_loss = (alpha*log_pi\\\n",
    "                      -qsa_min).mean()\n",
    "            self.online_policy_optimizer.zero_grad()\n",
    "            policy_loss.backward()\n",
    "            self.online_policy_optimizer.step()\n",
    "        states, actions, next_states, rewards, done, td_err , timesteps =\\\n",
    "                self.extract_tensors(experience_samples)    \n",
    "        experiences_rebuilded = self.rebuild_experiences\\\n",
    "                (states, actions, next_states, rewards, done, ovr_update, timesteps)\n",
    "        return experiences_rebuilded, timesteps\n",
    "    \n",
    "    def query_error(self, state, action, next_state, reward):\n",
    "\n",
    "        state = torch.tensor(state).unsqueeze(0).float().to(self.device)\n",
    "        next_state = torch.tensor(next_state).unsqueeze(0).float().to(self.device)\n",
    "        alpha = self.online_policy_network.log_alpha.exp()\n",
    "        ns_actions,_, log_pi_ns = self.online_policy_network.full_pass(next_state)\n",
    "        q_target_next_states_action_a = self.target_q_network_a(next_state,\\\n",
    "                                                    ns_actions.detach())\n",
    "        q_target_next_states_action_b = self.target_q_network_b(next_state,\\\n",
    "                                                    ns_actions.detach())\n",
    "        q_min = torch.min(q_target_next_states_action_a, q_target_next_states_action_b)\n",
    "        q_target = q_min - alpha * log_pi_ns\n",
    "        q_target = reward + (self.gamma*q_target.detach())\n",
    "        action = np.expand_dims(action, axis=0)\n",
    "        q_online_state_action_val_a = self.online_q_network_a(state, action)\n",
    "        q_online_state_action_val_b = self.online_q_network_b(state, action)\n",
    "        abs_a = (q_target - q_online_state_action_val_a)\n",
    "        abs_b = (q_target - q_online_state_action_val_b)\n",
    "        abs_stack = (abs_a + abs_b)/2\n",
    "        ovr_abs_update = abs_stack\n",
    "        ovr_abs_update = ovr_abs_update.squeeze()\n",
    "        return np.absolute(ovr_abs_update.detach().cpu().numpy())\n",
    "    \n",
    "    def select_action(self, state):\n",
    "        state = torch.tensor(state).float().to(self.device)\n",
    "        state = state.unsqueeze(0)\n",
    "        warm_up_action = self.batch_size * self.warm_up\n",
    "        if self.agent_memory.can_provide_sample(warm_up_action) == False:\n",
    "            action = np.random.uniform(low=self.env.action_space.low,\\\n",
    "                                       high=self.env.action_space.high)\n",
    "            action = action.reshape(self.env.action_space.high.shape)\n",
    "        else:\n",
    "            with torch.no_grad():\n",
    "                mean,log_std = self.online_policy_network.forward(state)\n",
    "                action = torch.tanh(Normal(mean, log_std.exp()).sample())\n",
    "                action = self.online_policy_network.rescale_actions(action)\n",
    "                action = action.detach().cpu().numpy().reshape(self.env.action_space.high.shape)\n",
    "        return action\n",
    "    \n",
    "    def update_targets(self, online_q_network_, target_q_network_, tau):\n",
    "        for target_weights, online_weights in zip(target_q_network_.parameters(),\\\n",
    "                                                  online_q_network_.parameters()):\n",
    "            target_weight_update = (1.0 - tau)*target_weights.data\n",
    "            online_weight_update = tau*online_weights.data\n",
    "            sum_up = target_weight_update + online_weight_update\n",
    "            target_weights.data.copy_(sum_up)\n",
    "        return target_q_network_\n",
    "    \n",
    "    def train(self):\n",
    "        reward_per_ep = []\n",
    "        for e in tqdm(range(self.n_ep)):\n",
    "            state = self.env.reset()\n",
    "            reward_accumulated = 0\n",
    "            while True:\n",
    "                self.env.render()\n",
    "                action = self.select_action(state)\n",
    "                next_state, reward, done, info = self.env.step(action)\n",
    "                #reward = abs(reward)\n",
    "                td_error = self.query_error(state, action, next_state, reward)\n",
    "                reward_accumulated+=reward\n",
    "                is_truncated = 'TimeLimit.truncated' in info and\\\n",
    "                                info['TimeLimit.truncated']\n",
    "                is_failure = done and not is_truncated\n",
    "                self.agent_memory.push(self.current_timestep,\\\n",
    "                            self.Xp(state, action, next_state,\\\n",
    "                            reward, is_failure, td_error, self.current_timestep))\n",
    "                state = next_state\n",
    "                if self.agent_memory.can_provide_sample(self.min_sample_size):\n",
    "                    experience_samples = self.agent_memory.sample(self.batch_size)\n",
    "                    weighted_importance, indices =\\\n",
    "                            self.prioritize_samples(experience_samples, self.alpha_pr, self.beta_pr)\n",
    "                    experiences_rebuilded, timesteps = \\\n",
    "                            self.update_model(experience_samples, weighted_importance, indices)\n",
    "                    self.agent_memory.update_td_error(experiences_rebuilded, timesteps)\n",
    "                    if self.current_timestep % self.target_update == 0:\n",
    "                        self.target_q_network_a =\\\n",
    "                            self.update_targets(self.online_q_network_a,self.target_q_network_a, self.tau)\n",
    "                        self.target_q_network_b =\\\n",
    "                            self.update_targets(self.online_q_network_b,self.target_q_network_b, self.tau)\n",
    "                    if done == True:\n",
    "                        reward_per_ep.append(reward_accumulated)\n",
    "                        break\n",
    "                    if self.current_timestep > self.max_steps:\n",
    "                        self.env.close()\n",
    "                        break\n",
    "                        return reward_per_ep\n",
    "                self.current_timestep+=1\n",
    "        self.env.close()\n",
    "        return reward_per_ep         "
   ]
  },
  {
   "cell_type": "code",
   "execution_count": 11,
   "metadata": {},
   "outputs": [],
   "source": [
    "class FCGP(nn.Module):\n",
    "    def __init__(self,env, observation_space, action_space, hidden_dims=(32,32),\\\n",
    "                log_alpha_lr=0.001, min_log= -20, max_log=2):\n",
    "        super(FCGP, self).__init__()\n",
    "        self.input_size = observation_space\n",
    "        self.env = env\n",
    "        self.distribution_out = action_space\n",
    "        self.mean_out = action_space\n",
    "        self.log_alpha_lr = log_alpha_lr\n",
    "        self.min_log = min_log\n",
    "        self.max_log = max_log\n",
    "        self.input_layer = nn.Linear(self.input_size, hidden_dims[0])\n",
    "        self.hidden_layers = nn.ModuleList()\n",
    "        for i in range(len(hidden_dims) - 1):\n",
    "            hidden_layer = nn.Linear(hidden_dims[i],\\\n",
    "                                    hidden_dims[i+1])\n",
    "            self.hidden_layers.append(hidden_layer)\n",
    "        \n",
    "        self.mean_layer = nn.Linear(hidden_dims[-1], action_space)#predict mean\n",
    "        self.distribution_layer = nn.Linear(hidden_dims[-1], action_space)#predict distribution\n",
    "        \n",
    "        self.target_entropy =  -1 * torch.tensor(np.prod(env.action_space.high.shape)).float()#recommended target entropy\n",
    "        self.log_alpha = torch.zeros(1, requires_grad=True)\n",
    "        self.target_entropy_optimizer = torch.optim.Adam([self.log_alpha],\\\n",
    "                                                         lr=log_alpha_lr)\n",
    "        self.device = torch.device(\"cuda\" if torch.cuda.is_available()\\\n",
    "                                  else \"cpu\")\n",
    "        self.to(self.device)\n",
    "        \n",
    "    def forward(self, state):\n",
    "        if not isinstance(state, torch.Tensor):\n",
    "            state = torch.tensor(state).float().to(self.device)\n",
    "        x = F.relu(self.input_layer(state))\n",
    "        for hidden_layer in self.hidden_layers:\n",
    "            x = F.relu(hidden_layer(x))\n",
    "        mean_output = self.mean_layer(x)\n",
    "        log_distribution_output = self.distribution_layer(x)\n",
    "        log_distribution_output = log_distribution_output.clamp(self.min_log, self.max_log)#clamp log values so that they wont explode\n",
    "        return mean_output, log_distribution_output\n",
    "    \n",
    "    def rescale_actions(self, x):\n",
    "        tan_min = torch.tanh(torch.Tensor([float('-inf')])).to(self.device)\n",
    "        tan_max = torch.tanh(torch.Tensor([float('inf')])).to(self.device)\n",
    "        env_high = torch.tensor(self.env.action_space.high).float().to(self.device)\n",
    "        env_low = torch.tensor(self.env.action_space.low).float().to(self.device)\n",
    "        rescale_fn = lambda x: (x - tan_min) * (env_high - env_low)/\\\n",
    "                                     (tan_max - tan_min) + env_low\n",
    "        x = rescale_fn(x)\n",
    "        return x.to(self.device)\n",
    "        \n",
    "    \n",
    "    def full_pass(self, state, epsilon=1e-6):\n",
    "        if not isinstance(state, torch.Tensor):\n",
    "            state = torch.tensor(state).float().to(self.device)\n",
    "        mean, log_distribution = self.forward(state)\n",
    "        pi_s = Normal(mean, log_distribution.exp())\n",
    "        sampled_distributions = pi_s.rsample()\n",
    "        tan_h_actions = torch.tanh(sampled_distributions)\n",
    "        \n",
    "        rescaled_actions = self.rescale_actions(tan_h_actions)\n",
    "        log_probs = pi_s.log_prob(sampled_distributions) - torch.log((\\\n",
    "                                                            1 - tan_h_actions.pow(2)).clamp(0,1) + epsilon)\n",
    "        log_probs = log_probs.sum(dim=1, keepdim=True)\n",
    "        return rescaled_actions, mean, log_probs"
   ]
  },
  {
   "cell_type": "code",
   "execution_count": 12,
   "metadata": {},
   "outputs": [],
   "source": [
    "class FCQV(nn.Module):\n",
    "    def __init__(self, observation_space, action_space, hidden_dims=(32,32)):\n",
    "        super(FCQV, self).__init__()\n",
    "        self.input_size = observation_space\n",
    "        self.action_space = action_space\n",
    "        self.input_layer = nn.Linear(self.input_size + self.action_space,\\\n",
    "                                    hidden_dims[0])\n",
    "        self.hidden_layers = nn.ModuleList()\n",
    "        for i in range(len(hidden_dims)-1):\n",
    "            hidden_layer = nn.Linear(hidden_dims[i], hidden_dims[i+1])\n",
    "            self.hidden_layers.append(hidden_layer)\n",
    "        self.output_layer = nn.Linear(hidden_dims[-1], 1)\n",
    "        self.device = torch.device(\"cuda\" if torch.cuda.is_available()\\\n",
    "                                  else \"cpu\")\n",
    "        self.to(self.device)\n",
    "        \n",
    "    def forward(self, state, action):\n",
    "        if not isinstance(state, torch.Tensor):\n",
    "            state = torch.tensor(state).float().to(self.device)\n",
    "        if not isinstance(action, torch.Tensor):\n",
    "            action = torch.tensor(action).float().to(self.device)\n",
    "        x = torch.cat((state, action), dim=1)\n",
    "        x = F.relu(self.input_layer(x))\n",
    "        for hidden_layer in self.hidden_layers:\n",
    "            x = F.relu(hidden_layer(x))\n",
    "        x = self.output_layer(x) \n",
    "        return x"
   ]
  },
  {
   "cell_type": "code",
   "execution_count": 13,
   "metadata": {},
   "outputs": [],
   "source": [
    "def plot_grad_flow(named_parameters):\n",
    "    ave_grads = []\n",
    "    layers = []\n",
    "    for n, p in named_parameters:\n",
    "        if(p.requires_grad) and (\"bias\" not in n):\n",
    "            layers.append(n)\n",
    "            ave_grads.append(p.grad.abs().mean().detach().cpu().numpy())\n",
    "    plt.plot(ave_grads, alpha=0.3, color=\"b\")\n",
    "    plt.hlines(0, 0, len(ave_grads)+1, linewidth=1, color=\"k\" )\n",
    "    plt.xticks(range(0,len(ave_grads), 1), layers, rotation=\"vertical\")\n",
    "    plt.xlim(xmin=0, xmax=len(ave_grads))\n",
    "    plt.xlabel(\"Layers\")\n",
    "    plt.ylabel(\"average gradient\")\n",
    "    plt.title(\"Gradient flow\")\n",
    "    plt.grid(True)"
   ]
  },
  {
   "cell_type": "code",
   "execution_count": 14,
   "metadata": {},
   "outputs": [],
   "source": [
    "def copy_network(online_network, target_network):\n",
    "    for online_weights, target_weights in zip(online_network.parameters(),\\\n",
    "                                              target_network.parameters()):\n",
    "        target_weights.data.copy_(online_weights.data)\n",
    "    return target_network"
   ]
  },
  {
   "cell_type": "code",
   "execution_count": 59,
   "metadata": {},
   "outputs": [],
   "source": [
    "def SAC_PER(env):\n",
    "    \n",
    "    \n",
    "    observation_space = len(env.reset())\n",
    "    action_space_high, action_space_low = env.action_space.high, env.action_space.low\n",
    "    n_actions = len(action_space_high)\n",
    "    online_policy_network = FCGP(env,observation_space,n_actions,\\\n",
    "                                     hidden_dims=(128,64,64))\n",
    "    \n",
    "    online_q_network_a = FCQV(observation_space,\\\n",
    "                                     n_actions,hidden_dims=(128,64,64))\n",
    "    online_q_network_b = FCQV(observation_space,\\\n",
    "                                     n_actions,hidden_dims=(128,64,64))\n",
    "    \n",
    "    target_q_network_a = FCQV(observation_space,\\\n",
    "                                     n_actions,hidden_dims=(128,64,64))\n",
    "    target_q_network_b = FCQV(observation_space,\\\n",
    "                                     n_actions,hidden_dims=(128,64,64))\n",
    "    \n",
    "    #copy parameters from online to target\n",
    "    target_q_network_a = copy_network(online_q_network_a, target_q_network_a)\n",
    "    target_q_network_b = copy_network(online_q_network_b, target_q_network_b)\n",
    "    \n",
    "    target_q_network_a.eval()\n",
    "    target_q_network_b.eval()\n",
    "    \n",
    "    online_policy_optimizer = torch.optim.Adam(online_policy_network.parameters(),lr=0.0008)\n",
    "    online_qa_network_optimizer = torch.optim.Adam(online_q_network_a.parameters(),lr=0.0008)\n",
    "    online_qb_network_optimizer = torch.optim.Adam(online_q_network_b.parameters(),lr=0.0008)\n",
    "    \n",
    "    agent = Agent(env, ReplayMemory, online_policy_network, online_q_network_a, online_q_network_b,\\\n",
    "                online_policy_optimizer,online_qa_network_optimizer, online_qb_network_optimizer, target_q_network_a,\\\n",
    "                target_q_network_b, gamma=0.99, alpha_pr=0.4, beta_pr=0.2,\\\n",
    "                tau=0.01, n_ep=100, max_steps=100000, memory_size=200000, batch_size=100,\\\n",
    "                policy_update_step=2, target_update=20, min_sample_size=500, warm_up=100, rank_based_prioritization=False)\n",
    "    rewards = agent.train() \n",
    "    return rewards"
   ]
  },
  {
   "cell_type": "code",
   "execution_count": 60,
   "metadata": {},
   "outputs": [],
   "source": [
    "#env = gym.make(\"MountainCarContinuous-v0\")#baseline_env\n",
    "env = gym.make(\"Pendulum-v1\")"
   ]
  },
  {
   "cell_type": "code",
   "execution_count": 61,
   "metadata": {},
   "outputs": [],
   "source": [
    "env.close()"
   ]
  },
  {
   "cell_type": "code",
   "execution_count": null,
   "metadata": {
    "scrolled": true
   },
   "outputs": [
    {
     "name": "stderr",
     "output_type": "stream",
     "text": [
      "  5%|████                                                                              | 5/100 [00:19<06:02,  3.82s/it]"
     ]
    }
   ],
   "source": [
    "rewards = SAC_PER(env)"
   ]
  },
  {
   "cell_type": "code",
   "execution_count": null,
   "metadata": {},
   "outputs": [],
   "source": [
    "#plot_grad_flow(a.named_parameters())"
   ]
  },
  {
   "cell_type": "code",
   "execution_count": null,
   "metadata": {},
   "outputs": [],
   "source": [
    "arr = uniform_filter1d(rewards, size=1)"
   ]
  },
  {
   "cell_type": "code",
   "execution_count": null,
   "metadata": {},
   "outputs": [],
   "source": [
    "x = []\n",
    "y = []\n",
    "for i,e in enumerate(arr):\n",
    "    y.append(i)\n",
    "    x.append(e)"
   ]
  },
  {
   "cell_type": "code",
   "execution_count": null,
   "metadata": {},
   "outputs": [],
   "source": [
    "plt.plot(y, x)#20% bias correction, medium-high prioritization rates(40%), proportional prioritization"
   ]
  },
  {
   "cell_type": "code",
   "execution_count": 58,
   "metadata": {},
   "outputs": [
    {
     "data": {
      "text/plain": [
       "[<matplotlib.lines.Line2D at 0x24389c50fc8>]"
      ]
     },
     "execution_count": 58,
     "metadata": {},
     "output_type": "execute_result"
    },
    {
     "data": {
      "image/png": "[encoded data removed]",
      "text/plain": [
       "<Figure size 432x288 with 1 Axes>"
      ]
     },
     "metadata": {
      "needs_background": "light"
     },
     "output_type": "display_data"
    }
   ],
   "source": [
    "plt.plot(y, x)#20% bias correction, medium-high prioritization rates(40%), proportional prioritization"
   ]
  },
  {
   "cell_type": "code",
   "execution_count": 50,
   "metadata": {},
   "outputs": [
    {
     "data": {
      "text/plain": [
       "[<matplotlib.lines.Line2D at 0x24389925788>]"
      ]
     },
     "execution_count": 50,
     "metadata": {},
     "output_type": "execute_result"
    },
    {
     "data": {
      "image/png": "[encoded data removed]",
      "text/plain": [
       "<Figure size 432x288 with 1 Axes>"
      ]
     },
     "metadata": {
      "needs_background": "light"
     },
     "output_type": "display_data"
    }
   ],
   "source": [
    "plt.plot(y, x)#20% bias correction, medium-high prioritization rates(40%), proportional prioritization"
   ]
  },
  {
   "cell_type": "code",
   "execution_count": 38,
   "metadata": {},
   "outputs": [
    {
     "data": {
      "text/plain": [
       "[<matplotlib.lines.Line2D at 0x2438973c5c8>]"
      ]
     },
     "execution_count": 38,
     "metadata": {},
     "output_type": "execute_result"
    },
    {
     "data": {
      "image/png": "[encoded data removed]",
      "text/plain": [
       "<Figure size 432x288 with 1 Axes>"
      ]
     },
     "metadata": {
      "needs_background": "light"
     },
     "output_type": "display_data"
    }
   ],
   "source": [
    "plt.plot(y, x)#20% bias correction, medium-high prioritization rates(40%), proportional prioritization"
   ]
  }
 ],
 "metadata": {
  "kernelspec": {
   "display_name": "Python 3",
   "language": "python",
   "name": "python3"
  },
  "language_info": {
   "codemirror_mode": {
    "name": "ipython",
    "version": 3
   },
   "file_extension": ".py",
   "mimetype": "text/x-python",
   "name": "python",
   "nbconvert_exporter": "python",
   "pygments_lexer": "ipython3",
   "version": "3.7.9"
  }
 },
 "nbformat": 4,
 "nbformat_minor": 5
}
