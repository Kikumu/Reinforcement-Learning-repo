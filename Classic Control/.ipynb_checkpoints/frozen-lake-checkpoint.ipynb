{
 "cells": [
  {
   "cell_type": "code",
   "execution_count": 1,
   "metadata": {},
   "outputs": [],
   "source": [
    "import numpy as np\n",
    "import gym\n",
    "import random\n",
    "import time\n",
    "import torch\n",
    "from IPython.display import clear_output\n",
    "from collections import Counter\n",
    "from functools import reduce\n",
    "import matplotlib.pyplot as plt\n",
    "env = gym.make(\"FrozenLake-v0\")"
   ]
  },
  {
   "cell_type": "code",
   "execution_count": 67,
   "metadata": {},
   "outputs": [],
   "source": [
    "num_episodes = 30000\n",
    "max_steps_per_episode = 100\n",
    "exploration_rate = 1\n",
    "max_exploration_rate = 1\n",
    "min_exploration_rate = 0.01\n",
    "exploration_decay_rate = 0.001\n",
    "action_space_size = int(env.action_space.n)"
   ]
  },
  {
   "cell_type": "code",
   "execution_count": 68,
   "metadata": {},
   "outputs": [],
   "source": [
    "value_state_array = np.zeros((env.observation_space.n,action_space_size),dtype=float)#stores state values"
   ]
  },
  {
   "cell_type": "code",
   "execution_count": 69,
   "metadata": {},
   "outputs": [],
   "source": [
    "#TD Lambda parameters\n",
    "#replay_memory = np.zeros((env.observation_space.n,action_space_size),dtype=float)\n",
    "rewards_array = np.zeros(max_steps_per_episode)\n",
    "next_state_array = np.zeros(max_steps_per_episode)\n",
    "action_taken_array = np.zeros(max_steps_per_episode)\n",
    "state_array = np.zeros(max_steps_per_episode)"
   ]
  },
  {
   "cell_type": "code",
   "execution_count": 70,
   "metadata": {},
   "outputs": [],
   "source": [
    "rewards_all_episodes = []\n",
    "value_state_array = np.zeros((env.observation_space.n,action_space_size),dtype=float)#stores state values\n",
    "step_size = 0.1\n",
    "discounted_return = 0.99\n",
    "#model free control simplistic verson (sarsa) TD(0)\n",
    "for episode in range(num_episodes):\n",
    "    state = env.reset()\n",
    "    done = False\n",
    "    rewards_current_episode = 0\n",
    "    \n",
    "    for step in range(max_steps_per_episode):  \n",
    "        exploration_rate_threshold = random.uniform(0, 1)\n",
    "        \n",
    "        if exploration_rate_threshold > exploration_rate:\n",
    "            action = np.argmax(value_state_array[state,:])\n",
    "        else:\n",
    "            action = env.action_space.sample()\n",
    "            \n",
    "            \n",
    "        new_state, reward, done, _       = env.step(action)\n",
    "        value_state_array[state][action] = value_state_array[state][action]  + step_size*((reward + discounted_return*(np.amax(value_state_array[new_state]))) - value_state_array[state][action])\n",
    "        \n",
    "        state = new_state\n",
    "        rewards_current_episode += reward \n",
    "        if done == True: \n",
    "            break\n",
    "        \n",
    "    exploration_rate = min_exploration_rate + \\\n",
    "        (max_exploration_rate - min_exploration_rate) * np.exp(-exploration_decay_rate*episode)\n",
    "\n",
    "    rewards_all_episodes.append(rewards_current_episode)"
   ]
  },
  {
   "cell_type": "code",
   "execution_count": 71,
   "metadata": {},
   "outputs": [
    {
     "name": "stdout",
     "output_type": "stream",
     "text": [
      "********Average reward per thousand episodes********\n",
      "\n"
     ]
    }
   ],
   "source": [
    "rewards_per_thosand_episodes = np.split(np.array(rewards_all_episodes),num_episodes/1000)\n",
    "count = 1000\n",
    "x_ = []\n",
    "y_ = []\n",
    "print(\"********Average reward per thousand episodes********\\n\")\n",
    "for r in rewards_per_thosand_episodes:\n",
    "    avg_reward = sum(r/1000)\n",
    "    #print(count, \": \", str(avg_reward))\n",
    "    x_.append(count)\n",
    "    y_.append(avg_reward)\n",
    "    count += 1000 "
   ]
  },
  {
   "cell_type": "code",
   "execution_count": 72,
   "metadata": {},
   "outputs": [
    {
     "data": {
      "image/png": "[encoded data removed]",
      "text/plain": [
       "<Figure size 432x288 with 1 Axes>"
      ]
     },
     "metadata": {
      "needs_background": "light"
     },
     "output_type": "display_data"
    }
   ],
   "source": [
    "plt.xlabel(\"Episodes\")\n",
    "plt.ylabel(\"Average rewards\")\n",
    "plt.plot(x_, y_)\n",
    "plt.show()"
   ]
  },
  {
   "cell_type": "code",
   "execution_count": 142,
   "metadata": {},
   "outputs": [
    {
     "data": {
      "text/plain": [
       "array([[0., 0., 0., 0.],\n",
       "       [0., 0., 0., 0.],\n",
       "       [0., 0., 0., 0.],\n",
       "       [0., 0., 0., 0.],\n",
       "       [0., 0., 0., 0.],\n",
       "       [0., 0., 0., 0.],\n",
       "       [0., 0., 0., 0.],\n",
       "       [0., 0., 0., 0.],\n",
       "       [0., 0., 0., 0.],\n",
       "       [0., 0., 0., 0.],\n",
       "       [0., 0., 0., 0.],\n",
       "       [0., 0., 0., 0.],\n",
       "       [0., 0., 0., 0.],\n",
       "       [0., 0., 0., 0.],\n",
       "       [0., 0., 0., 0.],\n",
       "       [0., 0., 0., 0.]])"
      ]
     },
     "execution_count": 142,
     "metadata": {},
     "output_type": "execute_result"
    }
   ],
   "source": [
    "rewards_all_episodes = []\n",
    "look_ahead = 1\n",
    "step_size = 0.01\n",
    "discounted_return = 0.88\n",
    "\n",
    "\n",
    "num_episodes = 30000\n",
    "max_steps_per_episode = 100\n",
    "exploration_rate = 1\n",
    "max_exploration_rate = 1\n",
    "min_exploration_rate = 0.01\n",
    "exploration_decay_rate = 0.001\n",
    "\n",
    "\n",
    "action_space_size = int(env.action_space.n)\n",
    "value_state_array = np.zeros((env.observation_space.n,action_space_size),dtype=float)#stores state values\n",
    "rewards_array = np.zeros(max_steps_per_episode)\n",
    "next_state_array = np.zeros(max_steps_per_episode)\n",
    "action_taken_array = np.zeros(max_steps_per_episode)\n",
    "state_array = np.zeros(max_steps_per_episode)\n",
    "value_state_array"
   ]
  },
  {
   "cell_type": "code",
   "execution_count": 143,
   "metadata": {},
   "outputs": [],
   "source": [
    "rewards_all_episodes = []\n",
    "#model free control simplistic verson (sarsa) TD(n)\n",
    "for episode in range(num_episodes):\n",
    "    state = env.reset()\n",
    "    done = False\n",
    "    rewards_current_episode = 0\n",
    "    T = max_steps_per_episode\n",
    "    for step in range(max_steps_per_episode):  \n",
    "        exploration_rate_threshold = random.uniform(0, 1)\n",
    "        \n",
    "        if exploration_rate_threshold > exploration_rate:\n",
    "            action = np.argmax(value_state_array[state,:])\n",
    "        else:\n",
    "            action = env.action_space.sample()\n",
    "        \n",
    "        new_state, reward, done, _       = env.step(action)\n",
    "\n",
    "        rewards_array[step]          = reward\n",
    "        next_state_array[step]       = new_state\n",
    "        action_taken_array[step]     = action\n",
    "        state_array[step]            = state\n",
    "        \n",
    "        #step update is used to monitor the curent Q being updated\n",
    "        \n",
    "        step_update = step - look_ahead + 1\n",
    "        \n",
    "        #if next state is terminal state\n",
    "        if done == True:\n",
    "            T = step + 1\n",
    "        \n",
    "        if step_update >= 0:\n",
    "            total_return = 0\n",
    "            #we want step update plus one because we are looking at current step onwards\n",
    "            for i in range(step_update,min(step_update + look_ahead,T)):\n",
    "                total_return += np.power(discounted_return, i - step_update - 1)*rewards_array[i]\n",
    "            if step_update + look_ahead < T:\n",
    "                state_tau = int(state_array[look_ahead + step_update])\n",
    "                action_tau= int(action_taken_array[look_ahead + step_update])\n",
    "                total_return += np.power(discounted_return,look_ahead)* value_state_array[state_tau][action_tau]\n",
    "            \n",
    "            update_state  = int(state_array[step_update]) #state taken at timestep\n",
    "            update_action = int(action_taken_array[step_update]) #action taken at timestep\n",
    "            value_state_array[update_state][update_action] = value_state_array[update_state][update_action] + step_size*(total_return - value_state_array[update_state][update_action])\n",
    "        state = new_state\n",
    "        rewards_current_episode += reward \n",
    "        if done == True: \n",
    "            break\n",
    "        \n",
    "    exploration_rate = min_exploration_rate + \\\n",
    "        (max_exploration_rate - min_exploration_rate) * np.exp(-exploration_decay_rate*episode)\n",
    "\n",
    "    rewards_all_episodes.append(rewards_current_episode)"
   ]
  },
  {
   "cell_type": "code",
   "execution_count": 144,
   "metadata": {},
   "outputs": [
    {
     "name": "stdout",
     "output_type": "stream",
     "text": [
      "********Average reward per thousand episodes********\n",
      "\n"
     ]
    }
   ],
   "source": [
    "rewards_per_thosand_episodes = np.split(np.array(rewards_all_episodes),num_episodes/1000)\n",
    "count = 1000\n",
    "x_ = []\n",
    "y_ = []\n",
    "print(\"********Average reward per thousand episodes********\\n\")\n",
    "for r in rewards_per_thosand_episodes:\n",
    "    avg_reward = sum(r/1000)\n",
    "    #print(count, \": \", str(avg_reward))\n",
    "    x_.append(count)\n",
    "    y_.append(avg_reward)\n",
    "    count += 1000 "
   ]
  },
  {
   "cell_type": "code",
   "execution_count": 145,
   "metadata": {},
   "outputs": [
    {
     "data": {
      "image/png": "[encoded data removed]",
      "text/plain": [
       "<Figure size 432x288 with 1 Axes>"
      ]
     },
     "metadata": {
      "needs_background": "light"
     },
     "output_type": "display_data"
    }
   ],
   "source": [
    "plt.xlabel(\"Episodes\")\n",
    "plt.ylabel(\"Average rewards\")\n",
    "plt.plot(x_, y_)\n",
    "plt.show()\n"
   ]
  },
  {
   "cell_type": "code",
   "execution_count": 133,
   "metadata": {},
   "outputs": [
    {
     "data": {
      "text/plain": [
       "array([[7.79479438e-06, 1.03948909e-05, 1.16803564e-05, 9.50271269e-06],\n",
       "       [1.34590239e-05, 1.30265752e-05, 1.54978928e-05, 1.27970641e-05],\n",
       "       [1.56241416e-05, 1.81796571e-05, 1.41105195e-05, 1.48617931e-05],\n",
       "       [2.38033347e-05, 2.24938031e-05, 2.47472557e-05, 2.19108822e-05],\n",
       "       [1.22065674e-05, 1.18696886e-05, 1.58053161e-05, 1.25143327e-05],\n",
       "       [0.00000000e+00, 0.00000000e+00, 0.00000000e+00, 0.00000000e+00],\n",
       "       [1.79343028e-06, 0.00000000e+00, 2.67697091e-05, 2.80717449e-05],\n",
       "       [0.00000000e+00, 0.00000000e+00, 0.00000000e+00, 0.00000000e+00],\n",
       "       [2.06416661e-05, 2.17367489e-05, 2.06609030e-05, 2.10799051e-05],\n",
       "       [3.94866868e-05, 0.00000000e+00, 3.75328662e-05, 3.58408538e-05],\n",
       "       [3.29168001e-05, 0.00000000e+00, 0.00000000e+00, 0.00000000e+00],\n",
       "       [0.00000000e+00, 0.00000000e+00, 0.00000000e+00, 0.00000000e+00],\n",
       "       [0.00000000e+00, 0.00000000e+00, 0.00000000e+00, 0.00000000e+00],\n",
       "       [3.68780029e-05, 0.00000000e+00, 1.56124698e-05, 0.00000000e+00],\n",
       "       [2.65881277e-05, 0.00000000e+00, 0.00000000e+00, 0.00000000e+00],\n",
       "       [0.00000000e+00, 0.00000000e+00, 0.00000000e+00, 0.00000000e+00]])"
      ]
     },
     "execution_count": 133,
     "metadata": {},
     "output_type": "execute_result"
    }
   ],
   "source": [
    "value_state_array"
   ]
  },
  {
   "cell_type": "code",
   "execution_count": null,
   "metadata": {},
   "outputs": [],
   "source": [
    "for episode in range(10):\n",
    "    state = env.reset()\n",
    "    done = False\n",
    "    print(\"*****EPISODE \", episode+1, \"*****\\n\\n\\n\\n\")\n",
    "    time.sleep(1)\n",
    "\n",
    "    for step in range(max_steps_per_episode):        \n",
    "        clear_output(wait=True)\n",
    "        env.render()\n",
    "        time.sleep(0.3)\n",
    "        \n",
    "        action = np.argmax(value_state_array[state,:])        \n",
    "        new_state, reward, done, info = env.step(action)\n",
    "        \n",
    "        if done:\n",
    "            clear_output(wait=True)\n",
    "            env.render()\n",
    "            if reward == 1:\n",
    "                print(\"****You reached the goal!****\")\n",
    "                time.sleep(3)\n",
    "            else:\n",
    "                print(\"****You fell through a hole!****\")\n",
    "                time.sleep(3)\n",
    "            clear_output(wait=True)\n",
    "            break\n",
    "            \n",
    "        state = new_state\n",
    "        \n",
    "env.close()"
   ]
  },
  {
   "cell_type": "code",
   "execution_count": null,
   "metadata": {},
   "outputs": [],
   "source": [
    "action_select_time_step_array"
   ]
  },
  {
   "cell_type": "code",
   "execution_count": null,
   "metadata": {},
   "outputs": [],
   "source": [
    "a = np.arange(30).reshape(5, 6)\n",
    "print(a)"
   ]
  },
  {
   "cell_type": "code",
   "execution_count": null,
   "metadata": {},
   "outputs": [],
   "source": [
    "a[-1:]"
   ]
  },
  {
   "cell_type": "code",
   "execution_count": null,
   "metadata": {},
   "outputs": [],
   "source": [
    "d = [np.nan,np.nan,0,np.nan]\n",
    "np.unique(d)\n",
    "print(type(d))"
   ]
  },
  {
   "cell_type": "code",
   "execution_count": null,
   "metadata": {},
   "outputs": [],
   "source": [
    "result1 = [key for key, count in Counter(d).items() if count == 1]\n",
    "print((result1[0]))"
   ]
  },
  {
   "cell_type": "code",
   "execution_count": null,
   "metadata": {},
   "outputs": [],
   "source": [
    "np.nan"
   ]
  },
  {
   "cell_type": "code",
   "execution_count": null,
   "metadata": {},
   "outputs": [],
   "source": [
    "d = [1,2,0,5]\n",
    "d_n = np.array([d])\n",
    "np.argmax(d_n)"
   ]
  },
  {
   "cell_type": "code",
   "execution_count": null,
   "metadata": {},
   "outputs": [],
   "source": [
    "c = np.zeros((4))\n",
    "c"
   ]
  },
  {
   "cell_type": "code",
   "execution_count": null,
   "metadata": {},
   "outputs": [],
   "source": [
    "c[0] = c[0]+1"
   ]
  },
  {
   "cell_type": "code",
   "execution_count": null,
   "metadata": {},
   "outputs": [],
   "source": [
    "c"
   ]
  },
  {
   "cell_type": "code",
   "execution_count": null,
   "metadata": {},
   "outputs": [],
   "source": []
  }
 ],
 "metadata": {
  "kernelspec": {
   "display_name": "Python 3",
   "language": "python",
   "name": "python3"
  },
  "language_info": {
   "codemirror_mode": {
    "name": "ipython",
    "version": 3
   },
   "file_extension": ".py",
   "mimetype": "text/x-python",
   "name": "python",
   "nbconvert_exporter": "python",
   "pygments_lexer": "ipython3",
   "version": "3.7.9"
  }
 },
 "nbformat": 4,
 "nbformat_minor": 5
}
