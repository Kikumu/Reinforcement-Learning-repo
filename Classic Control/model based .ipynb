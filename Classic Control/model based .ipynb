{
 "cells": [
  {
   "cell_type": "code",
   "execution_count": 1,
   "metadata": {},
   "outputs": [],
   "source": [
    "import numpy as np\n",
    "import gym"
   ]
  },
  {
   "cell_type": "code",
   "execution_count": 2,
   "metadata": {},
   "outputs": [],
   "source": [
    "def decay_schedule(init_value,\n",
    "                   min_value,\n",
    "                   decay_ratio,\n",
    "                   max_steps,\n",
    "                   log_start = -2,\n",
    "                   log_base=10\n",
    "):\n",
    "    decay_steps = int(max_steps * decay_ratio)\n",
    "    rem_steps = max_steps - decay_steps\n",
    "    \n",
    "    values = np.logspace(log_start,\n",
    "                        0,\n",
    "                        decay_steps,\n",
    "                        base = log_base,\n",
    "                        endpoint = True)[::-1]\n",
    "    #print(value)\n",
    "    values = (values - values.min())/(values.max() - values.min())\n",
    "    values = np.pad(values, (0, rem_steps), 'edge')\n",
    "    return values"
   ]
  },
  {
   "cell_type": "code",
   "execution_count": 3,
   "metadata": {},
   "outputs": [],
   "source": [
    "def generate_trajectory(env, select_action, Q, epsilon, max_steps=200): #generate single trajectory from start to terminal state\n",
    "    done, trajectory = False, []\n",
    "    state = env.reset()\n",
    "    while not done:\n",
    "        #print(max_steps)\n",
    "        for t in range(max_steps):\n",
    "            action = select_action(state, Q, epsilon)\n",
    "            next_state, reward, done, _ = env.step(action)\n",
    "            experience = (state, action, reward, next_state)\n",
    "            trajectory.append(experience)\n",
    "            if done == True:\n",
    "                break\n",
    "            state = next_state\n",
    "    return np.array(trajectory, np.object)"
   ]
  },
  {
   "cell_type": "code",
   "execution_count": 16,
   "metadata": {},
   "outputs": [],
   "source": [
    "def dyna_q(env,\n",
    "         gamma=0.99,\n",
    "         init_alpha=0.5,\n",
    "         min_alpha=0.01,\n",
    "         alpha_decay_ratio=0.5,\n",
    "         init_epsilon=1.0,\n",
    "         min_epsilon=0.1,\n",
    "         epsilon_decay_ratio=0.5,\n",
    "         n_planning=7,\n",
    "         n_ep=3000):\n",
    "    nS, nA = env.observation_space.n, env.action_space.n\n",
    "    policy_track = []\n",
    "    Q = np.zeros((nS,nA))\n",
    "    Q_track = np.zeros((n_ep, nS, nA))\n",
    "    transition_count = np.zeros((nS, nA, nS))\n",
    "    reward_model = np.zeros((nS, nA, nS))\n",
    "    \n",
    "    select_action = lambda state, Q, epsilon: \\\n",
    "    np.argmax(Q[state]) \\\n",
    "    if np.random.random() > epsilon\\\n",
    "    else np.random.randint(len(Q[state]))\n",
    "    \n",
    "    alphas = decay_schedule(\n",
    "    init_alpha,\n",
    "    min_alpha,\n",
    "    alpha_decay_ratio,\n",
    "    n_ep)\n",
    "    \n",
    "    epsilons = decay_schedule(\n",
    "    init_epsilon,\n",
    "    min_epsilon,\n",
    "    epsilon_decay_ratio,\n",
    "    n_ep)\n",
    "    \n",
    "    for e in range(n_ep):\n",
    "        state = env.reset()\n",
    "        while True:\n",
    "            action = select_action(state, Q, epsilons[e])\n",
    "            next_state, reward,done,_ = env.step(action)\n",
    "            transition_count[state][action][next_state]+=1\n",
    "            reward_diff = reward - reward_model[state][action][next_state]\n",
    "            reward_model[state][action][next_state]+=reward_diff/transition_count[state][action][next_state]#model env reward\n",
    "            td_target=reward + gamma*np.max(Q[next_state])*(not done)#dyna Q hence the max\n",
    "            td_error =td_target-Q[state][action]\n",
    "            Q[state][action]+=alphas[e]*td_error\n",
    "            \n",
    "            backup_next_state = next_state\n",
    "            \n",
    "            for _ in range(n_planning):\n",
    "                if Q.sum==0:\n",
    "                    break\n",
    "                visited_states = np.where(\\\n",
    "                                          np.sum(transition_count, axis=(1,2))\\\n",
    "                                         > 0)[0]#look for visited states in agent model\n",
    "                state = np.random.choice(visited_states)\n",
    "                actions_taken=np.where(\\\n",
    "                                        np.sum(transition_count[state], axis=1) > 0)[0]\n",
    "                action = np.random.choice(actions_taken)\n",
    "                probs=transition_count[state][action] /transition_count[state][action].sum()\n",
    "                next_state = np.random.choice(np.arange(nS), size=1, p=probs)[0]\n",
    "                reward = reward_model[state][action][next_state]\n",
    "                td_target = reward + gamma*np.max(Q[next_state])\n",
    "                td_error = td_target - Q[state][action]\n",
    "                Q[state][action]+=alphas[e]*td_error\n",
    "            state = backup_next_state\n",
    "            if done == True:\n",
    "                break\n",
    "        V = np.max(Q, axis=1)\n",
    "    return Q,V"
   ]
  },
  {
   "cell_type": "code",
   "execution_count": 17,
   "metadata": {},
   "outputs": [],
   "source": [
    "env = gym.make(\"FrozenLake-v0\")\n",
    "Q,V = dyna_q(env, n_ep=10000)"
   ]
  },
  {
   "cell_type": "code",
   "execution_count": 20,
   "metadata": {},
   "outputs": [
    {
     "name": "stdout",
     "output_type": "stream",
     "text": [
      "  (Left)\n",
      "\u001b[41mS\u001b[0mFFF\n",
      "FHFH\n",
      "FFFH\n",
      "HFFG\n"
     ]
    },
    {
     "ename": "KeyboardInterrupt",
     "evalue": "",
     "output_type": "error",
     "traceback": [
      "\u001b[1;31m---------------------------------------------------------------------------\u001b[0m",
      "\u001b[1;31mKeyboardInterrupt\u001b[0m                         Traceback (most recent call last)",
      "\u001b[1;32m<ipython-input-20-7c3b0077cc83>\u001b[0m in \u001b[0;36m<module>\u001b[1;34m\u001b[0m\n\u001b[0;32m     12\u001b[0m         \u001b[0mclear_output\u001b[0m\u001b[1;33m(\u001b[0m\u001b[0mwait\u001b[0m\u001b[1;33m=\u001b[0m\u001b[1;32mTrue\u001b[0m\u001b[1;33m)\u001b[0m\u001b[1;33m\u001b[0m\u001b[1;33m\u001b[0m\u001b[0m\n\u001b[0;32m     13\u001b[0m         \u001b[0menv\u001b[0m\u001b[1;33m.\u001b[0m\u001b[0mrender\u001b[0m\u001b[1;33m(\u001b[0m\u001b[1;33m)\u001b[0m\u001b[1;33m\u001b[0m\u001b[1;33m\u001b[0m\u001b[0m\n\u001b[1;32m---> 14\u001b[1;33m         \u001b[0mtime\u001b[0m\u001b[1;33m.\u001b[0m\u001b[0msleep\u001b[0m\u001b[1;33m(\u001b[0m\u001b[1;36m0.5\u001b[0m\u001b[1;33m)\u001b[0m\u001b[1;33m\u001b[0m\u001b[1;33m\u001b[0m\u001b[0m\n\u001b[0m\u001b[0;32m     15\u001b[0m \u001b[1;33m\u001b[0m\u001b[0m\n\u001b[0;32m     16\u001b[0m         \u001b[0maction\u001b[0m \u001b[1;33m=\u001b[0m \u001b[0mnp\u001b[0m\u001b[1;33m.\u001b[0m\u001b[0margmax\u001b[0m\u001b[1;33m(\u001b[0m\u001b[0mq_table\u001b[0m\u001b[1;33m[\u001b[0m\u001b[0mstate\u001b[0m\u001b[1;33m,\u001b[0m \u001b[1;33m:\u001b[0m\u001b[1;33m]\u001b[0m\u001b[1;33m)\u001b[0m\u001b[1;33m\u001b[0m\u001b[1;33m\u001b[0m\u001b[0m\n",
      "\u001b[1;31mKeyboardInterrupt\u001b[0m: "
     ]
    }
   ],
   "source": [
    "q_table = Q\n",
    "\n",
    "maxStepsPerEpisode = 100\n",
    "import time\n",
    "from IPython.display import clear_output\n",
    "for episode in range(10):\n",
    "    state = env.reset()\n",
    "    print(\"EPISODE: \", episode+1)\n",
    "    time.sleep(2)\n",
    "\n",
    "    for step in range(maxStepsPerEpisode):\n",
    "        clear_output(wait=True)\n",
    "        env.render()\n",
    "        time.sleep(0.5)\n",
    "\n",
    "        action = np.argmax(q_table[state, :])\n",
    "        new_state, reward, done, info = env.step(action)\n",
    "        state = new_state\n",
    "        if done:\n",
    "            clear_output(wait=True)\n",
    "            env.render()\n",
    "            if reward == 1:\n",
    "                print(\"successfull goal\")\n",
    "                time.sleep(2)\n",
    "            elif reward == -1:\n",
    "                print(\"hole\")\n",
    "                time.sleep(2)\n",
    "            clear_output(wait=True)\n",
    "            break\n",
    "\n",
    "    state = new_state\n",
    "env.close()"
   ]
  },
  {
   "cell_type": "code",
   "execution_count": null,
   "metadata": {},
   "outputs": [],
   "source": [
    "#Q"
   ]
  },
  {
   "cell_type": "code",
   "execution_count": null,
   "metadata": {},
   "outputs": [],
   "source": []
  }
 ],
 "metadata": {
  "kernelspec": {
   "display_name": "Python 3",
   "language": "python",
   "name": "python3"
  },
  "language_info": {
   "codemirror_mode": {
    "name": "ipython",
    "version": 3
   },
   "file_extension": ".py",
   "mimetype": "text/x-python",
   "name": "python",
   "nbconvert_exporter": "python",
   "pygments_lexer": "ipython3",
   "version": "3.7.9"
  }
 },
 "nbformat": 4,
 "nbformat_minor": 4
}
