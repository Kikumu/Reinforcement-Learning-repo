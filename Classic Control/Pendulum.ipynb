{
 "cells": [
  {
   "cell_type": "code",
   "execution_count": 2,
   "metadata": {},
   "outputs": [],
   "source": [
    "%matplotlib inline\n",
    "import gym\n",
    "import math\n",
    "import random\n",
    "import numpy as np\n",
    "import matplotlib\n",
    "import matplotlib.pyplot as plt\n",
    "from collections import namedtuple\n",
    "from itertools import count\n",
    "from PIL import Image\n",
    "import torch\n",
    "import torch.nn as nn\n",
    "import torch.optim as optim\n",
    "import torch.nn.functional as F\n",
    "import torchvision.transforms as T\n",
    "from random import seed\n",
    "from sklearn import preprocessing\n",
    "seed(1)"
   ]
  },
  {
   "cell_type": "code",
   "execution_count": 3,
   "metadata": {},
   "outputs": [],
   "source": [
    "class ReplayMemory():\n",
    "    def __init__(self, capacity):\n",
    "        self.capacity = capacity\n",
    "        self.memory = []\n",
    "        self.push_count = 0\n",
    "        \n",
    "    def push(self, experience):\n",
    "        if len(self.memory) < self.capacity:\n",
    "            self.memory.append(experience)\n",
    "        else:\n",
    "            self.memory[self.push_count % self.capacity] = experience\n",
    "        self.push_count += 1\n",
    "\n",
    "    def sample(self, batch_size):\n",
    "        return random.sample(self.memory, batch_size)\n",
    "    \n",
    "    def can_provide_sample(self, batch_size):\n",
    "        return len(self.memory) >= batch_size"
   ]
  },
  {
   "cell_type": "code",
   "execution_count": 4,
   "metadata": {},
   "outputs": [],
   "source": [
    "Experience = namedtuple(\n",
    "    'Experience',\n",
    "    ('state', 'action', 'next_state', 'reward')\n",
    ")\n",
    "\n",
    "class EpsilonGreedyStrategy():\n",
    "    def __init__(self, start, end, decay):\n",
    "        self.start = start\n",
    "        self.end = end\n",
    "        self.decay = decay\n",
    "    \n",
    "    def get_exploration_rate(self, current_step):\n",
    "        return self.end + (self.start - self.end) * \\\n",
    "            math.exp(-1. * current_step * self.decay)"
   ]
  },
  {
   "cell_type": "code",
   "execution_count": 5,
   "metadata": {},
   "outputs": [],
   "source": [
    "def extract_tensors(experiences):\n",
    "    # Convert batch of Experiences to Experience of batches\n",
    "    batch = Experience(*zip(*experiences))\n",
    "\n",
    "    t1 = torch.cat(batch.state)\n",
    "    t2 = torch.cat(batch.action)\n",
    "    t3 = torch.cat(batch.reward)\n",
    "    t4 = torch.cat(batch.next_state)\n",
    "\n",
    "    return (t1,t2,t3,t4)"
   ]
  },
  {
   "cell_type": "code",
   "execution_count": 6,
   "metadata": {},
   "outputs": [],
   "source": [
    "class LSTM_V2(nn.Module):\n",
    "    def __init__(self,n_features,seq_length, linear_output, memory_size,num_layers = 2):\n",
    "        super(LSTM_V2, self).__init__()\n",
    "        self.n_features = n_features\n",
    "        self.seq_len = seq_length\n",
    "        self.linear_outputs = linear_output\n",
    "        self.batch_size = memory_size\n",
    "        self.n_hidden = 150 \n",
    "        self.num_layers = num_layers\n",
    "        self.n_hidden_fc = 100\n",
    "        \n",
    "        self.lstm = nn.LSTM(self.n_features, self.n_hidden, self.num_layers, batch_first=True)\n",
    "        self.fc   = nn.Linear(self.n_hidden,self.n_hidden_fc) \n",
    "        self.fc1  = nn.Linear(self.n_hidden_fc,self.linear_outputs)\n",
    "        \n",
    "        \n",
    "    def forward(self, x):\n",
    "        h0 = torch.zeros(self.num_layers, x.size(0), self.n_hidden).to(device) #initial hidden state\n",
    "        c0 = torch.zeros(self.num_layers, x.size(0), self.n_hidden).to(device) #initial cell state\n",
    "        lstm_hidden, _ = self.lstm(x, (h0,c0))  \n",
    "        out = lstm_hidden[:, -1, :]\n",
    "        out = self.fc(out)\n",
    "        out = self.fc1(out)\n",
    "        return out"
   ]
  },
  {
   "cell_type": "code",
   "execution_count": 7,
   "metadata": {},
   "outputs": [],
   "source": [
    "class EnvManager():\n",
    "    def __init__(self, device,environment):\n",
    "        self.device = device\n",
    "        #self.env = gym.make(environment).unwrapped\n",
    "        self.env = gym.make(environment)\n",
    "        self.env.reset()\n",
    "        self.current_screen = None\n",
    "        self.done = False\n",
    "    \n",
    "    def reset(self):\n",
    "        self.env.reset()\n",
    "        self.current_screen = None\n",
    "        \n",
    "    def close(self):\n",
    "        self.env.close()\n",
    "        \n",
    "    def render(self, mode='human'):\n",
    "        return self.env.render(mode)\n",
    "        \n",
    "    def num_actions_available(self):\n",
    "        return self.env.action_space\n",
    "        \n",
    "    def take_action(self, action):        \n",
    "        _, reward, self.done, _ = self.env.step(action)\n",
    "        return torch.tensor([reward], device=self.device)\n",
    "    \n",
    "    def just_starting(self):\n",
    "        return self.current_screen is None\n",
    "    \n",
    "    def get_state(self):\n",
    "        if self.just_starting() or self.done:\n",
    "            self.current_screen = self.get_processed_screen()\n",
    "            black_screen = torch.zeros_like(self.current_screen)\n",
    "            return black_screen\n",
    "        else:\n",
    "            s1 = self.current_screen\n",
    "            s2 = self.get_processed_screen()\n",
    "            self.current_screen = s2\n",
    "            return s2 - s1\n",
    "    \n",
    "    def get_screen_height(self):\n",
    "        screen = self.get_processed_screen()\n",
    "        return screen.shape[2]\n",
    "    \n",
    "    def get_screen_width(self):\n",
    "        screen = self.get_processed_screen()\n",
    "        return screen.shape[3]\n",
    "       \n",
    "    def get_processed_screen(self):\n",
    "        screen = em.render('rgb_array')\n",
    "        rgb_weights = [0.2989, 0.5870, 0.1140]\n",
    "        grayscale_image = np.dot(screen[...,:3], rgb_weights) \n",
    "        screen = grayscale_image.transpose((0, 1)) # PyTorch expects CHW\n",
    "        #print(type(screen)) # numpy\n",
    "        screen = self.crop_screen(screen)\n",
    "        return self.transform_screen_data(screen)\n",
    "    \n",
    "    def crop_screen(self, screen):\n",
    "        screen_height = screen.shape[0]\n",
    "        screen_width  = screen.shape[1]\n",
    "        #print('screen height(top/bottom): ',screen_height)\n",
    "        #print('screen height(left/right): ',screen_width)\n",
    "        # Strip off top and bottom\n",
    "        top = int(screen_height * 0.2)\n",
    "        #print('top: ',top)\n",
    "        bottom = int(screen_height * 0.8)\n",
    "        #print('bottom: ',bottom)\n",
    "        \n",
    "        \n",
    "        #strip off left/right\n",
    "        left  = int(screen_width * 0.2)\n",
    "        #print('left: ',left)\n",
    "        right = int(screen_width * 0.8)\n",
    "        #print('right: ',right)\n",
    "        \n",
    "        screen = screen[top:bottom, left:right]\n",
    "        return screen\n",
    "    \n",
    "    \n",
    "    def transform_screen_data(self, screen):       \n",
    "        # Convert to float, rescale, convert to tensor\n",
    "        screen = np.ascontiguousarray(screen, dtype=np.float32) / 255\n",
    "        screen = torch.from_numpy(screen)\n",
    "        \n",
    "        # Use torchvision package to compose image transforms\n",
    "        resize = T.Compose([\n",
    "            T.ToPILImage()\n",
    "            ,T.Resize((40,90))\n",
    "            ,T.ToTensor()\n",
    "        ])\n",
    "        \n",
    "        return resize(screen).unsqueeze(0).to(self.device) # add a batch dimension (BCHW)"
   ]
  },
  {
   "cell_type": "code",
   "execution_count": 13,
   "metadata": {},
   "outputs": [
    {
     "data": {
      "image/png": "[encoded data removed]",
      "text/plain": [
       "<Figure size 432x288 with 1 Axes>"
      ]
     },
     "metadata": {
      "needs_background": "light"
     },
     "output_type": "display_data"
    }
   ],
   "source": [
    "device = torch.device(\"cuda\" if torch.cuda.is_available() else \"cpu\")\n",
    "environment = 'Pendulum-v0'\n",
    "em = EnvManager(device,environment)\n",
    "em.reset()\n",
    "screen = em.render('rgb_array')\n",
    "\n",
    "\n",
    "\n",
    "\n",
    "plt.figure()\n",
    "plt.imshow(screen)\n",
    "plt.title('Non-processed screen example')\n",
    "plt.show()\n",
    "em.close()"
   ]
  },
  {
   "cell_type": "code",
   "execution_count": 25,
   "metadata": {},
   "outputs": [],
   "source": [
    "em.close()"
   ]
  },
  {
   "cell_type": "code",
   "execution_count": 14,
   "metadata": {},
   "outputs": [
    {
     "name": "stdout",
     "output_type": "stream",
     "text": [
      "tensor([[[[0.9961, 0.9961, 0.9961,  ..., 0.9961, 0.9961, 0.9961],\n",
      "          [0.9961, 0.9961, 0.9961,  ..., 0.9961, 0.9961, 0.9961],\n",
      "          [0.9961, 0.9961, 0.9961,  ..., 0.9961, 0.9961, 0.9961],\n",
      "          ...,\n",
      "          [0.9961, 0.9961, 0.9961,  ..., 0.9961, 0.9961, 0.9961],\n",
      "          [0.9961, 0.9961, 0.9961,  ..., 0.9961, 0.9961, 0.9961],\n",
      "          [0.9961, 0.9961, 0.9961,  ..., 0.9961, 0.9961, 0.9961]]]])\n"
     ]
    },
    {
     "data": {
      "image/png": "[encoded data removed]",
      "text/plain": [
       "<Figure size 432x288 with 1 Axes>"
      ]
     },
     "metadata": {
      "needs_background": "light"
     },
     "output_type": "display_data"
    }
   ],
   "source": [
    "screen = em.get_processed_screen()\n",
    "print(screen)\n",
    "plt.figure()\n",
    "plt.imshow(screen.squeeze(0).permute(1, 2, 0).cpu(), interpolation='none')\n",
    "plt.title('Processed screen example')\n",
    "plt.show()\n",
    "em.close()"
   ]
  },
  {
   "cell_type": "code",
   "execution_count": 22,
   "metadata": {},
   "outputs": [],
   "source": [
    "screen = screen.flatten()\n",
    "#for x in range(len(screen)):\n",
    "#    print(screen[x])"
   ]
  },
  {
   "cell_type": "code",
   "execution_count": 27,
   "metadata": {},
   "outputs": [],
   "source": [
    "import gym\n",
    "env = gym.make('Pendulum-v0')\n",
    "env.reset()\n",
    "for _ in range(1000):\n",
    "    env.render()\n",
    "    #print(len(env.action_space.sample()))\n",
    "    #print('next')\n",
    "    #a = [-1.4]\n",
    "    env.step(env.action_space.sample()) # take a random action\n",
    "env.close()"
   ]
  },
  {
   "cell_type": "code",
   "execution_count": 28,
   "metadata": {},
   "outputs": [],
   "source": [
    "#output is a continuous variable"
   ]
  },
  {
   "cell_type": "code",
   "execution_count": 35,
   "metadata": {},
   "outputs": [
    {
     "name": "stdout",
     "output_type": "stream",
     "text": [
      "torch.Size([1, 1, 40, 90])\n",
      "tensor([[[[0., 0., 0.,  ..., 0., 0., 0.],\n",
      "          [0., 0., 0.,  ..., 0., 0., 0.],\n",
      "          [0., 0., 0.,  ..., 0., 0., 0.],\n",
      "          ...,\n",
      "          [0., 0., 0.,  ..., 0., 0., 0.],\n",
      "          [0., 0., 0.,  ..., 0., 0., 0.],\n",
      "          [0., 0., 0.,  ..., 0., 0., 0.]]]])\n"
     ]
    },
    {
     "data": {
      "image/png": "[encoded data removed]",
      "text/plain": [
       "<Figure size 432x288 with 1 Axes>"
      ]
     },
     "metadata": {
      "needs_background": "light"
     },
     "output_type": "display_data"
    }
   ],
   "source": [
    "for i in range(5):\n",
    "    a = [-1.4]\n",
    "    em.take_action(a)\n",
    "screen = em.get_state()\n",
    "print(screen.shape)\n",
    "screen1 = preprocessing.normalize(screen.squeeze())\n",
    "print(screen)\n",
    "#screen = preprocessing.normalize(screen)\n",
    "plt.figure()\n",
    "plt.imshow(screen.squeeze(0).permute(1, 2, 0).cpu(), interpolation='none')\n",
    "plt.title('Non-starting state example')\n",
    "plt.show()\n",
    "em.close()"
   ]
  },
  {
   "cell_type": "code",
   "execution_count": 27,
   "metadata": {},
   "outputs": [],
   "source": [
    "em.close()"
   ]
  },
  {
   "cell_type": "code",
   "execution_count": 30,
   "metadata": {},
   "outputs": [
    {
     "name": "stdout",
     "output_type": "stream",
     "text": [
      "tensor([[[[0., 0., 0.,  ..., 0., 0., 0.],\n",
      "          [0., 0., 0.,  ..., 0., 0., 0.],\n",
      "          [0., 0., 0.,  ..., 0., 0., 0.],\n",
      "          ...,\n",
      "          [0., 0., 0.,  ..., 0., 0., 0.],\n",
      "          [0., 0., 0.,  ..., 0., 0., 0.],\n",
      "          [0., 0., 0.,  ..., 0., 0., 0.]]]])\n"
     ]
    },
    {
     "data": {
      "image/png": "[encoded data removed]",
      "text/plain": [
       "<Figure size 432x288 with 1 Axes>"
      ]
     },
     "metadata": {
      "needs_background": "light"
     },
     "output_type": "display_data"
    }
   ],
   "source": [
    "screen = em.get_state()\n",
    "print(screen)\n",
    "plt.figure()\n",
    "plt.imshow(screen.squeeze(0).permute(1, 2, 0).cpu(), interpolation='none')\n",
    "plt.title('Starting state example')\n",
    "plt.show()\n",
    "em.close()"
   ]
  },
  {
   "cell_type": "code",
   "execution_count": 31,
   "metadata": {},
   "outputs": [
    {
     "data": {
      "image/png": "[encoded data removed]",
      "text/plain": [
       "<Figure size 432x288 with 1 Axes>"
      ]
     },
     "metadata": {
      "needs_background": "light"
     },
     "output_type": "display_data"
    }
   ],
   "source": [
    "em.done = True\n",
    "screen = em.get_state()\n",
    "\n",
    "plt.figure()\n",
    "plt.imshow(screen.squeeze(0).permute(1, 2, 0).cpu(), interpolation='none')\n",
    "plt.title('Ending state example')\n",
    "plt.show()\n",
    "em.close()"
   ]
  },
  {
   "cell_type": "code",
   "execution_count": 28,
   "metadata": {},
   "outputs": [],
   "source": [
    "em.close()"
   ]
  },
  {
   "cell_type": "code",
   "execution_count": 8,
   "metadata": {},
   "outputs": [],
   "source": [
    "class Agent():\n",
    "    def __init__(self, strategy, device):\n",
    "        self.current_step = 0\n",
    "        self.strategy = strategy\n",
    "        self.device = device\n",
    "\n",
    "    def select_action(self, state, policy_net):\n",
    "        rate = strategy.get_exploration_rate(self.current_step)\n",
    "        self.current_step += 1\n",
    "\n",
    "        if rate > random.random():\n",
    "            action = random.uniform(-2.0,2.0)# min max torque\n",
    "            return torch.tensor([action]).to(self.device) # explore      \n",
    "        else:\n",
    "            with torch.no_grad():\n",
    "                state = state.squeeze()\n",
    "                state = state.unsqueeze(dim = 0)\n",
    "                tensors = policy_net(state).to(self.device) # exploit\n",
    "                return torch.tensor([tensors]).to(self.device)"
   ]
  },
  {
   "cell_type": "code",
   "execution_count": 9,
   "metadata": {},
   "outputs": [],
   "source": [
    "class QValues():\n",
    "    device = torch.device(\"cuda\" if torch.cuda.is_available() else \"cpu\")\n",
    "    \n",
    "    @staticmethod\n",
    "    def get_current(policy_net, states, actions):\n",
    "        states    = states.squeeze()\n",
    "        outputs   = policy_net(states)\n",
    "        actions   = actions.unsqueeze(dim = 1)\n",
    "        out_      = torch.abs(torch.sub(outputs,actions))\n",
    "        return out_\n",
    "    \n",
    "    @staticmethod        \n",
    "    def get_next(target_net, next_states):                \n",
    "        #final_state_locations = next_states.flatten(start_dim=1).max(dim=1)[0].eq(0).type(torch.bool)\n",
    "        #non_final_state_locations = (final_state_locations == False)\n",
    "        \n",
    "        #non_final_states = next_states[non_final_state_locations]\n",
    "        \n",
    "        #batch_size = next_states.shape[0]\n",
    "        #values = torch.zeros(batch_size).to(QValues.device)\n",
    "        \n",
    "        #non_final_states = non_final_states.squeeze()\n",
    "        new_outputs = target_net(next_states.squeeze()).detach()\n",
    "        \n",
    "        new_outputs = new_outputs.squeeze()\n",
    "        #values[non_final_state_locations] = new_outputs\n",
    "        return new_outputs"
   ]
  },
  {
   "cell_type": "markdown",
   "metadata": {},
   "source": [
    "# Utility Function"
   ]
  },
  {
   "cell_type": "code",
   "execution_count": null,
   "metadata": {},
   "outputs": [],
   "source": [
    "def plot(values, moving_avg_period):\n",
    "    plt.figure(2)\n",
    "    plt.clf()        \n",
    "    plt.title('Training...')\n",
    "    plt.xlabel('Episode')\n",
    "    plt.ylabel('Reward')\n",
    "    plt.plot(values)\n",
    "    \n",
    "    moving_avg = get_moving_average(moving_avg_period, values)\n",
    "    plt.plot(moving_avg)    \n",
    "    plt.pause(0.001)\n",
    "    print(\"Episode\", len(values), \"\\n\", \\\n",
    "          moving_avg_period, \"episode moving avg:\", moving_avg[-1])\n",
    "    if is_ipython: display.clear_output(wait=True)\n",
    "\n",
    "def get_moving_average(period, values):\n",
    "    values = torch.tensor(values, dtype=torch.float)\n",
    "    if len(values) >= period:\n",
    "        moving_avg = values.unfold(dimension=0, size=period, step=1) \\\n",
    "            .mean(dim=1).flatten(start_dim=0)\n",
    "        moving_avg = torch.cat((torch.zeros(period-1), moving_avg))\n",
    "        return moving_avg.numpy()\n",
    "    else:\n",
    "        moving_avg = torch.zeros(len(values))\n",
    "        return moving_avg.numpy()"
   ]
  },
  {
   "cell_type": "markdown",
   "metadata": {},
   "source": [
    "# Main"
   ]
  },
  {
   "cell_type": "code",
   "execution_count": 10,
   "metadata": {},
   "outputs": [
    {
     "name": "stdout",
     "output_type": "stream",
     "text": [
      "policy:  LSTM_V2(\n",
      "  (lstm): LSTM(90, 150, num_layers=2, batch_first=True)\n",
      "  (fc): Linear(in_features=150, out_features=100, bias=True)\n",
      "  (fc1): Linear(in_features=100, out_features=1, bias=True)\n",
      ")\n",
      "target:  LSTM_V2(\n",
      "  (lstm): LSTM(90, 150, num_layers=2, batch_first=True)\n",
      "  (fc): Linear(in_features=150, out_features=100, bias=True)\n",
      "  (fc1): Linear(in_features=100, out_features=1, bias=True)\n",
      ")\n"
     ]
    }
   ],
   "source": [
    "batch_size = 150\n",
    "gamma = 0.88\n",
    "eps_start = 1\n",
    "eps_end = 0.01\n",
    "eps_decay = 0.001\n",
    "target_update = 4\n",
    "memory_size = 10000\n",
    "lr = 0.001\n",
    "num_episodes = 1000 # run for more episodes for better results\n",
    "\n",
    "device = torch.device(\"cuda\" if torch.cuda.is_available() else \"cpu\")\n",
    "em = EnvManager(device,'Pendulum-v0')\n",
    "strategy = EpsilonGreedyStrategy(eps_start, eps_end, eps_decay)\n",
    "agent = Agent(strategy,device)\n",
    "memory = ReplayMemory(memory_size)\n",
    "output_num = 1\n",
    "\n",
    "policy_net = LSTM_V2(em.get_screen_width(),em.get_screen_height(), output_num, batch_size).to(device)\n",
    "target_net = LSTM_V2(em.get_screen_width(),em.get_screen_height(), output_num, batch_size).to(device)\n",
    "print('policy: ',policy_net)\n",
    "print('target: ',target_net)\n",
    "target_net.load_state_dict(policy_net.state_dict())\n",
    "target_net.eval()\n",
    "optimizer = optim.Adam(params=policy_net.parameters(), lr=lr)"
   ]
  },
  {
   "cell_type": "code",
   "execution_count": null,
   "metadata": {},
   "outputs": [
    {
     "name": "stdout",
     "output_type": "stream",
     "text": [
      "updating target...\n",
      "avg loss:  1.205421925759783\n",
      "avg rwrd:  -5.878131897747517\n",
      "updating target...\n",
      "avg loss:  0.4798167560994625\n",
      "avg rwrd:  -4.763836916387081\n",
      "updating target...\n",
      "avg loss:  0.5489140097796917\n",
      "avg rwrd:  -8.361948075294494\n",
      "updating target...\n",
      "avg loss:  0.5538092130422592\n",
      "avg rwrd:  -7.2504494094848635\n",
      "updating target...\n",
      "avg loss:  0.49316489025950433\n",
      "avg rwrd:  -7.205617927312851\n",
      "updating target...\n",
      "avg loss:  0.467778223156929\n",
      "avg rwrd:  -6.1741962444782255\n",
      "updating target...\n",
      "avg loss:  0.4859295217692852\n",
      "avg rwrd:  -5.132450602799654\n",
      "updating target...\n",
      "avg loss:  0.4253788743913174\n",
      "avg rwrd:  -5.332547914348543\n",
      "updating target...\n",
      "avg loss:  0.3962282109260559\n",
      "avg rwrd:  -5.8309402924776075\n",
      "updating target...\n",
      "avg loss:  0.4092306451499462\n",
      "avg rwrd:  -8.930784974098206\n",
      "updating target...\n",
      "avg loss:  0.3867805145680904\n",
      "avg rwrd:  -6.546675183773041\n",
      "updating target...\n",
      "avg loss:  0.3948408143222332\n",
      "avg rwrd:  -5.294561060070992\n",
      "updating target...\n",
      "avg loss:  0.41718988969922066\n",
      "avg rwrd:  -4.499206519369036\n",
      "updating target...\n",
      "avg loss:  0.41029776126146317\n",
      "avg rwrd:  -4.815871960222721\n",
      "updating target...\n",
      "avg loss:  0.35432366088032724\n",
      "avg rwrd:  -5.334104324579239\n",
      "updating target...\n",
      "avg loss:  0.36796287350356577\n",
      "avg rwrd:  -9.06685115814209\n",
      "updating target...\n",
      "avg loss:  0.3411585304141045\n",
      "avg rwrd:  -9.236157484054566\n",
      "updating target...\n",
      "avg loss:  0.3352995906770229\n",
      "avg rwrd:  -9.69380678653717\n",
      "updating target...\n",
      "avg loss:  0.31882013618946076\n",
      "avg rwrd:  -4.549814631901682\n",
      "updating target...\n",
      "avg loss:  0.3310556311905384\n",
      "avg rwrd:  -5.662355028092861\n",
      "updating target...\n",
      "avg loss:  0.3286065861582756\n",
      "avg rwrd:  -4.808325044307858\n",
      "updating target...\n",
      "avg loss:  0.31974418960511686\n",
      "avg rwrd:  -5.316298816725611\n",
      "updating target...\n",
      "avg loss:  0.32834106773138044\n",
      "avg rwrd:  -7.4473451185226445\n",
      "updating target...\n",
      "avg loss:  0.33199162982404234\n",
      "avg rwrd:  -5.861007298827172\n",
      "updating target...\n",
      "avg loss:  0.3239620479941368\n",
      "avg rwrd:  -8.013052537441254\n",
      "updating target...\n",
      "avg loss:  0.3176311301440001\n",
      "avg rwrd:  -5.613398010432721\n",
      "updating target...\n",
      "avg loss:  0.31332191288471223\n",
      "avg rwrd:  -6.986340428590775\n",
      "updating target...\n",
      "avg loss:  0.32678250662982467\n",
      "avg rwrd:  -6.776364606618881\n",
      "updating target...\n",
      "avg loss:  0.34218211106956004\n",
      "avg rwrd:  -7.367235608100891\n",
      "updating target...\n",
      "avg loss:  0.3383082214742899\n",
      "avg rwrd:  -5.324066067636013\n",
      "updating target...\n",
      "avg loss:  0.35017287395894525\n",
      "avg rwrd:  -4.293785058110952\n",
      "updating target...\n",
      "avg loss:  0.35852252021431924\n",
      "avg rwrd:  -8.951733770370483\n",
      "updating target...\n",
      "avg loss:  0.3493896844983101\n",
      "avg rwrd:  -5.310204505622387\n",
      "updating target...\n",
      "avg loss:  0.3541898324340582\n",
      "avg rwrd:  -5.325578755103051\n",
      "updating target...\n",
      "avg loss:  0.37696005672216415\n",
      "avg rwrd:  -5.860727922916412\n",
      "updating target...\n",
      "avg loss:  0.3476947259902954\n",
      "avg rwrd:  -6.651543684005738\n",
      "updating target...\n",
      "avg loss:  0.3431757007539272\n",
      "avg rwrd:  -4.335013002566993\n",
      "updating target...\n",
      "avg loss:  0.3507636221498251\n",
      "avg rwrd:  -5.793381431102753\n",
      "updating target...\n",
      "avg loss:  0.359277376383543\n",
      "avg rwrd:  -6.463223419189453\n",
      "updating target...\n",
      "avg loss:  0.3378372611105442\n",
      "avg rwrd:  -9.2801846408844\n",
      "updating target...\n",
      "avg loss:  0.34996015317738055\n",
      "avg rwrd:  -8.169082505702972\n",
      "updating target...\n",
      "avg loss:  0.34096409521996973\n",
      "avg rwrd:  -6.601778012514115\n",
      "updating target...\n",
      "avg loss:  0.3435562256723642\n",
      "avg rwrd:  -4.7219607324898245\n",
      "updating target...\n",
      "avg loss:  0.33739891663193705\n",
      "avg rwrd:  -9.365063891410827\n",
      "updating target...\n",
      "avg loss:  0.33261948823928833\n",
      "avg rwrd:  -4.495837461855262\n",
      "updating target...\n",
      "avg loss:  0.3342897199094296\n",
      "avg rwrd:  -5.860767903327942\n",
      "updating target...\n",
      "avg loss:  0.31581986412405966\n",
      "avg rwrd:  -4.686998858908192\n",
      "updating target...\n",
      "avg loss:  0.3303176436573267\n",
      "avg rwrd:  -5.598889344483614\n",
      "updating target...\n",
      "avg loss:  0.3319827714562416\n",
      "avg rwrd:  -4.83125973790884\n",
      "updating target...\n",
      "avg loss:  0.32880829617381097\n",
      "avg rwrd:  -8.56802401781082\n",
      "updating target...\n",
      "avg loss:  0.3311809395253658\n",
      "avg rwrd:  -5.460012212991715\n",
      "updating target...\n",
      "avg loss:  0.30755827732384206\n",
      "avg rwrd:  -6.29373935341835\n",
      "updating target...\n",
      "avg loss:  0.33727211862802503\n",
      "avg rwrd:  -5.492767540812492\n",
      "updating target...\n",
      "avg loss:  0.3363639591634274\n",
      "avg rwrd:  -4.317884384170174\n",
      "updating target...\n",
      "avg loss:  0.34479248270392415\n",
      "avg rwrd:  -4.406710059400648\n",
      "updating target...\n",
      "avg loss:  0.3520401089638472\n",
      "avg rwrd:  -6.805177147388458\n",
      "updating target...\n",
      "avg loss:  0.35049932830035685\n",
      "avg rwrd:  -9.26451443195343\n",
      "updating target...\n",
      "avg loss:  0.34707265011966226\n",
      "avg rwrd:  -5.790258221030236\n",
      "updating target...\n",
      "avg loss:  0.34558551736176013\n",
      "avg rwrd:  -7.18695169210434\n",
      "updating target...\n",
      "avg loss:  0.34324962757527827\n",
      "avg rwrd:  -6.746798025369644\n",
      "updating target...\n",
      "avg loss:  0.33078199446201323\n",
      "avg rwrd:  -4.415730606019497\n",
      "updating target...\n",
      "avg loss:  0.34596657142043113\n",
      "avg rwrd:  -5.320008761733771\n",
      "updating target...\n",
      "avg loss:  0.33850343808531763\n",
      "avg rwrd:  -5.801422722935676\n",
      "updating target...\n",
      "avg loss:  0.3367142166942358\n",
      "avg rwrd:  -5.337665778547525\n",
      "updating target...\n",
      "avg loss:  0.35739245168864725\n",
      "avg rwrd:  -8.825902576446532\n",
      "updating target...\n",
      "avg loss:  0.3386385478824377\n",
      "avg rwrd:  -9.002993850708007\n",
      "updating target...\n",
      "avg loss:  0.3416714342683554\n",
      "avg rwrd:  -5.337599410712719\n",
      "updating target...\n",
      "avg loss:  0.3420338010787964\n",
      "avg rwrd:  -5.110558162853121\n",
      "updating target...\n",
      "avg loss:  0.3519915215671062\n",
      "avg rwrd:  -4.099564179591835\n",
      "updating target...\n",
      "avg loss:  0.3484534274786711\n",
      "avg rwrd:  -5.31914709046483\n",
      "updating target...\n",
      "avg loss:  0.3437466008216143\n",
      "avg rwrd:  -4.549130805134773\n",
      "updating target...\n",
      "avg loss:  0.34884286753833293\n",
      "avg rwrd:  -5.785476461052895\n",
      "updating target...\n",
      "avg loss:  0.33868909180164336\n",
      "avg rwrd:  -5.823985729813575\n",
      "updating target...\n",
      "avg loss:  0.35554579317569734\n",
      "avg rwrd:  -5.27384773299098\n",
      "updating target...\n",
      "avg loss:  0.3498739416152239\n",
      "avg rwrd:  -4.291867853556759\n",
      "updating target...\n",
      "avg loss:  0.3499736951291561\n",
      "avg rwrd:  -5.591082907319069\n",
      "updating target...\n",
      "avg loss:  0.35164573714137076\n",
      "avg rwrd:  -7.070142700672149\n",
      "updating target...\n",
      "avg loss:  0.3388571794331074\n",
      "avg rwrd:  -6.851345018148423\n",
      "updating target...\n",
      "avg loss:  0.3363892825692892\n",
      "avg rwrd:  -7.113541514873504\n",
      "updating target...\n",
      "avg loss:  0.34006978206336497\n",
      "avg rwrd:  -7.269718766212463\n",
      "updating target...\n",
      "avg loss:  0.33400598131120207\n",
      "avg rwrd:  -5.349407277852297\n",
      "updating target...\n",
      "avg loss:  0.3331380122154951\n",
      "avg rwrd:  -6.893969913721085\n",
      "updating target...\n",
      "avg loss:  0.3278176253288984\n",
      "avg rwrd:  -7.416578207015991\n",
      "updating target...\n",
      "avg loss:  0.3270387253165245\n",
      "avg rwrd:  -5.867034291028976\n",
      "updating target...\n",
      "avg loss:  0.3443067075312138\n",
      "avg rwrd:  -4.78382766649127\n",
      "updating target...\n",
      "avg loss:  0.3355915403366089\n",
      "avg rwrd:  -4.785983521714806\n",
      "updating target...\n",
      "avg loss:  0.3461418661475182\n",
      "avg rwrd:  -5.894829672574997\n",
      "updating target...\n",
      "avg loss:  0.3395648242533207\n",
      "avg rwrd:  -5.878100377917289\n",
      "updating target...\n",
      "avg loss:  0.33682898074388506\n",
      "avg rwrd:  -5.09218347735703\n",
      "updating target...\n",
      "avg loss:  0.3339353796839714\n",
      "avg rwrd:  -5.329178504943847\n",
      "updating target...\n",
      "avg loss:  0.35749490931630135\n",
      "avg rwrd:  -4.8142018621042375\n",
      "updating target...\n",
      "avg loss:  0.33210623934864997\n",
      "avg rwrd:  -4.515681769391522\n",
      "updating target...\n",
      "avg loss:  0.3511872597038746\n",
      "avg rwrd:  -8.371196095943452\n",
      "updating target...\n",
      "avg loss:  0.3672348894923925\n",
      "avg rwrd:  -4.697140642106533\n",
      "updating target...\n",
      "avg loss:  0.34497106887400153\n",
      "avg rwrd:  -5.694007899165154\n"
     ]
    }
   ],
   "source": [
    "episode_durations = []\n",
    "for episode in range(num_episodes):\n",
    "    em.reset()\n",
    "    state = em.get_state()\n",
    "    avg = []\n",
    "    loss_arr = []\n",
    "    for timestep in count():\n",
    "        action = agent.select_action(state, policy_net)\n",
    "        reward = em.take_action(action)\n",
    "        avg.append(float(reward))\n",
    "        next_state = em.get_state()\n",
    "        \n",
    "        memory.push(Experience(state, action, next_state, reward))\n",
    "        state = next_state\n",
    "        \n",
    "        if memory.can_provide_sample(batch_size):\n",
    "            experiences = memory.sample(batch_size)\n",
    "            states, actions, rewards, next_states = extract_tensors(experiences)\n",
    "            \n",
    "            current_q_values = QValues.get_current(policy_net, states, actions)\n",
    "            next_q_values    = QValues.get_next(target_net, next_states)\n",
    "            #print('rewards: ', rewards.shape)\n",
    "            \n",
    "            rewards = preprocessing.normalize(rewards.unsqueeze(0))\n",
    "            rewards = rewards.squeeze()\n",
    "            \n",
    "            target_q_values  = (next_q_values * gamma) + rewards #value function\n",
    "            #print('cqv: ',current_q_values)\n",
    "            #print('nqv: ',next_q_values)\n",
    "            current_q_values = current_q_values.to(torch.float32)\n",
    "            target_q_values = target_q_values.to(torch.float32)\n",
    "            #print('cqvs: ',current_q_values)\n",
    "            #print('tqvs: ',target_q_values)\n",
    "            loss = F.mse_loss(current_q_values, target_q_values.unsqueeze(1))\n",
    "            loss_arr.append(loss.item())\n",
    "            #print('loss: ',loss.item())\n",
    "            optimizer.zero_grad()\n",
    "            \n",
    "            loss.backward()\n",
    "            optimizer.step()\n",
    "\n",
    "        if em.done:\n",
    "            #print('done')\n",
    "            #print('avg rwrd: ',sum(avg)/len(avg))\n",
    "            break\n",
    "\n",
    "    if episode % target_update == 0:\n",
    "        print('updating target...')\n",
    "        print('avg loss: ',sum(loss_arr)/len(loss_arr))\n",
    "        print('avg rwrd: ',sum(avg)/len(avg))\n",
    "        target_net.load_state_dict(policy_net.state_dict())\n",
    "        \n",
    "em.close()"
   ]
  },
  {
   "cell_type": "code",
   "execution_count": 11,
   "metadata": {},
   "outputs": [],
   "source": [
    "em.close()"
   ]
  },
  {
   "cell_type": "code",
   "execution_count": 39,
   "metadata": {},
   "outputs": [
    {
     "data": {
      "text/plain": [
       "__main__.Experience"
      ]
     },
     "execution_count": 39,
     "metadata": {},
     "output_type": "execute_result"
    }
   ],
   "source": [
    "Experience"
   ]
  },
  {
   "cell_type": "code",
   "execution_count": 10,
   "metadata": {},
   "outputs": [
    {
     "data": {
      "text/plain": [
       "LSTM_(\n",
       "  (lstm): LSTMCell(90, 512)\n",
       "  (lstm_1): LSTMCell(512, 512)\n",
       "  (fc): Linear(in_features=512, out_features=1, bias=True)\n",
       ")"
      ]
     },
     "execution_count": 10,
     "metadata": {},
     "output_type": "execute_result"
    }
   ],
   "source": [
    "policy_net"
   ]
  },
  {
   "cell_type": "code",
   "execution_count": 14,
   "metadata": {},
   "outputs": [
    {
     "ename": "TypeError",
     "evalue": "'module' object is not callable",
     "output_type": "error",
     "traceback": [
      "\u001b[1;31m---------------------------------------------------------------------------\u001b[0m",
      "\u001b[1;31mTypeError\u001b[0m                                 Traceback (most recent call last)",
      "\u001b[1;32m<ipython-input-14-2c5120162771>\u001b[0m in \u001b[0;36m<module>\u001b[1;34m\u001b[0m\n\u001b[0;32m      2\u001b[0m \u001b[1;31m# generate random numbers between 0-1\u001b[0m\u001b[1;33m\u001b[0m\u001b[1;33m\u001b[0m\u001b[1;33m\u001b[0m\u001b[0m\n\u001b[0;32m      3\u001b[0m \u001b[1;32mfor\u001b[0m \u001b[0m_\u001b[0m \u001b[1;32min\u001b[0m \u001b[0mrange\u001b[0m\u001b[1;33m(\u001b[0m\u001b[1;36m10\u001b[0m\u001b[1;33m)\u001b[0m\u001b[1;33m:\u001b[0m\u001b[1;33m\u001b[0m\u001b[1;33m\u001b[0m\u001b[0m\n\u001b[1;32m----> 4\u001b[1;33m         \u001b[0mvalue\u001b[0m \u001b[1;33m=\u001b[0m \u001b[0mrandom\u001b[0m\u001b[1;33m(\u001b[0m\u001b[1;33m)\u001b[0m\u001b[1;33m\u001b[0m\u001b[1;33m\u001b[0m\u001b[0m\n\u001b[0m\u001b[0;32m      5\u001b[0m         \u001b[0mprint\u001b[0m\u001b[1;33m(\u001b[0m\u001b[0mvalue\u001b[0m\u001b[1;33m)\u001b[0m\u001b[1;33m\u001b[0m\u001b[1;33m\u001b[0m\u001b[0m\n",
      "\u001b[1;31mTypeError\u001b[0m: 'module' object is not callable"
     ]
    }
   ],
   "source": [
    "seed(1)\n",
    "# generate random numbers between 0-1\n",
    "for _ in range(10):\n",
    "\tvalue = random()\n",
    "\tprint(value)"
   ]
  },
  {
   "cell_type": "code",
   "execution_count": null,
   "metadata": {},
   "outputs": [],
   "source": []
  }
 ],
 "metadata": {
  "kernelspec": {
   "display_name": "Python 3",
   "language": "python",
   "name": "python3"
  },
  "language_info": {
   "codemirror_mode": {
    "name": "ipython",
    "version": 3
   },
   "file_extension": ".py",
   "mimetype": "text/x-python",
   "name": "python",
   "nbconvert_exporter": "python",
   "pygments_lexer": "ipython3",
   "version": "3.7.9"
  }
 },
 "nbformat": 4,
 "nbformat_minor": 4
}
