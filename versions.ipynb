{
 "cells": [
  {
   "cell_type": "code",
   "execution_count": 1,
   "metadata": {},
   "outputs": [
    {
     "name": "stdout",
     "output_type": "stream",
     "text": [
      "[{'name': 'python', 'version': '3.7.9'}, {'name': 'numpy', 'version': '1.19.5'}, {'name': 'gym', 'version': '0.18.0'}, {'name': 'torch', 'version': '1.3.1+cpu'}, {'name': 'torchvision', 'version': '0.4.2+cpu'}]\n"
     ]
    }
   ],
   "source": [
    "import platform\n",
    "import numpy\n",
    "import gym\n",
    "import torch\n",
    "import torchvision\n",
    "\n",
    "versions = dict()\n",
    "versions['python'] = platform.python_version()\n",
    "versions['numpy'] = numpy.__version__\n",
    "versions['gym'] = gym.__version__\n",
    "versions['torch'] = torch.__version__\n",
    "versions['torchvision'] = torchvision.__version__\n",
    "\n",
    "packages = []\n",
    "for k, v in versions.items():\n",
    "    packages.append({\n",
    "        'name': k\n",
    "        ,'version': v\n",
    "    })\n",
    "    \n",
    "print(packages)\n",
    "\n",
    "import json\n",
    "with open(f'versions.json', 'w', encoding='utf-8') as f:\n",
    "    json.dump(packages, f, ensure_ascii=False, indent=4)"
   ]
  },
  {
   "cell_type": "code",
   "execution_count": null,
   "metadata": {},
   "outputs": [],
   "source": []
  }
 ],
 "metadata": {
  "kernelspec": {
   "display_name": "Python 3",
   "language": "python",
   "name": "python3"
  },
  "language_info": {
   "codemirror_mode": {
    "name": "ipython",
    "version": 3
   },
   "file_extension": ".py",
   "mimetype": "text/x-python",
   "name": "python",
   "nbconvert_exporter": "python",
   "pygments_lexer": "ipython3",
   "version": "3.7.9"
  }
 },
 "nbformat": 4,
 "nbformat_minor": 4
}
